{
 "cells": [
  {
   "cell_type": "code",
   "execution_count": 1915,
   "metadata": {},
   "outputs": [],
   "source": [
    "#Import libraries\n",
    "import pandas as pd\n",
    "import numpy as np\n",
    "import matplotlib.pyplot as plt\n",
    "import glob\n",
    "import re\n",
    "from collections import defaultdict"
   ]
  },
  {
   "cell_type": "code",
   "execution_count": 1916,
   "metadata": {},
   "outputs": [],
   "source": [
    "#Use one ./ if running from run_notebooks.py\n",
    "#Use two ../if running directly from Jupyter Notebooks\n",
    "#file_beg = '../NHANES-Downloader/data/csv_data/'\n",
    "\n",
    "file_beg = '../NHANES-Downloader/data/csv_data/'"
   ]
  },
  {
   "cell_type": "code",
   "execution_count": 1917,
   "metadata": {},
   "outputs": [],
   "source": [
    "#Import all the files\n",
    "files1 = glob.glob(file_beg+'1999-2000/*/*.csv')\n",
    "files2 = glob.glob(file_beg+'2001-2002/*/*.csv')\n",
    "files3 = glob.glob(file_beg+'2003-2004/*/*.csv')\n",
    "files4 = glob.glob(file_beg+'2005-2006/*/*.csv')\n",
    "files5 = glob.glob(file_beg+'2007-2008/*/*.csv')\n",
    "files6 = glob.glob(file_beg+'2009-2010/*/*.csv')\n",
    "files7 = glob.glob(file_beg+'2011-2012/*/*.csv')\n",
    "files8 = glob.glob(file_beg+'2013-2014/*/*.csv')\n",
    "files9 = glob.glob(file_beg+'2015-2016/*/*.csv')\n",
    "files10 = glob.glob(file_beg+'2017-2018/*/*.csv')"
   ]
  },
  {
   "cell_type": "code",
   "execution_count": 1918,
   "metadata": {},
   "outputs": [],
   "source": [
    "#Add files into a list\n",
    "file_list = [files1, files2, files3, files4, files5, \n",
    "          files6, files7, files8, files9, files10]"
   ]
  },
  {
   "cell_type": "code",
   "execution_count": 1919,
   "metadata": {},
   "outputs": [],
   "source": [
    "#Add files into a list of sorted and dictionaries\n",
    "file_list_dict = []\n",
    "for x in file_list:\n",
    "    x.sort()\n",
    "    file_list_dict.append(dict(enumerate(x)))"
   ]
  },
  {
   "cell_type": "code",
   "execution_count": 1920,
   "metadata": {},
   "outputs": [],
   "source": [
    "tchol_indx =  [39, 43, 55, 70, 68, 71, 76, 99, 72, 97]\n",
    "\n",
    "hdl_indx =    [40, 44, 55, 45, 44, 45, 50, 72, 44, 54]\n",
    "\n",
    "trigly_indx = [40, 44, 56, 72, 71, 76, 79, 102, 75, 99]\n",
    "\n",
    "for i in range(9,len(hdl_indx)):\n",
    "    a = pd.read_csv(file_list_dict[i][hdl_indx[i]])"
   ]
  },
  {
   "cell_type": "code",
   "execution_count": 1921,
   "metadata": {
    "scrolled": true
   },
   "outputs": [],
   "source": [
    "dfs_tc = defaultdict(int)\n",
    "dfs_hdl = defaultdict(int)\n",
    "dfs_tr = defaultdict(int)\n",
    "for i in range(0,len(tchol_indx)):\n",
    "    dfs_tc[i] = pd.read_csv(file_list_dict[i][tchol_indx[i]])\n",
    "for i in range(0,len(hdl_indx)):\n",
    "    dfs_hdl[i] = pd.read_csv(file_list_dict[i][hdl_indx[i]])\n",
    "for i in range(0,len(trigly_indx)):\n",
    "    dfs_tr[i] = pd.read_csv(file_list_dict[i][trigly_indx[i]])"
   ]
  },
  {
   "cell_type": "markdown",
   "metadata": {},
   "source": [
    "## Join Columns Together"
   ]
  },
  {
   "cell_type": "code",
   "execution_count": 1922,
   "metadata": {},
   "outputs": [],
   "source": [
    "def innerjoin_df(dfs_list):\n",
    "    df_join = dfs_list[0]\n",
    "    for d in dfs_list[1:]:\n",
    "        df_join = df_join.merge(d, how='inner', on=['SEQN'])\n",
    "    return df_join"
   ]
  },
  {
   "cell_type": "code",
   "execution_count": 1923,
   "metadata": {},
   "outputs": [],
   "source": [
    "f = innerjoin_df([dfs_tc[3], dfs_tr[3]])\n",
    "s = innerjoin_df([f, dfs_hdl[0]])"
   ]
  },
  {
   "cell_type": "code",
   "execution_count": 1924,
   "metadata": {},
   "outputs": [],
   "source": [
    "dfs = defaultdict(int)\n",
    "for i in range(0,len(dfs_tc)):\n",
    "    j = innerjoin_df([dfs_tc[i], dfs_tr[i]])\n",
    "    if (i>2):\n",
    "        df_merged = pd.merge(dfs_hdl[i], j, how='inner', left_index=True, right_index=True, suffixes=('', '_drop'))\n",
    "        df_merged.drop([col for col in df_merged.columns if 'drop' in col], axis=1, inplace=True)\n",
    "        j = df_merged\n",
    "\n",
    "    dfs[i] = j"
   ]
  },
  {
   "cell_type": "markdown",
   "metadata": {},
   "source": [
    "## Important Variables"
   ]
  },
  {
   "cell_type": "code",
   "execution_count": 1925,
   "metadata": {},
   "outputs": [],
   "source": [
    "#1999-2002\n",
    "var_names = ['SEQN', 'LBXTC', 'LBDTCSI', 'LBDHDL', 'LBDHDLSI', 'LBXTR', 'LBDTRSI', 'LBDLDL', 'LBDLDLSI']\n",
    "\n",
    "#2003-2004\n",
    "var_names1 = ['SEQN', 'LBXTC', 'LBDTCSI', 'LBXHDD', 'LBDHDDSI', 'LBXTR', 'LBDTRSI', 'LBDLDL', 'LBDLDLSI']\n",
    "\n",
    "#2005-2016\n",
    "var_names2 = ['SEQN', 'LBXTC', 'LBDTCSI', 'LBDHDD', 'LBDHDDSI', 'LBXTR', 'LBDTRSI', 'LBDLDL', 'LBDLDLSI']"
   ]
  },
  {
   "cell_type": "code",
   "execution_count": 1926,
   "metadata": {},
   "outputs": [],
   "source": [
    "#To display all columns in Jupyter Notebooks\n",
    "pd.set_option('display.max_columns', 500)"
   ]
  },
  {
   "cell_type": "markdown",
   "metadata": {},
   "source": [
    "## Functions: Recategorize values, Count Values, Drop Rows"
   ]
  },
  {
   "cell_type": "code",
   "execution_count": 1927,
   "metadata": {},
   "outputs": [],
   "source": [
    "#Recategorize function\n",
    "def recategorize(df, name, replace_dict):\n",
    "    df[name].replace(\n",
    "    to_replace=replace_dict,\n",
    "    inplace=True\n",
    ")\n",
    "    \n",
    "#Count values function\n",
    "def count_vals(df, name):\n",
    "    df_count = df.groupby(name)['SEQN'].nunique()\n",
    "    print(df_count,\"\\n\\n\",\"NaN: \", df[name].isnull().sum())\n",
    "    \n",
    "#Drop rows that include certain values\n",
    "def drop_rows(df, name, val_list):\n",
    "    df.drop(df[df[name].isin(val_list)].index, inplace=True)"
   ]
  },
  {
   "cell_type": "markdown",
   "metadata": {},
   "source": [
    "## Make a copy of the dataframes"
   ]
  },
  {
   "cell_type": "code",
   "execution_count": 1928,
   "metadata": {},
   "outputs": [],
   "source": [
    "df0 = dfs[0][var_names].copy() #1999-2000\n",
    "df1 = dfs[1][var_names].copy() #2001-2002\n",
    "df2 = dfs[2][var_names1].copy() #2003-2004\n",
    "df3 = dfs[3][var_names2].copy() #2005-2006\n",
    "df4 = dfs[4][var_names2].copy() #2007-2008\n",
    "df5 = dfs[5][var_names2].copy() #2009-2010\n",
    "df6 = dfs[6][var_names2].copy() #2011-2012\n",
    "df7 = dfs[7][var_names2].copy() #2013-2014\n",
    "df8 = dfs[8][var_names2].copy() #2015-2016\n",
    "df9 = dfs[9][var_names2].copy() #2018-2019"
   ]
  },
  {
   "cell_type": "markdown",
   "metadata": {},
   "source": [
    "## Recategorize values"
   ]
  },
  {
   "cell_type": "code",
   "execution_count": 1929,
   "metadata": {},
   "outputs": [],
   "source": [
    "#Nothing to recategorize"
   ]
  },
  {
   "cell_type": "markdown",
   "metadata": {},
   "source": [
    "## Rename columns 1999 - 2018"
   ]
  },
  {
   "cell_type": "code",
   "execution_count": 1930,
   "metadata": {},
   "outputs": [],
   "source": [
    "#New column names\n",
    "col_names = var_names"
   ]
  },
  {
   "cell_type": "code",
   "execution_count": 1931,
   "metadata": {},
   "outputs": [],
   "source": [
    "df0.columns = col_names\n",
    "df1.columns = col_names\n",
    "df2.columns = col_names\n",
    "df3.columns = col_names\n",
    "df4.columns = col_names\n",
    "df5.columns = col_names\n",
    "df6.columns = col_names\n",
    "df7.columns = col_names\n",
    "df8.columns = col_names\n",
    "df9.columns = col_names"
   ]
  },
  {
   "cell_type": "markdown",
   "metadata": {},
   "source": [
    "## Append years 1999 - 2018"
   ]
  },
  {
   "cell_type": "code",
   "execution_count": 1932,
   "metadata": {},
   "outputs": [],
   "source": [
    "years = [\"1999-2000\",\"2001-2002\",\"2003-2004\",\"2005-2006\",\"2007-2008\", \n",
    "        \"2009-2010\",\"2011-2012\",\"2013-2014\",\"2015-2016\", \"2017-2018\"]"
   ]
  },
  {
   "cell_type": "code",
   "execution_count": 1933,
   "metadata": {},
   "outputs": [],
   "source": [
    "frames = [df0, df1, df2, df3, df4, df5, df6, df7, df8, df9]"
   ]
  },
  {
   "cell_type": "code",
   "execution_count": 1934,
   "metadata": {},
   "outputs": [],
   "source": [
    "#Add years as a column\n",
    "for i, df in enumerate(frames):\n",
    "    df[\"Year\"] = years[i]"
   ]
  },
  {
   "cell_type": "code",
   "execution_count": 1935,
   "metadata": {},
   "outputs": [],
   "source": [
    "result_1999_2018 = pd.concat(frames, keys = years)"
   ]
  },
  {
   "cell_type": "code",
   "execution_count": 1936,
   "metadata": {},
   "outputs": [],
   "source": [
    "result_1999_2018_cleaned = result_1999_2018.copy()"
   ]
  },
  {
   "cell_type": "code",
   "execution_count": 1937,
   "metadata": {},
   "outputs": [
    {
     "data": {
      "text/plain": [
       "35456"
      ]
     },
     "execution_count": 1937,
     "metadata": {},
     "output_type": "execute_result"
    }
   ],
   "source": [
    "len(result_1999_2018)"
   ]
  },
  {
   "cell_type": "markdown",
   "metadata": {},
   "source": [
    "## Count values for each column"
   ]
  },
  {
   "cell_type": "code",
   "execution_count": 1938,
   "metadata": {},
   "outputs": [
    {
     "data": {
      "text/plain": [
       "9"
      ]
     },
     "execution_count": 1938,
     "metadata": {},
     "output_type": "execute_result"
    }
   ],
   "source": [
    "len(col_names)"
   ]
  },
  {
   "cell_type": "code",
   "execution_count": 1939,
   "metadata": {},
   "outputs": [
    {
     "data": {
      "text/plain": [
       "35456"
      ]
     },
     "execution_count": 1939,
     "metadata": {},
     "output_type": "execute_result"
    }
   ],
   "source": [
    "len(result_1999_2018)"
   ]
  },
  {
   "cell_type": "code",
   "execution_count": 1940,
   "metadata": {},
   "outputs": [
    {
     "data": {
      "text/html": [
       "<div>\n",
       "<style scoped>\n",
       "    .dataframe tbody tr th:only-of-type {\n",
       "        vertical-align: middle;\n",
       "    }\n",
       "\n",
       "    .dataframe tbody tr th {\n",
       "        vertical-align: top;\n",
       "    }\n",
       "\n",
       "    .dataframe thead th {\n",
       "        text-align: right;\n",
       "    }\n",
       "</style>\n",
       "<table border=\"1\" class=\"dataframe\">\n",
       "  <thead>\n",
       "    <tr style=\"text-align: right;\">\n",
       "      <th></th>\n",
       "      <th></th>\n",
       "      <th>SEQN</th>\n",
       "      <th>LBXTC</th>\n",
       "      <th>LBDTCSI</th>\n",
       "      <th>LBDHDL</th>\n",
       "      <th>LBDHDLSI</th>\n",
       "      <th>LBXTR</th>\n",
       "      <th>LBDTRSI</th>\n",
       "      <th>LBDLDL</th>\n",
       "      <th>LBDLDLSI</th>\n",
       "      <th>Year</th>\n",
       "    </tr>\n",
       "  </thead>\n",
       "  <tbody>\n",
       "    <tr>\n",
       "      <th rowspan=\"5\" valign=\"top\">1999-2000</th>\n",
       "      <th>0</th>\n",
       "      <td>2.0</td>\n",
       "      <td>215.0</td>\n",
       "      <td>5.56</td>\n",
       "      <td>54.0</td>\n",
       "      <td>1.39</td>\n",
       "      <td>128.0</td>\n",
       "      <td>1.45</td>\n",
       "      <td>136.0</td>\n",
       "      <td>3.52</td>\n",
       "      <td>1999-2000</td>\n",
       "    </tr>\n",
       "    <tr>\n",
       "      <th>1</th>\n",
       "      <td>3.0</td>\n",
       "      <td>129.0</td>\n",
       "      <td>3.34</td>\n",
       "      <td>30.0</td>\n",
       "      <td>0.78</td>\n",
       "      <td>202.0</td>\n",
       "      <td>2.28</td>\n",
       "      <td>58.0</td>\n",
       "      <td>1.50</td>\n",
       "      <td>1999-2000</td>\n",
       "    </tr>\n",
       "    <tr>\n",
       "      <th>2</th>\n",
       "      <td>5.0</td>\n",
       "      <td>279.0</td>\n",
       "      <td>7.21</td>\n",
       "      <td>42.0</td>\n",
       "      <td>1.08</td>\n",
       "      <td>347.0</td>\n",
       "      <td>3.92</td>\n",
       "      <td>168.0</td>\n",
       "      <td>4.34</td>\n",
       "      <td>1999-2000</td>\n",
       "    </tr>\n",
       "    <tr>\n",
       "      <th>3</th>\n",
       "      <td>7.0</td>\n",
       "      <td>245.0</td>\n",
       "      <td>6.34</td>\n",
       "      <td>105.0</td>\n",
       "      <td>2.73</td>\n",
       "      <td>62.0</td>\n",
       "      <td>0.70</td>\n",
       "      <td>127.0</td>\n",
       "      <td>3.28</td>\n",
       "      <td>1999-2000</td>\n",
       "    </tr>\n",
       "    <tr>\n",
       "      <th>4</th>\n",
       "      <td>8.0</td>\n",
       "      <td>162.0</td>\n",
       "      <td>4.19</td>\n",
       "      <td>67.0</td>\n",
       "      <td>1.74</td>\n",
       "      <td>33.0</td>\n",
       "      <td>0.37</td>\n",
       "      <td>88.0</td>\n",
       "      <td>2.28</td>\n",
       "      <td>1999-2000</td>\n",
       "    </tr>\n",
       "  </tbody>\n",
       "</table>\n",
       "</div>"
      ],
      "text/plain": [
       "             SEQN  LBXTC  LBDTCSI  LBDHDL  LBDHDLSI  LBXTR  LBDTRSI  LBDLDL  \\\n",
       "1999-2000 0   2.0  215.0     5.56    54.0      1.39  128.0     1.45   136.0   \n",
       "          1   3.0  129.0     3.34    30.0      0.78  202.0     2.28    58.0   \n",
       "          2   5.0  279.0     7.21    42.0      1.08  347.0     3.92   168.0   \n",
       "          3   7.0  245.0     6.34   105.0      2.73   62.0     0.70   127.0   \n",
       "          4   8.0  162.0     4.19    67.0      1.74   33.0     0.37    88.0   \n",
       "\n",
       "             LBDLDLSI       Year  \n",
       "1999-2000 0      3.52  1999-2000  \n",
       "          1      1.50  1999-2000  \n",
       "          2      4.34  1999-2000  \n",
       "          3      3.28  1999-2000  \n",
       "          4      2.28  1999-2000  "
      ]
     },
     "execution_count": 1940,
     "metadata": {},
     "output_type": "execute_result"
    }
   ],
   "source": [
    "result_1999_2018_cleaned[:5]"
   ]
  },
  {
   "cell_type": "markdown",
   "metadata": {},
   "source": [
    "## Remove rows with missing values:"
   ]
  },
  {
   "cell_type": "code",
   "execution_count": 1941,
   "metadata": {},
   "outputs": [],
   "source": [
    "for i in range (1, len(col_names)):\n",
    "    drop_rows(result_1999_2018_cleaned, col_names[i], [np.nan])"
   ]
  },
  {
   "cell_type": "code",
   "execution_count": 1942,
   "metadata": {},
   "outputs": [
    {
     "data": {
      "text/plain": [
       "29419"
      ]
     },
     "execution_count": 1942,
     "metadata": {},
     "output_type": "execute_result"
    }
   ],
   "source": [
    "len(result_1999_2018_cleaned)"
   ]
  },
  {
   "cell_type": "code",
   "execution_count": 1943,
   "metadata": {},
   "outputs": [
    {
     "data": {
      "text/plain": [
       "False"
      ]
     },
     "execution_count": 1943,
     "metadata": {},
     "output_type": "execute_result"
    }
   ],
   "source": [
    "result_1999_2018_cleaned.isnull().values.any()"
   ]
  },
  {
   "cell_type": "markdown",
   "metadata": {},
   "source": [
    "## See percentage of removed values"
   ]
  },
  {
   "cell_type": "code",
   "execution_count": 1944,
   "metadata": {},
   "outputs": [
    {
     "data": {
      "text/plain": [
       "35456"
      ]
     },
     "execution_count": 1944,
     "metadata": {},
     "output_type": "execute_result"
    }
   ],
   "source": [
    "before = len(result_1999_2018)\n",
    "before"
   ]
  },
  {
   "cell_type": "code",
   "execution_count": 1945,
   "metadata": {},
   "outputs": [
    {
     "data": {
      "text/plain": [
       "29419"
      ]
     },
     "execution_count": 1945,
     "metadata": {},
     "output_type": "execute_result"
    }
   ],
   "source": [
    "after = len(result_1999_2018_cleaned)\n",
    "after"
   ]
  },
  {
   "cell_type": "code",
   "execution_count": 1946,
   "metadata": {},
   "outputs": [
    {
     "data": {
      "text/plain": [
       "0.20520751895033823"
      ]
     },
     "execution_count": 1946,
     "metadata": {},
     "output_type": "execute_result"
    }
   ],
   "source": [
    "(before-after)/after"
   ]
  },
  {
   "cell_type": "code",
   "execution_count": 1947,
   "metadata": {},
   "outputs": [
    {
     "data": {
      "text/html": [
       "<div>\n",
       "<style scoped>\n",
       "    .dataframe tbody tr th:only-of-type {\n",
       "        vertical-align: middle;\n",
       "    }\n",
       "\n",
       "    .dataframe tbody tr th {\n",
       "        vertical-align: top;\n",
       "    }\n",
       "\n",
       "    .dataframe thead th {\n",
       "        text-align: right;\n",
       "    }\n",
       "</style>\n",
       "<table border=\"1\" class=\"dataframe\">\n",
       "  <thead>\n",
       "    <tr style=\"text-align: right;\">\n",
       "      <th></th>\n",
       "      <th></th>\n",
       "      <th>SEQN</th>\n",
       "      <th>LBXTC</th>\n",
       "      <th>LBDTCSI</th>\n",
       "      <th>LBDHDL</th>\n",
       "      <th>LBDHDLSI</th>\n",
       "      <th>LBXTR</th>\n",
       "      <th>LBDTRSI</th>\n",
       "      <th>LBDLDL</th>\n",
       "      <th>LBDLDLSI</th>\n",
       "      <th>Year</th>\n",
       "    </tr>\n",
       "  </thead>\n",
       "  <tbody>\n",
       "    <tr>\n",
       "      <th rowspan=\"5\" valign=\"top\">1999-2000</th>\n",
       "      <th>0</th>\n",
       "      <td>2.0</td>\n",
       "      <td>215.0</td>\n",
       "      <td>5.56</td>\n",
       "      <td>54.0</td>\n",
       "      <td>1.39</td>\n",
       "      <td>128.0</td>\n",
       "      <td>1.450</td>\n",
       "      <td>136.0</td>\n",
       "      <td>3.520</td>\n",
       "      <td>1999-2000</td>\n",
       "    </tr>\n",
       "    <tr>\n",
       "      <th>1</th>\n",
       "      <td>3.0</td>\n",
       "      <td>129.0</td>\n",
       "      <td>3.34</td>\n",
       "      <td>30.0</td>\n",
       "      <td>0.78</td>\n",
       "      <td>202.0</td>\n",
       "      <td>2.280</td>\n",
       "      <td>58.0</td>\n",
       "      <td>1.500</td>\n",
       "      <td>1999-2000</td>\n",
       "    </tr>\n",
       "    <tr>\n",
       "      <th>2</th>\n",
       "      <td>5.0</td>\n",
       "      <td>279.0</td>\n",
       "      <td>7.21</td>\n",
       "      <td>42.0</td>\n",
       "      <td>1.08</td>\n",
       "      <td>347.0</td>\n",
       "      <td>3.920</td>\n",
       "      <td>168.0</td>\n",
       "      <td>4.340</td>\n",
       "      <td>1999-2000</td>\n",
       "    </tr>\n",
       "    <tr>\n",
       "      <th>3</th>\n",
       "      <td>7.0</td>\n",
       "      <td>245.0</td>\n",
       "      <td>6.34</td>\n",
       "      <td>105.0</td>\n",
       "      <td>2.73</td>\n",
       "      <td>62.0</td>\n",
       "      <td>0.700</td>\n",
       "      <td>127.0</td>\n",
       "      <td>3.280</td>\n",
       "      <td>1999-2000</td>\n",
       "    </tr>\n",
       "    <tr>\n",
       "      <th>4</th>\n",
       "      <td>8.0</td>\n",
       "      <td>162.0</td>\n",
       "      <td>4.19</td>\n",
       "      <td>67.0</td>\n",
       "      <td>1.74</td>\n",
       "      <td>33.0</td>\n",
       "      <td>0.370</td>\n",
       "      <td>88.0</td>\n",
       "      <td>2.280</td>\n",
       "      <td>1999-2000</td>\n",
       "    </tr>\n",
       "    <tr>\n",
       "      <th>...</th>\n",
       "      <th>...</th>\n",
       "      <td>...</td>\n",
       "      <td>...</td>\n",
       "      <td>...</td>\n",
       "      <td>...</td>\n",
       "      <td>...</td>\n",
       "      <td>...</td>\n",
       "      <td>...</td>\n",
       "      <td>...</td>\n",
       "      <td>...</td>\n",
       "      <td>...</td>\n",
       "    </tr>\n",
       "    <tr>\n",
       "      <th rowspan=\"5\" valign=\"top\">2017-2018</th>\n",
       "      <th>3030</th>\n",
       "      <td>97441.0</td>\n",
       "      <td>116.0</td>\n",
       "      <td>3.00</td>\n",
       "      <td>147.0</td>\n",
       "      <td>3.80</td>\n",
       "      <td>49.0</td>\n",
       "      <td>0.553</td>\n",
       "      <td>67.0</td>\n",
       "      <td>1.733</td>\n",
       "      <td>2017-2018</td>\n",
       "    </tr>\n",
       "    <tr>\n",
       "      <th>3032</th>\n",
       "      <td>97443.0</td>\n",
       "      <td>209.0</td>\n",
       "      <td>5.40</td>\n",
       "      <td>90.0</td>\n",
       "      <td>2.33</td>\n",
       "      <td>52.0</td>\n",
       "      <td>0.587</td>\n",
       "      <td>123.0</td>\n",
       "      <td>3.181</td>\n",
       "      <td>2017-2018</td>\n",
       "    </tr>\n",
       "    <tr>\n",
       "      <th>3033</th>\n",
       "      <td>97444.0</td>\n",
       "      <td>119.0</td>\n",
       "      <td>3.08</td>\n",
       "      <td>67.0</td>\n",
       "      <td>1.73</td>\n",
       "      <td>78.0</td>\n",
       "      <td>0.881</td>\n",
       "      <td>43.0</td>\n",
       "      <td>1.112</td>\n",
       "      <td>2017-2018</td>\n",
       "    </tr>\n",
       "    <tr>\n",
       "      <th>3034</th>\n",
       "      <td>97445.0</td>\n",
       "      <td>172.0</td>\n",
       "      <td>4.45</td>\n",
       "      <td>45.0</td>\n",
       "      <td>1.16</td>\n",
       "      <td>49.0</td>\n",
       "      <td>0.553</td>\n",
       "      <td>108.0</td>\n",
       "      <td>2.793</td>\n",
       "      <td>2017-2018</td>\n",
       "    </tr>\n",
       "    <tr>\n",
       "      <th>3035</th>\n",
       "      <td>97446.0</td>\n",
       "      <td>163.0</td>\n",
       "      <td>4.22</td>\n",
       "      <td>46.0</td>\n",
       "      <td>1.19</td>\n",
       "      <td>269.0</td>\n",
       "      <td>3.037</td>\n",
       "      <td>75.0</td>\n",
       "      <td>1.940</td>\n",
       "      <td>2017-2018</td>\n",
       "    </tr>\n",
       "  </tbody>\n",
       "</table>\n",
       "<p>29419 rows × 10 columns</p>\n",
       "</div>"
      ],
      "text/plain": [
       "                   SEQN  LBXTC  LBDTCSI  LBDHDL  LBDHDLSI  LBXTR  LBDTRSI  \\\n",
       "1999-2000 0         2.0  215.0     5.56    54.0      1.39  128.0    1.450   \n",
       "          1         3.0  129.0     3.34    30.0      0.78  202.0    2.280   \n",
       "          2         5.0  279.0     7.21    42.0      1.08  347.0    3.920   \n",
       "          3         7.0  245.0     6.34   105.0      2.73   62.0    0.700   \n",
       "          4         8.0  162.0     4.19    67.0      1.74   33.0    0.370   \n",
       "...                 ...    ...      ...     ...       ...    ...      ...   \n",
       "2017-2018 3030  97441.0  116.0     3.00   147.0      3.80   49.0    0.553   \n",
       "          3032  97443.0  209.0     5.40    90.0      2.33   52.0    0.587   \n",
       "          3033  97444.0  119.0     3.08    67.0      1.73   78.0    0.881   \n",
       "          3034  97445.0  172.0     4.45    45.0      1.16   49.0    0.553   \n",
       "          3035  97446.0  163.0     4.22    46.0      1.19  269.0    3.037   \n",
       "\n",
       "                LBDLDL  LBDLDLSI       Year  \n",
       "1999-2000 0      136.0     3.520  1999-2000  \n",
       "          1       58.0     1.500  1999-2000  \n",
       "          2      168.0     4.340  1999-2000  \n",
       "          3      127.0     3.280  1999-2000  \n",
       "          4       88.0     2.280  1999-2000  \n",
       "...                ...       ...        ...  \n",
       "2017-2018 3030    67.0     1.733  2017-2018  \n",
       "          3032   123.0     3.181  2017-2018  \n",
       "          3033    43.0     1.112  2017-2018  \n",
       "          3034   108.0     2.793  2017-2018  \n",
       "          3035    75.0     1.940  2017-2018  \n",
       "\n",
       "[29419 rows x 10 columns]"
      ]
     },
     "execution_count": 1947,
     "metadata": {},
     "output_type": "execute_result"
    }
   ],
   "source": [
    "result_1999_2018_cleaned"
   ]
  },
  {
   "cell_type": "markdown",
   "metadata": {},
   "source": [
    "## Remove Duplicated Measurements"
   ]
  },
  {
   "cell_type": "code",
   "execution_count": 1948,
   "metadata": {},
   "outputs": [
    {
     "data": {
      "text/html": [
       "<div>\n",
       "<style scoped>\n",
       "    .dataframe tbody tr th:only-of-type {\n",
       "        vertical-align: middle;\n",
       "    }\n",
       "\n",
       "    .dataframe tbody tr th {\n",
       "        vertical-align: top;\n",
       "    }\n",
       "\n",
       "    .dataframe thead th {\n",
       "        text-align: right;\n",
       "    }\n",
       "</style>\n",
       "<table border=\"1\" class=\"dataframe\">\n",
       "  <thead>\n",
       "    <tr style=\"text-align: right;\">\n",
       "      <th></th>\n",
       "      <th></th>\n",
       "      <th>SEQN</th>\n",
       "      <th>LBXTC</th>\n",
       "      <th>LBDTCSI</th>\n",
       "      <th>LBDHDL</th>\n",
       "      <th>LBDHDLSI</th>\n",
       "      <th>LBXTR</th>\n",
       "      <th>LBDTRSI</th>\n",
       "      <th>LBDLDL</th>\n",
       "      <th>LBDLDLSI</th>\n",
       "      <th>Year</th>\n",
       "    </tr>\n",
       "  </thead>\n",
       "  <tbody>\n",
       "    <tr>\n",
       "      <th rowspan=\"5\" valign=\"top\">1999-2000</th>\n",
       "      <th>0</th>\n",
       "      <td>2.0</td>\n",
       "      <td>215.0</td>\n",
       "      <td>5.56</td>\n",
       "      <td>54.0</td>\n",
       "      <td>1.39</td>\n",
       "      <td>128.0</td>\n",
       "      <td>1.45</td>\n",
       "      <td>136.0</td>\n",
       "      <td>3.52</td>\n",
       "      <td>1999-2000</td>\n",
       "    </tr>\n",
       "    <tr>\n",
       "      <th>1</th>\n",
       "      <td>3.0</td>\n",
       "      <td>129.0</td>\n",
       "      <td>3.34</td>\n",
       "      <td>30.0</td>\n",
       "      <td>0.78</td>\n",
       "      <td>202.0</td>\n",
       "      <td>2.28</td>\n",
       "      <td>58.0</td>\n",
       "      <td>1.50</td>\n",
       "      <td>1999-2000</td>\n",
       "    </tr>\n",
       "    <tr>\n",
       "      <th>2</th>\n",
       "      <td>5.0</td>\n",
       "      <td>279.0</td>\n",
       "      <td>7.21</td>\n",
       "      <td>42.0</td>\n",
       "      <td>1.08</td>\n",
       "      <td>347.0</td>\n",
       "      <td>3.92</td>\n",
       "      <td>168.0</td>\n",
       "      <td>4.34</td>\n",
       "      <td>1999-2000</td>\n",
       "    </tr>\n",
       "    <tr>\n",
       "      <th>3</th>\n",
       "      <td>7.0</td>\n",
       "      <td>245.0</td>\n",
       "      <td>6.34</td>\n",
       "      <td>105.0</td>\n",
       "      <td>2.73</td>\n",
       "      <td>62.0</td>\n",
       "      <td>0.70</td>\n",
       "      <td>127.0</td>\n",
       "      <td>3.28</td>\n",
       "      <td>1999-2000</td>\n",
       "    </tr>\n",
       "    <tr>\n",
       "      <th>4</th>\n",
       "      <td>8.0</td>\n",
       "      <td>162.0</td>\n",
       "      <td>4.19</td>\n",
       "      <td>67.0</td>\n",
       "      <td>1.74</td>\n",
       "      <td>33.0</td>\n",
       "      <td>0.37</td>\n",
       "      <td>88.0</td>\n",
       "      <td>2.28</td>\n",
       "      <td>1999-2000</td>\n",
       "    </tr>\n",
       "  </tbody>\n",
       "</table>\n",
       "</div>"
      ],
      "text/plain": [
       "             SEQN  LBXTC  LBDTCSI  LBDHDL  LBDHDLSI  LBXTR  LBDTRSI  LBDLDL  \\\n",
       "1999-2000 0   2.0  215.0     5.56    54.0      1.39  128.0     1.45   136.0   \n",
       "          1   3.0  129.0     3.34    30.0      0.78  202.0     2.28    58.0   \n",
       "          2   5.0  279.0     7.21    42.0      1.08  347.0     3.92   168.0   \n",
       "          3   7.0  245.0     6.34   105.0      2.73   62.0     0.70   127.0   \n",
       "          4   8.0  162.0     4.19    67.0      1.74   33.0     0.37    88.0   \n",
       "\n",
       "             LBDLDLSI       Year  \n",
       "1999-2000 0      3.52  1999-2000  \n",
       "          1      1.50  1999-2000  \n",
       "          2      4.34  1999-2000  \n",
       "          3      3.28  1999-2000  \n",
       "          4      2.28  1999-2000  "
      ]
     },
     "execution_count": 1948,
     "metadata": {},
     "output_type": "execute_result"
    }
   ],
   "source": [
    "result_1999_2018_cleaned.head()"
   ]
  },
  {
   "cell_type": "code",
   "execution_count": 1949,
   "metadata": {},
   "outputs": [
    {
     "data": {
      "text/plain": [
       "['SEQN',\n",
       " 'LBXTC',\n",
       " 'LBDTCSI',\n",
       " 'LBDHDL',\n",
       " 'LBDHDLSI',\n",
       " 'LBXTR',\n",
       " 'LBDTRSI',\n",
       " 'LBDLDL',\n",
       " 'LBDLDLSI',\n",
       " 'Year']"
      ]
     },
     "execution_count": 1949,
     "metadata": {},
     "output_type": "execute_result"
    }
   ],
   "source": [
    "sub_names = list(result_1999_2018.columns)\n",
    "sub_names"
   ]
  },
  {
   "cell_type": "code",
   "execution_count": 1950,
   "metadata": {},
   "outputs": [],
   "source": [
    "mg_dl = [0,1,3,5,7,9]\n",
    "sub_names = [sub_names[x] for x in mg_dl]"
   ]
  },
  {
   "cell_type": "code",
   "execution_count": 1951,
   "metadata": {},
   "outputs": [],
   "source": [
    "result_1999_2016_cleaned = result_1999_2018_cleaned[sub_names]"
   ]
  },
  {
   "cell_type": "markdown",
   "metadata": {},
   "source": [
    "## MongoDB Insertion"
   ]
  },
  {
   "cell_type": "code",
   "execution_count": 1952,
   "metadata": {},
   "outputs": [],
   "source": [
    "#Import MongoClient\n",
    "from pymongo import MongoClient"
   ]
  },
  {
   "cell_type": "code",
   "execution_count": 1953,
   "metadata": {},
   "outputs": [],
   "source": [
    "#Create a MongoClient to run the MongoDB instance\n",
    "client = MongoClient(\"localhost\", 27017)"
   ]
  },
  {
   "cell_type": "code",
   "execution_count": 1954,
   "metadata": {},
   "outputs": [
    {
     "data": {
      "text/plain": [
       "MongoClient(host=['localhost:27017'], document_class=dict, tz_aware=False, connect=True)"
      ]
     },
     "execution_count": 1954,
     "metadata": {},
     "output_type": "execute_result"
    }
   ],
   "source": [
    "client"
   ]
  },
  {
   "cell_type": "code",
   "execution_count": 1955,
   "metadata": {},
   "outputs": [
    {
     "data": {
      "text/plain": [
       "Database(MongoClient(host=['localhost:27017'], document_class=dict, tz_aware=False, connect=True), 'NHANES')"
      ]
     },
     "execution_count": 1955,
     "metadata": {},
     "output_type": "execute_result"
    }
   ],
   "source": [
    "#Creating a database\n",
    "db = client['NHANES']\n",
    "db"
   ]
  },
  {
   "cell_type": "code",
   "execution_count": 1956,
   "metadata": {},
   "outputs": [
    {
     "data": {
      "text/plain": [
       "['hiq',\n",
       " 'alq',\n",
       " 'drxtot',\n",
       " 'smqfam',\n",
       " 'smq',\n",
       " 'tchol',\n",
       " 'bpq',\n",
       " 'bmx',\n",
       " 'huq',\n",
       " 'bpx',\n",
       " 'mcq_h',\n",
       " 'paq',\n",
       " 'demo_p',\n",
       " 'mcq_a',\n",
       " 'mcq_b',\n",
       " 'rdq',\n",
       " 'demo',\n",
       " 'diq',\n",
       " 'mcq_c']"
      ]
     },
     "execution_count": 1956,
     "metadata": {},
     "output_type": "execute_result"
    }
   ],
   "source": [
    "db.list_collection_names()"
   ]
  },
  {
   "cell_type": "code",
   "execution_count": 1957,
   "metadata": {},
   "outputs": [],
   "source": [
    "#Creating a collection\n",
    "tchol = db.tchol"
   ]
  },
  {
   "cell_type": "code",
   "execution_count": 1958,
   "metadata": {},
   "outputs": [],
   "source": [
    "#If collections exist, then drop\n",
    "if 'tchol' in db.list_collection_names():\n",
    "    tchol.drop()\n",
    "    db.list_collection_names()"
   ]
  },
  {
   "cell_type": "markdown",
   "metadata": {},
   "source": [
    "## Inputting into DB"
   ]
  },
  {
   "cell_type": "code",
   "execution_count": 1959,
   "metadata": {},
   "outputs": [
    {
     "name": "stderr",
     "output_type": "stream",
     "text": [
      "/Library/Frameworks/Python.framework/Versions/3.10/lib/python3.10/site-packages/pandas/core/frame.py:5039: SettingWithCopyWarning: \n",
      "A value is trying to be set on a copy of a slice from a DataFrame\n",
      "\n",
      "See the caveats in the documentation: https://pandas.pydata.org/pandas-docs/stable/user_guide/indexing.html#returning-a-view-versus-a-copy\n",
      "  return super().rename(\n"
     ]
    }
   ],
   "source": [
    "result_1999_2016_cleaned.rename(columns= {'SEQN':'_id'}, inplace=True)"
   ]
  },
  {
   "cell_type": "code",
   "execution_count": 1960,
   "metadata": {},
   "outputs": [
    {
     "data": {
      "text/html": [
       "<div>\n",
       "<style scoped>\n",
       "    .dataframe tbody tr th:only-of-type {\n",
       "        vertical-align: middle;\n",
       "    }\n",
       "\n",
       "    .dataframe tbody tr th {\n",
       "        vertical-align: top;\n",
       "    }\n",
       "\n",
       "    .dataframe thead th {\n",
       "        text-align: right;\n",
       "    }\n",
       "</style>\n",
       "<table border=\"1\" class=\"dataframe\">\n",
       "  <thead>\n",
       "    <tr style=\"text-align: right;\">\n",
       "      <th></th>\n",
       "      <th></th>\n",
       "      <th>_id</th>\n",
       "      <th>LBXTC</th>\n",
       "      <th>LBDHDL</th>\n",
       "      <th>LBXTR</th>\n",
       "      <th>LBDLDL</th>\n",
       "      <th>Year</th>\n",
       "    </tr>\n",
       "  </thead>\n",
       "  <tbody>\n",
       "    <tr>\n",
       "      <th rowspan=\"3\" valign=\"top\">1999-2000</th>\n",
       "      <th>0</th>\n",
       "      <td>2.0</td>\n",
       "      <td>215.0</td>\n",
       "      <td>54.0</td>\n",
       "      <td>128.0</td>\n",
       "      <td>136.0</td>\n",
       "      <td>1999-2000</td>\n",
       "    </tr>\n",
       "    <tr>\n",
       "      <th>1</th>\n",
       "      <td>3.0</td>\n",
       "      <td>129.0</td>\n",
       "      <td>30.0</td>\n",
       "      <td>202.0</td>\n",
       "      <td>58.0</td>\n",
       "      <td>1999-2000</td>\n",
       "    </tr>\n",
       "    <tr>\n",
       "      <th>2</th>\n",
       "      <td>5.0</td>\n",
       "      <td>279.0</td>\n",
       "      <td>42.0</td>\n",
       "      <td>347.0</td>\n",
       "      <td>168.0</td>\n",
       "      <td>1999-2000</td>\n",
       "    </tr>\n",
       "  </tbody>\n",
       "</table>\n",
       "</div>"
      ],
      "text/plain": [
       "             _id  LBXTC  LBDHDL  LBXTR  LBDLDL       Year\n",
       "1999-2000 0  2.0  215.0    54.0  128.0   136.0  1999-2000\n",
       "          1  3.0  129.0    30.0  202.0    58.0  1999-2000\n",
       "          2  5.0  279.0    42.0  347.0   168.0  1999-2000"
      ]
     },
     "execution_count": 1960,
     "metadata": {},
     "output_type": "execute_result"
    }
   ],
   "source": [
    "result_1999_2016_cleaned[:3]"
   ]
  },
  {
   "cell_type": "code",
   "execution_count": 1961,
   "metadata": {},
   "outputs": [],
   "source": [
    "tchol_dict = result_1999_2016_cleaned.to_dict(orient='records')"
   ]
  },
  {
   "cell_type": "code",
   "execution_count": 1962,
   "metadata": {
    "scrolled": true
   },
   "outputs": [
    {
     "data": {
      "text/plain": [
       "{'_id': 2.0,\n",
       " 'LBXTC': 215.0,\n",
       " 'LBDHDL': 54.0,\n",
       " 'LBXTR': 128.0,\n",
       " 'LBDLDL': 136.0,\n",
       " 'Year': '1999-2000'}"
      ]
     },
     "execution_count": 1962,
     "metadata": {},
     "output_type": "execute_result"
    }
   ],
   "source": [
    "tchol_dict[0]"
   ]
  },
  {
   "cell_type": "code",
   "execution_count": 1963,
   "metadata": {},
   "outputs": [
    {
     "data": {
      "text/plain": [
       "<pymongo.results.InsertManyResult at 0x1548ab400>"
      ]
     },
     "execution_count": 1963,
     "metadata": {},
     "output_type": "execute_result"
    }
   ],
   "source": [
    "#Insert collection\n",
    "tchol.insert_many(tchol_dict)"
   ]
  },
  {
   "cell_type": "code",
   "execution_count": 1964,
   "metadata": {
    "scrolled": false
   },
   "outputs": [
    {
     "data": {
      "text/plain": [
       "['hiq',\n",
       " 'alq',\n",
       " 'drxtot',\n",
       " 'smqfam',\n",
       " 'smq',\n",
       " 'bpq',\n",
       " 'bmx',\n",
       " 'huq',\n",
       " 'bpx',\n",
       " 'mcq_h',\n",
       " 'tchol',\n",
       " 'paq',\n",
       " 'demo_p',\n",
       " 'mcq_a',\n",
       " 'mcq_b',\n",
       " 'rdq',\n",
       " 'demo',\n",
       " 'diq',\n",
       " 'mcq_c']"
      ]
     },
     "execution_count": 1964,
     "metadata": {},
     "output_type": "execute_result"
    }
   ],
   "source": [
    "db.list_collection_names()"
   ]
  }
 ],
 "metadata": {
  "kernelspec": {
   "display_name": "Python 3",
   "language": "python",
   "name": "python3"
  },
  "language_info": {
   "codemirror_mode": {
    "name": "ipython",
    "version": 3
   },
   "file_extension": ".py",
   "mimetype": "text/x-python",
   "name": "python",
   "nbconvert_exporter": "python",
   "pygments_lexer": "ipython3",
   "version": "3.10.2"
  }
 },
 "nbformat": 4,
 "nbformat_minor": 2
}
