{
 "cells": [
  {
   "cell_type": "code",
   "execution_count": 531,
   "metadata": {},
   "outputs": [],
   "source": [
    "#Import libraries\n",
    "import pandas as pd\n",
    "import numpy as np\n",
    "import matplotlib.pyplot as plt\n",
    "import glob\n",
    "import re\n",
    "from collections import defaultdict"
   ]
  },
  {
   "cell_type": "code",
   "execution_count": 532,
   "metadata": {},
   "outputs": [],
   "source": [
    "#Use one ./ if running from run_notebooks.py\n",
    "#Use two ../if running directly from Jupyter Notebooks\n",
    "#file_beg = '../NHANES-Downloader/data/csv_data/'\n",
    "\n",
    "file_beg = '../NHANES-Downloader/data/csv_data/'"
   ]
  },
  {
   "cell_type": "code",
   "execution_count": 533,
   "metadata": {},
   "outputs": [],
   "source": [
    "#Import all the files\n",
    "files1 = glob.glob(file_beg+'1999-2000/*/*.csv')\n",
    "files2 = glob.glob(file_beg+'2001-2002/*/*.csv')\n",
    "files3 = glob.glob(file_beg+'2003-2004/*/*.csv')\n",
    "files4 = glob.glob(file_beg+'2005-2006/*/*.csv')\n",
    "files5 = glob.glob(file_beg+'2007-2008/*/*.csv')\n",
    "files6 = glob.glob(file_beg+'2009-2010/*/*.csv')\n",
    "files7 = glob.glob(file_beg+'2011-2012/*/*.csv')\n",
    "files8 = glob.glob(file_beg+'2013-2014/*/*.csv')\n",
    "files9 = glob.glob(file_beg+'2015-2016/*/*.csv')\n",
    "files10 = glob.glob(file_beg+'2017-2018/*/*.csv')"
   ]
  },
  {
   "cell_type": "code",
   "execution_count": 534,
   "metadata": {},
   "outputs": [],
   "source": [
    "#Add files into a list\n",
    "file_list = [files1, files2, files3, files4, files5, \n",
    "          files6, files7, files8, files9, files10]"
   ]
  },
  {
   "cell_type": "code",
   "execution_count": 535,
   "metadata": {},
   "outputs": [],
   "source": [
    "#Add files into a list of sorted and dictionaries\n",
    "file_list_dict = []\n",
    "for x in file_list:\n",
    "    x.sort()\n",
    "    file_list_dict.append(dict(enumerate(x)))"
   ]
  },
  {
   "cell_type": "code",
   "execution_count": 536,
   "metadata": {},
   "outputs": [],
   "source": [
    "demo_indx = [0, 0, 0, 0, 0, 0, 0, 0, 0, 0]"
   ]
  },
  {
   "cell_type": "code",
   "execution_count": 537,
   "metadata": {},
   "outputs": [],
   "source": [
    "dfs = defaultdict(int)\n",
    "for i in range(0,len(demo_indx)):\n",
    "    dfs[i] = pd.read_csv(file_list_dict[i][demo_indx[i]])"
   ]
  },
  {
   "cell_type": "markdown",
   "metadata": {},
   "source": [
    "## Important Variables"
   ]
  },
  {
   "cell_type": "code",
   "execution_count": 538,
   "metadata": {},
   "outputs": [],
   "source": [
    "#EDIT: Removed INDHHINC from each after DMDHHSIZ and before INDFMINC\n",
    "#EDIT: Removed INDHHIN2 from each after DMDHHSIZ and before INDFMIN2\n",
    "#EDIT: Removed DMDAGE before DMDREDU before WT variable\n",
    "\n",
    "#1999-2002\n",
    "var_names = [\"SEQN\", \"RIAGENDR\", \"RIDAGEYR\", \"RIDRETH1\", \"DMDBORN\", \"DMDCITZN\", \"DMDHHSIZ\", \"INDFMINC\", \"DMDHREDU\", \"WTINT4YR\", \"WTMEC4YR\", \"RIDSTATR\", \"SDMVPSU\", \"SDMVSTRA\"]\n",
    "\n",
    "#2003-2006\n",
    "#RIDRETH1 is the only race/ethnicity variable in the 2005-2006 Demographics data file. The Demographics files that were released for NHANES 1999-2004 had a variable called ‘RIDRETH2’ that provided an analytic link to the NHANES III race/ethnicity variable.\n",
    "var_names1 = [\"SEQN\", \"RIAGENDR\", \"RIDAGEYR\", \"RIDRETH1\", \"DMDBORN\", \"DMDCITZN\", \"DMDHHSIZ\", \"INDFMINC\", \"DMDHREDU\", \"WTINT2YR\", \"WTMEC2YR\", \"RIDSTATR\", \"SDMVPSU\", \"SDMVSTRA\"]\n",
    "\n",
    "#2007-2010\n",
    "#DMDHRBRN becomes DMDBORN2\n",
    "#Recategorize DMDHBRN\n",
    "#INDFMINC becomes INDFMIN2 - Recategorize 14 and 15 to 11 to match 1999-2006\n",
    "#INDHHINC becomes INDHHIN2 - Recategorize 14 and 15 to 11 to match 1999-2006\n",
    "var_names2 = [\"SEQN\", \"RIAGENDR\", \"RIDAGEYR\", \"RIDRETH1\", \"DMDBORN2\", \"DMDCITZN\", \"DMDHHSIZ\", \"INDFMIN2\", \"DMDHREDU\", \"WTINT2YR\", \"WTMEC2YR\", \"RIDSTATR\", \"SDMVPSU\", \"SDMVSTRA\"]\n",
    "\n",
    "#2011-2016\n",
    "#DMDHRBRN4 becomes 2 categories\n",
    "#Recategorize all previous\n",
    "var_names3 = [\"SEQN\", \"RIAGENDR\", \"RIDAGEYR\", \"RIDRETH1\", \"DMDBORN4\", \"DMDCITZN\", \"DMDHHSIZ\", \"INDFMIN2\", \"DMDHREDU\", \"WTINT2YR\", \"WTMEC2YR\", \"RIDSTATR\", \"SDMVPSU\", \"SDMVSTRA\"]\n",
    "\n",
    "#2017-2018\n",
    "#DMDHRBRN4 becomes 2 categories\n",
    "#DMDHREDU becomes DMDHREDZ\n",
    "#Recategorize all previous\n",
    "var_names4 = [\"SEQN\", \"RIAGENDR\", \"RIDAGEYR\", \"RIDRETH1\", \"DMDBORN4\", \"DMDCITZN\", \"DMDHHSIZ\", \"INDFMIN2\", \"DMDHREDZ\", \"WTINT2YR\", \"WTMEC2YR\", \"RIDSTATR\", \"SDMVPSU\", \"SDMVSTRA\"]\n",
    "\n",
    "descr = ['SEQN', 'Gender', 'Age at Screening (Years)', 'Race/Hispanic Origin', 'Country of Birth', 'Citizenship Status','Total Number of People in the Household','Annual Family Income','Education Level','Two Year Int. Weight','Two Year MEC Weight','Loc. of Interview','Masked Variance','Masked Variance Pseudo-Stratum']"
   ]
  },
  {
   "cell_type": "code",
   "execution_count": 539,
   "metadata": {},
   "outputs": [],
   "source": [
    "#To display all columns in Jupyter Notebooks\n",
    "pd.set_option('display.max_columns', 500)"
   ]
  },
  {
   "cell_type": "markdown",
   "metadata": {},
   "source": [
    "## Functions: Recategorize values, Count Values, Drop Rows"
   ]
  },
  {
   "cell_type": "code",
   "execution_count": 540,
   "metadata": {},
   "outputs": [],
   "source": [
    "#Recategorize function\n",
    "def recategorize(df, name, replace_dict):\n",
    "    df[name].replace(\n",
    "    to_replace=replace_dict,\n",
    "    inplace=True\n",
    ")\n",
    "    \n",
    "#Count values function\n",
    "def count_vals(df, name):\n",
    "    df_count = df.groupby(name)['SEQN'].nunique()\n",
    "    print(df_count,\"\\n\\n\",\"NaN: \", df[name].isnull().sum())\n",
    "    \n",
    "#Drop rows that include certain values\n",
    "def drop_rows(df, name, val_list):\n",
    "    df.drop(df[df[name].isin(val_list)].index, inplace=True)"
   ]
  },
  {
   "cell_type": "markdown",
   "metadata": {},
   "source": [
    "## Make a copy of the dataframes"
   ]
  },
  {
   "cell_type": "code",
   "execution_count": 541,
   "metadata": {},
   "outputs": [],
   "source": [
    "df0 = dfs[0][var_names].copy() #1999-2000\n",
    "df1 = dfs[1][var_names].copy() #2001-2002\n",
    "df2 = dfs[2][var_names1].copy() #2003-2004\n",
    "df3 = dfs[3][var_names1].copy() #2005-2006\n",
    "df4 = dfs[4][var_names2].copy() #2007-2008\n",
    "df5 = dfs[5][var_names2].copy() #2009-2010\n",
    "df6 = dfs[6][var_names3].copy() #2011-2012\n",
    "df7 = dfs[7][var_names3].copy() #2013-2014\n",
    "df8 = dfs[8][var_names3].copy() #2015-2016\n",
    "df9 = dfs[9][var_names4].copy() #2017-2018"
   ]
  },
  {
   "cell_type": "code",
   "execution_count": 542,
   "metadata": {},
   "outputs": [
    {
     "data": {
      "text/plain": [
       "(9965, 14)"
      ]
     },
     "execution_count": 542,
     "metadata": {},
     "output_type": "execute_result"
    }
   ],
   "source": [
    "df0.shape"
   ]
  },
  {
   "cell_type": "code",
   "execution_count": 543,
   "metadata": {},
   "outputs": [
    {
     "data": {
      "text/plain": [
       "(9971, 14)"
      ]
     },
     "execution_count": 543,
     "metadata": {},
     "output_type": "execute_result"
    }
   ],
   "source": [
    "df8.shape"
   ]
  },
  {
   "cell_type": "markdown",
   "metadata": {},
   "source": [
    "# Take data of only RIDSTATR = 2; Where individual was both interviewed and MEC examined"
   ]
  },
  {
   "cell_type": "code",
   "execution_count": 544,
   "metadata": {},
   "outputs": [],
   "source": [
    "df0 = df0[df0['RIDSTATR']==2] #1999-2000\n",
    "df1 = df1[df1['RIDSTATR']==2] #2001-2002\n",
    "df2 = df2[df2['RIDSTATR']==2] #2003-2004\n",
    "df3 = df3[df3['RIDSTATR']==2] #2005-2006\n",
    "df4 = df4[df4['RIDSTATR']==2] #2007-2008\n",
    "df5 = df5[df5['RIDSTATR']==2] #2009-2010\n",
    "df6 = df6[df6['RIDSTATR']==2] #2011-2012\n",
    "df7 = df7[df7['RIDSTATR']==2] #2013-2014\n",
    "df8 = df8[df8['RIDSTATR']==2] #2015-2016"
   ]
  },
  {
   "cell_type": "markdown",
   "metadata": {},
   "source": [
    "## Weight for 18-years: 1999 - 2018"
   ]
  },
  {
   "cell_type": "code",
   "execution_count": 545,
   "metadata": {},
   "outputs": [],
   "source": [
    "#Create column for weight\n",
    "def reweight(df, col_name, year_wt, weight):\n",
    "    df[col_name] = df[year_wt]*weight"
   ]
  },
  {
   "cell_type": "code",
   "execution_count": 546,
   "metadata": {},
   "outputs": [],
   "source": [
    "reweight(df0, 'MEC18YR', 'WTMEC4YR', 2/9)\n",
    "reweight(df1, 'MEC18YR', 'WTMEC4YR', 2/9)\n",
    "reweight(df2, 'MEC18YR', 'WTMEC2YR', 1/9)\n",
    "reweight(df3, 'MEC18YR', 'WTMEC2YR', 1/9)\n",
    "reweight(df4, 'MEC18YR', 'WTMEC2YR', 1/9)\n",
    "reweight(df5, 'MEC18YR', 'WTMEC2YR', 1/9)\n",
    "reweight(df6, 'MEC18YR', 'WTMEC2YR', 1/9)\n",
    "reweight(df7, 'MEC18YR', 'WTMEC2YR', 1/9)\n",
    "reweight(df8, 'MEC18YR', 'WTMEC2YR', 1/9)\n",
    "reweight(df9, 'MEC18YR', 'WTMEC2YR', 1/9)"
   ]
  },
  {
   "cell_type": "markdown",
   "metadata": {},
   "source": [
    "## Remove 2-yr and 4-yr weights"
   ]
  },
  {
   "cell_type": "code",
   "execution_count": 547,
   "metadata": {},
   "outputs": [],
   "source": [
    "#Drop columns\n",
    "def drop_cols(df, cols):\n",
    "    df.drop(cols, axis=1, inplace=True)"
   ]
  },
  {
   "cell_type": "code",
   "execution_count": 548,
   "metadata": {},
   "outputs": [],
   "source": [
    "drop_cols(df0,['WTINT4YR','WTMEC4YR'])\n",
    "drop_cols(df1,['WTINT4YR','WTMEC4YR'])"
   ]
  },
  {
   "cell_type": "code",
   "execution_count": 549,
   "metadata": {},
   "outputs": [],
   "source": [
    "drop_cols(df2,['WTINT2YR','WTMEC2YR'])\n",
    "drop_cols(df3,['WTINT2YR','WTMEC2YR'])\n",
    "drop_cols(df4,['WTINT2YR','WTMEC2YR'])\n",
    "drop_cols(df5,['WTINT2YR','WTMEC2YR'])\n",
    "drop_cols(df6,['WTINT2YR','WTMEC2YR'])\n",
    "drop_cols(df7,['WTINT2YR','WTMEC2YR'])\n",
    "drop_cols(df8,['WTINT2YR','WTMEC2YR'])\n",
    "drop_cols(df9,['WTINT2YR','WTMEC2YR'])"
   ]
  },
  {
   "cell_type": "code",
   "execution_count": 550,
   "metadata": {},
   "outputs": [
    {
     "data": {
      "text/html": [
       "<div>\n",
       "<style scoped>\n",
       "    .dataframe tbody tr th:only-of-type {\n",
       "        vertical-align: middle;\n",
       "    }\n",
       "\n",
       "    .dataframe tbody tr th {\n",
       "        vertical-align: top;\n",
       "    }\n",
       "\n",
       "    .dataframe thead th {\n",
       "        text-align: right;\n",
       "    }\n",
       "</style>\n",
       "<table border=\"1\" class=\"dataframe\">\n",
       "  <thead>\n",
       "    <tr style=\"text-align: right;\">\n",
       "      <th></th>\n",
       "      <th>SEQN</th>\n",
       "      <th>RIAGENDR</th>\n",
       "      <th>RIDAGEYR</th>\n",
       "      <th>RIDRETH1</th>\n",
       "      <th>DMDBORN</th>\n",
       "      <th>DMDCITZN</th>\n",
       "      <th>DMDHHSIZ</th>\n",
       "      <th>INDFMINC</th>\n",
       "      <th>DMDHREDU</th>\n",
       "      <th>RIDSTATR</th>\n",
       "      <th>SDMVPSU</th>\n",
       "      <th>SDMVSTRA</th>\n",
       "      <th>MEC18YR</th>\n",
       "    </tr>\n",
       "  </thead>\n",
       "  <tbody>\n",
       "    <tr>\n",
       "      <th>0</th>\n",
       "      <td>1.0</td>\n",
       "      <td>2.0</td>\n",
       "      <td>2.0</td>\n",
       "      <td>4.0</td>\n",
       "      <td>1.0</td>\n",
       "      <td>1.0</td>\n",
       "      <td>3.0</td>\n",
       "      <td>3.0</td>\n",
       "      <td>3.0</td>\n",
       "      <td>2.0</td>\n",
       "      <td>1.0</td>\n",
       "      <td>5.0</td>\n",
       "      <td>990.268132</td>\n",
       "    </tr>\n",
       "    <tr>\n",
       "      <th>1</th>\n",
       "      <td>2.0</td>\n",
       "      <td>1.0</td>\n",
       "      <td>77.0</td>\n",
       "      <td>3.0</td>\n",
       "      <td>1.0</td>\n",
       "      <td>1.0</td>\n",
       "      <td>1.0</td>\n",
       "      <td>8.0</td>\n",
       "      <td>5.0</td>\n",
       "      <td>2.0</td>\n",
       "      <td>3.0</td>\n",
       "      <td>1.0</td>\n",
       "      <td>3408.044382</td>\n",
       "    </tr>\n",
       "    <tr>\n",
       "      <th>2</th>\n",
       "      <td>3.0</td>\n",
       "      <td>2.0</td>\n",
       "      <td>10.0</td>\n",
       "      <td>3.0</td>\n",
       "      <td>3.0</td>\n",
       "      <td>2.0</td>\n",
       "      <td>4.0</td>\n",
       "      <td>6.0</td>\n",
       "      <td>4.0</td>\n",
       "      <td>2.0</td>\n",
       "      <td>2.0</td>\n",
       "      <td>7.0</td>\n",
       "      <td>4724.103694</td>\n",
       "    </tr>\n",
       "    <tr>\n",
       "      <th>3</th>\n",
       "      <td>4.0</td>\n",
       "      <td>1.0</td>\n",
       "      <td>1.0</td>\n",
       "      <td>4.0</td>\n",
       "      <td>1.0</td>\n",
       "      <td>1.0</td>\n",
       "      <td>7.0</td>\n",
       "      <td>3.0</td>\n",
       "      <td>3.0</td>\n",
       "      <td>2.0</td>\n",
       "      <td>1.0</td>\n",
       "      <td>2.0</td>\n",
       "      <td>1013.864237</td>\n",
       "    </tr>\n",
       "    <tr>\n",
       "      <th>4</th>\n",
       "      <td>5.0</td>\n",
       "      <td>1.0</td>\n",
       "      <td>49.0</td>\n",
       "      <td>3.0</td>\n",
       "      <td>1.0</td>\n",
       "      <td>1.0</td>\n",
       "      <td>3.0</td>\n",
       "      <td>11.0</td>\n",
       "      <td>4.0</td>\n",
       "      <td>2.0</td>\n",
       "      <td>2.0</td>\n",
       "      <td>8.0</td>\n",
       "      <td>10219.103963</td>\n",
       "    </tr>\n",
       "  </tbody>\n",
       "</table>\n",
       "</div>"
      ],
      "text/plain": [
       "   SEQN  RIAGENDR  RIDAGEYR  RIDRETH1  DMDBORN  DMDCITZN  DMDHHSIZ  INDFMINC  \\\n",
       "0   1.0       2.0       2.0       4.0      1.0       1.0       3.0       3.0   \n",
       "1   2.0       1.0      77.0       3.0      1.0       1.0       1.0       8.0   \n",
       "2   3.0       2.0      10.0       3.0      3.0       2.0       4.0       6.0   \n",
       "3   4.0       1.0       1.0       4.0      1.0       1.0       7.0       3.0   \n",
       "4   5.0       1.0      49.0       3.0      1.0       1.0       3.0      11.0   \n",
       "\n",
       "   DMDHREDU  RIDSTATR  SDMVPSU  SDMVSTRA       MEC18YR  \n",
       "0       3.0       2.0      1.0       5.0    990.268132  \n",
       "1       5.0       2.0      3.0       1.0   3408.044382  \n",
       "2       4.0       2.0      2.0       7.0   4724.103694  \n",
       "3       3.0       2.0      1.0       2.0   1013.864237  \n",
       "4       4.0       2.0      2.0       8.0  10219.103963  "
      ]
     },
     "execution_count": 550,
     "metadata": {},
     "output_type": "execute_result"
    }
   ],
   "source": [
    "df0[:5]"
   ]
  },
  {
   "cell_type": "markdown",
   "metadata": {},
   "source": [
    "## Recategorize values"
   ]
  },
  {
   "cell_type": "code",
   "execution_count": 551,
   "metadata": {},
   "outputs": [],
   "source": [
    "#Recategorize DMDBORN to 2 categories\n",
    "recategorize(df0, 'DMDBORN', {3:2, 7:77, 9:99}) #1999-2000\n",
    "recategorize(df1, 'DMDBORN', {3:2, 7:77, 9:99}) #2001-2002\n",
    "recategorize(df2, 'DMDBORN', {3:2, 7:77, 9:99}) #2003-2004\n",
    "recategorize(df3, 'DMDBORN', {3:2, 7:77, 9:99}) #2005-2006\n",
    "\n",
    "\n",
    "#Recategorize DMDBORN2 to 2 categories\n",
    "#Recategorize INHHIN2 to INDHHINC\n",
    "#Recategorize INDFMIN2 to INDFMINC\n",
    "\n",
    "#2007-2008\n",
    "recategorize(df4, 'DMDBORN2', {4:2, 5:2, 7:77, 9:99})\n",
    "#recategorize(df4, 'INDHHIN2', {14:11, 15:11})\n",
    "recategorize(df4, 'INDFMIN2', {14:11, 15:11})\n",
    "\n",
    "#2009-2010\n",
    "recategorize(df5, 'DMDBORN2', {4:2, 5:2, 7:77, 9:99})\n",
    "#recategorize(df5, 'INDHHIN2', {14:11, 15:11})\n",
    "recategorize(df5, 'INDFMIN2', {14:11, 15:11})\n",
    "\n",
    "#2011-2012\n",
    "#recategorize(df6, 'INDHHIN2', {14:11, 15:11})\n",
    "recategorize(df6, 'INDFMIN2', {14:11, 15:11})\n",
    "\n",
    "#2013-2014\n",
    "#recategorize(df7, 'INDHHIN2', {14:11, 15:11})\n",
    "recategorize(df7, 'INDFMIN2', {14:11, 15:11})\n",
    "\n",
    "#2015-2016\n",
    "#recategorize(df8, 'INDHHIN2', {14:11, 15:11})\n",
    "recategorize(df8, 'INDFMIN2', {14:11, 15:11})\n",
    "\n",
    "#2017-2018\n",
    "#recategorize(df9, 'INDHHIN2', {14:11, 15:11})\n",
    "recategorize(df9, 'INDFMIN2', {14:11, 15:11})"
   ]
  },
  {
   "cell_type": "markdown",
   "metadata": {},
   "source": [
    "## Rename columns 1999 - 2018"
   ]
  },
  {
   "cell_type": "code",
   "execution_count": 552,
   "metadata": {},
   "outputs": [
    {
     "data": {
      "text/html": [
       "<div>\n",
       "<style scoped>\n",
       "    .dataframe tbody tr th:only-of-type {\n",
       "        vertical-align: middle;\n",
       "    }\n",
       "\n",
       "    .dataframe tbody tr th {\n",
       "        vertical-align: top;\n",
       "    }\n",
       "\n",
       "    .dataframe thead th {\n",
       "        text-align: right;\n",
       "    }\n",
       "</style>\n",
       "<table border=\"1\" class=\"dataframe\">\n",
       "  <thead>\n",
       "    <tr style=\"text-align: right;\">\n",
       "      <th></th>\n",
       "      <th>SEQN</th>\n",
       "      <th>RIAGENDR</th>\n",
       "      <th>RIDAGEYR</th>\n",
       "      <th>RIDRETH1</th>\n",
       "      <th>DMDBORN</th>\n",
       "      <th>DMDCITZN</th>\n",
       "      <th>DMDHHSIZ</th>\n",
       "      <th>INDFMINC</th>\n",
       "      <th>DMDHREDU</th>\n",
       "      <th>RIDSTATR</th>\n",
       "      <th>SDMVPSU</th>\n",
       "      <th>SDMVSTRA</th>\n",
       "      <th>MEC18YR</th>\n",
       "    </tr>\n",
       "  </thead>\n",
       "  <tbody>\n",
       "    <tr>\n",
       "      <th>0</th>\n",
       "      <td>1.0</td>\n",
       "      <td>2.0</td>\n",
       "      <td>2.0</td>\n",
       "      <td>4.0</td>\n",
       "      <td>1.0</td>\n",
       "      <td>1.0</td>\n",
       "      <td>3.0</td>\n",
       "      <td>3.0</td>\n",
       "      <td>3.0</td>\n",
       "      <td>2.0</td>\n",
       "      <td>1.0</td>\n",
       "      <td>5.0</td>\n",
       "      <td>990.268132</td>\n",
       "    </tr>\n",
       "    <tr>\n",
       "      <th>1</th>\n",
       "      <td>2.0</td>\n",
       "      <td>1.0</td>\n",
       "      <td>77.0</td>\n",
       "      <td>3.0</td>\n",
       "      <td>1.0</td>\n",
       "      <td>1.0</td>\n",
       "      <td>1.0</td>\n",
       "      <td>8.0</td>\n",
       "      <td>5.0</td>\n",
       "      <td>2.0</td>\n",
       "      <td>3.0</td>\n",
       "      <td>1.0</td>\n",
       "      <td>3408.044382</td>\n",
       "    </tr>\n",
       "    <tr>\n",
       "      <th>2</th>\n",
       "      <td>3.0</td>\n",
       "      <td>2.0</td>\n",
       "      <td>10.0</td>\n",
       "      <td>3.0</td>\n",
       "      <td>2.0</td>\n",
       "      <td>2.0</td>\n",
       "      <td>4.0</td>\n",
       "      <td>6.0</td>\n",
       "      <td>4.0</td>\n",
       "      <td>2.0</td>\n",
       "      <td>2.0</td>\n",
       "      <td>7.0</td>\n",
       "      <td>4724.103694</td>\n",
       "    </tr>\n",
       "    <tr>\n",
       "      <th>3</th>\n",
       "      <td>4.0</td>\n",
       "      <td>1.0</td>\n",
       "      <td>1.0</td>\n",
       "      <td>4.0</td>\n",
       "      <td>1.0</td>\n",
       "      <td>1.0</td>\n",
       "      <td>7.0</td>\n",
       "      <td>3.0</td>\n",
       "      <td>3.0</td>\n",
       "      <td>2.0</td>\n",
       "      <td>1.0</td>\n",
       "      <td>2.0</td>\n",
       "      <td>1013.864237</td>\n",
       "    </tr>\n",
       "    <tr>\n",
       "      <th>4</th>\n",
       "      <td>5.0</td>\n",
       "      <td>1.0</td>\n",
       "      <td>49.0</td>\n",
       "      <td>3.0</td>\n",
       "      <td>1.0</td>\n",
       "      <td>1.0</td>\n",
       "      <td>3.0</td>\n",
       "      <td>11.0</td>\n",
       "      <td>4.0</td>\n",
       "      <td>2.0</td>\n",
       "      <td>2.0</td>\n",
       "      <td>8.0</td>\n",
       "      <td>10219.103963</td>\n",
       "    </tr>\n",
       "    <tr>\n",
       "      <th>...</th>\n",
       "      <td>...</td>\n",
       "      <td>...</td>\n",
       "      <td>...</td>\n",
       "      <td>...</td>\n",
       "      <td>...</td>\n",
       "      <td>...</td>\n",
       "      <td>...</td>\n",
       "      <td>...</td>\n",
       "      <td>...</td>\n",
       "      <td>...</td>\n",
       "      <td>...</td>\n",
       "      <td>...</td>\n",
       "      <td>...</td>\n",
       "    </tr>\n",
       "    <tr>\n",
       "      <th>9959</th>\n",
       "      <td>9960.0</td>\n",
       "      <td>1.0</td>\n",
       "      <td>85.0</td>\n",
       "      <td>1.0</td>\n",
       "      <td>2.0</td>\n",
       "      <td>1.0</td>\n",
       "      <td>3.0</td>\n",
       "      <td>2.0</td>\n",
       "      <td>1.0</td>\n",
       "      <td>2.0</td>\n",
       "      <td>1.0</td>\n",
       "      <td>4.0</td>\n",
       "      <td>333.674902</td>\n",
       "    </tr>\n",
       "    <tr>\n",
       "      <th>9960</th>\n",
       "      <td>9961.0</td>\n",
       "      <td>1.0</td>\n",
       "      <td>36.0</td>\n",
       "      <td>2.0</td>\n",
       "      <td>2.0</td>\n",
       "      <td>2.0</td>\n",
       "      <td>4.0</td>\n",
       "      <td>7.0</td>\n",
       "      <td>1.0</td>\n",
       "      <td>2.0</td>\n",
       "      <td>2.0</td>\n",
       "      <td>7.0</td>\n",
       "      <td>8134.398689</td>\n",
       "    </tr>\n",
       "    <tr>\n",
       "      <th>9961</th>\n",
       "      <td>9962.0</td>\n",
       "      <td>1.0</td>\n",
       "      <td>4.0</td>\n",
       "      <td>3.0</td>\n",
       "      <td>1.0</td>\n",
       "      <td>1.0</td>\n",
       "      <td>4.0</td>\n",
       "      <td>9.0</td>\n",
       "      <td>5.0</td>\n",
       "      <td>2.0</td>\n",
       "      <td>2.0</td>\n",
       "      <td>1.0</td>\n",
       "      <td>5331.970521</td>\n",
       "    </tr>\n",
       "    <tr>\n",
       "      <th>9963</th>\n",
       "      <td>9964.0</td>\n",
       "      <td>1.0</td>\n",
       "      <td>11.0</td>\n",
       "      <td>3.0</td>\n",
       "      <td>1.0</td>\n",
       "      <td>1.0</td>\n",
       "      <td>3.0</td>\n",
       "      <td>2.0</td>\n",
       "      <td>4.0</td>\n",
       "      <td>2.0</td>\n",
       "      <td>2.0</td>\n",
       "      <td>3.0</td>\n",
       "      <td>5923.058204</td>\n",
       "    </tr>\n",
       "    <tr>\n",
       "      <th>9964</th>\n",
       "      <td>9965.0</td>\n",
       "      <td>2.0</td>\n",
       "      <td>84.0</td>\n",
       "      <td>3.0</td>\n",
       "      <td>1.0</td>\n",
       "      <td>1.0</td>\n",
       "      <td>1.0</td>\n",
       "      <td>3.0</td>\n",
       "      <td>3.0</td>\n",
       "      <td>2.0</td>\n",
       "      <td>1.0</td>\n",
       "      <td>5.0</td>\n",
       "      <td>3574.482432</td>\n",
       "    </tr>\n",
       "  </tbody>\n",
       "</table>\n",
       "<p>9282 rows × 13 columns</p>\n",
       "</div>"
      ],
      "text/plain": [
       "        SEQN  RIAGENDR  RIDAGEYR  RIDRETH1  DMDBORN  DMDCITZN  DMDHHSIZ  \\\n",
       "0        1.0       2.0       2.0       4.0      1.0       1.0       3.0   \n",
       "1        2.0       1.0      77.0       3.0      1.0       1.0       1.0   \n",
       "2        3.0       2.0      10.0       3.0      2.0       2.0       4.0   \n",
       "3        4.0       1.0       1.0       4.0      1.0       1.0       7.0   \n",
       "4        5.0       1.0      49.0       3.0      1.0       1.0       3.0   \n",
       "...      ...       ...       ...       ...      ...       ...       ...   \n",
       "9959  9960.0       1.0      85.0       1.0      2.0       1.0       3.0   \n",
       "9960  9961.0       1.0      36.0       2.0      2.0       2.0       4.0   \n",
       "9961  9962.0       1.0       4.0       3.0      1.0       1.0       4.0   \n",
       "9963  9964.0       1.0      11.0       3.0      1.0       1.0       3.0   \n",
       "9964  9965.0       2.0      84.0       3.0      1.0       1.0       1.0   \n",
       "\n",
       "      INDFMINC  DMDHREDU  RIDSTATR  SDMVPSU  SDMVSTRA       MEC18YR  \n",
       "0          3.0       3.0       2.0      1.0       5.0    990.268132  \n",
       "1          8.0       5.0       2.0      3.0       1.0   3408.044382  \n",
       "2          6.0       4.0       2.0      2.0       7.0   4724.103694  \n",
       "3          3.0       3.0       2.0      1.0       2.0   1013.864237  \n",
       "4         11.0       4.0       2.0      2.0       8.0  10219.103963  \n",
       "...        ...       ...       ...      ...       ...           ...  \n",
       "9959       2.0       1.0       2.0      1.0       4.0    333.674902  \n",
       "9960       7.0       1.0       2.0      2.0       7.0   8134.398689  \n",
       "9961       9.0       5.0       2.0      2.0       1.0   5331.970521  \n",
       "9963       2.0       4.0       2.0      2.0       3.0   5923.058204  \n",
       "9964       3.0       3.0       2.0      1.0       5.0   3574.482432  \n",
       "\n",
       "[9282 rows x 13 columns]"
      ]
     },
     "execution_count": 552,
     "metadata": {},
     "output_type": "execute_result"
    }
   ],
   "source": [
    "df0"
   ]
  },
  {
   "cell_type": "code",
   "execution_count": 553,
   "metadata": {},
   "outputs": [],
   "source": [
    "#New column names\n",
    "col_names = [\"SEQN\", \"RIAGENDR\", \"RIDAGEYR\", \"RIDRETH1\", \"DMDBORN4\", \"DMDCITZN\", \"DMDHHSIZ\", \"INDFMINC\", \"DMDHREDU\", \"RIDSTATR\", \"SDMVPSU\", \"SDMVSTRA\", \"MEC18YR\"]"
   ]
  },
  {
   "cell_type": "code",
   "execution_count": 554,
   "metadata": {},
   "outputs": [],
   "source": [
    "df0.columns = col_names\n",
    "df1.columns = col_names\n",
    "df2.columns = col_names\n",
    "df3.columns = col_names\n",
    "df4.columns = col_names\n",
    "df5.columns = col_names\n",
    "df6.columns = col_names\n",
    "df7.columns = col_names\n",
    "df8.columns = col_names\n",
    "df9.columns = col_names"
   ]
  },
  {
   "cell_type": "markdown",
   "metadata": {},
   "source": [
    "## Append years 1999 - 2018"
   ]
  },
  {
   "cell_type": "code",
   "execution_count": 555,
   "metadata": {},
   "outputs": [],
   "source": [
    "years = [\"1999-2000\",\"2001-2002\",\"2003-2004\",\"2005-2006\",\"2007-2008\", \n",
    "        \"2009-2010\",\"2011-2012\",\"2013-2014\",\"2015-2016\",\"2017-2018\"]"
   ]
  },
  {
   "cell_type": "code",
   "execution_count": 556,
   "metadata": {},
   "outputs": [],
   "source": [
    "frames = [df0, df1, df2, df3, df4, df5, df6, df7, df8, df9]"
   ]
  },
  {
   "cell_type": "code",
   "execution_count": 557,
   "metadata": {},
   "outputs": [],
   "source": [
    "#Add years as a column\n",
    "for i, df in enumerate(frames):\n",
    "    df[\"Year\"] = years[i]"
   ]
  },
  {
   "cell_type": "code",
   "execution_count": 558,
   "metadata": {},
   "outputs": [],
   "source": [
    "result_1999_2018 = pd.concat(frames, keys = years)"
   ]
  },
  {
   "cell_type": "code",
   "execution_count": 559,
   "metadata": {},
   "outputs": [],
   "source": [
    "result_1999_2018_cleaned = result_1999_2018.copy()"
   ]
  },
  {
   "cell_type": "code",
   "execution_count": 560,
   "metadata": {},
   "outputs": [],
   "source": [
    "#Getting rows by keys\n",
    "#result_1999_2016.loc[years[0]][:5]"
   ]
  },
  {
   "cell_type": "code",
   "execution_count": 561,
   "metadata": {},
   "outputs": [
    {
     "data": {
      "text/plain": [
       "97316"
      ]
     },
     "execution_count": 561,
     "metadata": {},
     "output_type": "execute_result"
    }
   ],
   "source": [
    "len(result_1999_2018)"
   ]
  },
  {
   "cell_type": "markdown",
   "metadata": {},
   "source": [
    "## Count values for each column"
   ]
  },
  {
   "cell_type": "code",
   "execution_count": 562,
   "metadata": {},
   "outputs": [
    {
     "data": {
      "text/plain": [
       "13"
      ]
     },
     "execution_count": 562,
     "metadata": {},
     "output_type": "execute_result"
    }
   ],
   "source": [
    "len(col_names)"
   ]
  },
  {
   "cell_type": "code",
   "execution_count": 563,
   "metadata": {},
   "outputs": [
    {
     "name": "stdout",
     "output_type": "stream",
     "text": [
      "RIAGENDR\n",
      "1.0    47996\n",
      "2.0    49320\n",
      "Name: SEQN, dtype: int64 \n",
      "\n",
      " NaN:  0\n"
     ]
    }
   ],
   "source": [
    "#RIAGENDR - Gender of the sample person\n",
    "count_vals(result_1999_2018, col_names[1])"
   ]
  },
  {
   "cell_type": "code",
   "execution_count": 564,
   "metadata": {},
   "outputs": [
    {
     "name": "stdout",
     "output_type": "stream",
     "text": [
      "RIDAGEYR\n",
      "5.397605e-79    4354\n",
      "1.000000e+00    2839\n",
      "2.000000e+00    2908\n",
      "3.000000e+00    1980\n",
      "4.000000e+00    2087\n",
      "                ... \n",
      "8.100000e+01     234\n",
      "8.200000e+01     182\n",
      "8.300000e+01     141\n",
      "8.400000e+01     152\n",
      "8.500000e+01     616\n",
      "Name: SEQN, Length: 86, dtype: int64 \n",
      "\n",
      " NaN:  0\n"
     ]
    }
   ],
   "source": [
    "#RIDAGEYR - Age at Screening Adjudicated\n",
    "count_vals(result_1999_2018, col_names[2])"
   ]
  },
  {
   "cell_type": "code",
   "execution_count": 565,
   "metadata": {
    "scrolled": true
   },
   "outputs": [
    {
     "name": "stdout",
     "output_type": "stream",
     "text": [
      "RIDRETH1\n",
      "1.0    21637\n",
      "2.0     7927\n",
      "3.0    35791\n",
      "4.0    22868\n",
      "5.0     9093\n",
      "Name: SEQN, dtype: int64 \n",
      "\n",
      " NaN:  0\n"
     ]
    }
   ],
   "source": [
    "#RIDRETH1 - Race/Ethnicity\n",
    "count_vals(result_1999_2018, col_names[3])"
   ]
  },
  {
   "cell_type": "code",
   "execution_count": 566,
   "metadata": {
    "scrolled": true
   },
   "outputs": [
    {
     "name": "stdout",
     "output_type": "stream",
     "text": [
      "DMDBORN4\n",
      "1.0     79608\n",
      "2.0     17670\n",
      "77.0       23\n",
      "99.0        8\n",
      "Name: SEQN, dtype: int64 \n",
      "\n",
      " NaN:  7\n"
     ]
    }
   ],
   "source": [
    "#DMDBORN4 - Country of Birth\n",
    "count_vals(result_1999_2018, col_names[4])"
   ]
  },
  {
   "cell_type": "code",
   "execution_count": 567,
   "metadata": {},
   "outputs": [
    {
     "name": "stdout",
     "output_type": "stream",
     "text": [
      "DMDCITZN\n",
      "1.0    86950\n",
      "2.0    10174\n",
      "7.0      113\n",
      "9.0       52\n",
      "Name: SEQN, dtype: int64 \n",
      "\n",
      " NaN:  27\n"
     ]
    }
   ],
   "source": [
    "#DMDCITZN - Citizenship status\n",
    "count_vals(result_1999_2018, col_names[5])"
   ]
  },
  {
   "cell_type": "code",
   "execution_count": 568,
   "metadata": {},
   "outputs": [
    {
     "name": "stdout",
     "output_type": "stream",
     "text": [
      "DMDHHSIZ\n",
      "1.0     7604\n",
      "2.0    18276\n",
      "3.0    17066\n",
      "4.0    20418\n",
      "5.0    15830\n",
      "6.0     8583\n",
      "7.0     9539\n",
      "Name: SEQN, dtype: int64 \n",
      "\n",
      " NaN:  0\n"
     ]
    }
   ],
   "source": [
    "#DMDHHSIZ - Total number of people in the Household\n",
    "count_vals(result_1999_2018, col_names[6])"
   ]
  },
  {
   "cell_type": "code",
   "execution_count": 569,
   "metadata": {},
   "outputs": [
    {
     "name": "stdout",
     "output_type": "stream",
     "text": [
      "INDFMINC\n",
      "1.0      4094\n",
      "2.0      5413\n",
      "3.0      8046\n",
      "4.0      7482\n",
      "5.0      8050\n",
      "6.0     11391\n",
      "7.0      8761\n",
      "8.0      7064\n",
      "9.0      5167\n",
      "10.0     4149\n",
      "11.0    19270\n",
      "12.0     2397\n",
      "13.0     1429\n",
      "77.0     1682\n",
      "99.0     1421\n",
      "Name: SEQN, dtype: int64 \n",
      "\n",
      " NaN:  1500\n"
     ]
    }
   ],
   "source": [
    "#INDHHINC - Annual Household Income\n",
    "count_vals(result_1999_2018, col_names[7])"
   ]
  },
  {
   "cell_type": "code",
   "execution_count": 570,
   "metadata": {},
   "outputs": [
    {
     "name": "stdout",
     "output_type": "stream",
     "text": [
      "INDFMINC\n",
      "1.0      4094\n",
      "2.0      5413\n",
      "3.0      8046\n",
      "4.0      7482\n",
      "5.0      8050\n",
      "6.0     11391\n",
      "7.0      8761\n",
      "8.0      7064\n",
      "9.0      5167\n",
      "10.0     4149\n",
      "11.0    19270\n",
      "12.0     2397\n",
      "13.0     1429\n",
      "77.0     1682\n",
      "99.0     1421\n",
      "Name: SEQN, dtype: int64 \n",
      "\n",
      " NaN:  1500\n"
     ]
    }
   ],
   "source": [
    "#INDFMINC - Annual Family Income\n",
    "count_vals(result_1999_2018, col_names[7])"
   ]
  },
  {
   "cell_type": "code",
   "execution_count": 571,
   "metadata": {},
   "outputs": [
    {
     "name": "stdout",
     "output_type": "stream",
     "text": [
      "RIDSTATR\n",
      "1.0      550\n",
      "2.0    96766\n",
      "Name: SEQN, dtype: int64 \n",
      "\n",
      " NaN:  0\n"
     ]
    }
   ],
   "source": [
    "#DMDHRAGE - HH Ref Person Age\n",
    "count_vals(result_1999_2018, col_names[9])"
   ]
  },
  {
   "cell_type": "code",
   "execution_count": 572,
   "metadata": {},
   "outputs": [
    {
     "name": "stdout",
     "output_type": "stream",
     "text": [
      "DMDHREDU\n",
      "1.0    12248\n",
      "2.0    19586\n",
      "3.0    22071\n",
      "4.0    23006\n",
      "5.0    16883\n",
      "7.0       47\n",
      "9.0      350\n",
      "Name: SEQN, dtype: int64 \n",
      "\n",
      " NaN:  3125\n"
     ]
    }
   ],
   "source": [
    "#DMDHREDU - HH reference person's education level\n",
    "count_vals(result_1999_2018, col_names[8])"
   ]
  },
  {
   "cell_type": "code",
   "execution_count": 573,
   "metadata": {},
   "outputs": [
    {
     "data": {
      "text/plain": [
       "97316"
      ]
     },
     "execution_count": 573,
     "metadata": {},
     "output_type": "execute_result"
    }
   ],
   "source": [
    "len(result_1999_2018)"
   ]
  },
  {
   "cell_type": "code",
   "execution_count": 574,
   "metadata": {
    "scrolled": true
   },
   "outputs": [
    {
     "data": {
      "text/html": [
       "<div>\n",
       "<style scoped>\n",
       "    .dataframe tbody tr th:only-of-type {\n",
       "        vertical-align: middle;\n",
       "    }\n",
       "\n",
       "    .dataframe tbody tr th {\n",
       "        vertical-align: top;\n",
       "    }\n",
       "\n",
       "    .dataframe thead th {\n",
       "        text-align: right;\n",
       "    }\n",
       "</style>\n",
       "<table border=\"1\" class=\"dataframe\">\n",
       "  <thead>\n",
       "    <tr style=\"text-align: right;\">\n",
       "      <th></th>\n",
       "      <th></th>\n",
       "      <th>SEQN</th>\n",
       "      <th>RIAGENDR</th>\n",
       "      <th>RIDAGEYR</th>\n",
       "      <th>RIDRETH1</th>\n",
       "      <th>DMDBORN4</th>\n",
       "      <th>DMDCITZN</th>\n",
       "      <th>DMDHHSIZ</th>\n",
       "      <th>INDFMINC</th>\n",
       "      <th>DMDHREDU</th>\n",
       "      <th>RIDSTATR</th>\n",
       "      <th>SDMVPSU</th>\n",
       "      <th>SDMVSTRA</th>\n",
       "      <th>MEC18YR</th>\n",
       "      <th>Year</th>\n",
       "    </tr>\n",
       "  </thead>\n",
       "  <tbody>\n",
       "    <tr>\n",
       "      <th rowspan=\"5\" valign=\"top\">1999-2000</th>\n",
       "      <th>0</th>\n",
       "      <td>1.0</td>\n",
       "      <td>2.0</td>\n",
       "      <td>2.0</td>\n",
       "      <td>4.0</td>\n",
       "      <td>1.0</td>\n",
       "      <td>1.0</td>\n",
       "      <td>3.0</td>\n",
       "      <td>3.0</td>\n",
       "      <td>3.0</td>\n",
       "      <td>2.0</td>\n",
       "      <td>1.0</td>\n",
       "      <td>5.0</td>\n",
       "      <td>990.268132</td>\n",
       "      <td>1999-2000</td>\n",
       "    </tr>\n",
       "    <tr>\n",
       "      <th>1</th>\n",
       "      <td>2.0</td>\n",
       "      <td>1.0</td>\n",
       "      <td>77.0</td>\n",
       "      <td>3.0</td>\n",
       "      <td>1.0</td>\n",
       "      <td>1.0</td>\n",
       "      <td>1.0</td>\n",
       "      <td>8.0</td>\n",
       "      <td>5.0</td>\n",
       "      <td>2.0</td>\n",
       "      <td>3.0</td>\n",
       "      <td>1.0</td>\n",
       "      <td>3408.044382</td>\n",
       "      <td>1999-2000</td>\n",
       "    </tr>\n",
       "    <tr>\n",
       "      <th>2</th>\n",
       "      <td>3.0</td>\n",
       "      <td>2.0</td>\n",
       "      <td>10.0</td>\n",
       "      <td>3.0</td>\n",
       "      <td>2.0</td>\n",
       "      <td>2.0</td>\n",
       "      <td>4.0</td>\n",
       "      <td>6.0</td>\n",
       "      <td>4.0</td>\n",
       "      <td>2.0</td>\n",
       "      <td>2.0</td>\n",
       "      <td>7.0</td>\n",
       "      <td>4724.103694</td>\n",
       "      <td>1999-2000</td>\n",
       "    </tr>\n",
       "    <tr>\n",
       "      <th>3</th>\n",
       "      <td>4.0</td>\n",
       "      <td>1.0</td>\n",
       "      <td>1.0</td>\n",
       "      <td>4.0</td>\n",
       "      <td>1.0</td>\n",
       "      <td>1.0</td>\n",
       "      <td>7.0</td>\n",
       "      <td>3.0</td>\n",
       "      <td>3.0</td>\n",
       "      <td>2.0</td>\n",
       "      <td>1.0</td>\n",
       "      <td>2.0</td>\n",
       "      <td>1013.864237</td>\n",
       "      <td>1999-2000</td>\n",
       "    </tr>\n",
       "    <tr>\n",
       "      <th>4</th>\n",
       "      <td>5.0</td>\n",
       "      <td>1.0</td>\n",
       "      <td>49.0</td>\n",
       "      <td>3.0</td>\n",
       "      <td>1.0</td>\n",
       "      <td>1.0</td>\n",
       "      <td>3.0</td>\n",
       "      <td>11.0</td>\n",
       "      <td>4.0</td>\n",
       "      <td>2.0</td>\n",
       "      <td>2.0</td>\n",
       "      <td>8.0</td>\n",
       "      <td>10219.103963</td>\n",
       "      <td>1999-2000</td>\n",
       "    </tr>\n",
       "  </tbody>\n",
       "</table>\n",
       "</div>"
      ],
      "text/plain": [
       "             SEQN  RIAGENDR  RIDAGEYR  RIDRETH1  DMDBORN4  DMDCITZN  DMDHHSIZ  \\\n",
       "1999-2000 0   1.0       2.0       2.0       4.0       1.0       1.0       3.0   \n",
       "          1   2.0       1.0      77.0       3.0       1.0       1.0       1.0   \n",
       "          2   3.0       2.0      10.0       3.0       2.0       2.0       4.0   \n",
       "          3   4.0       1.0       1.0       4.0       1.0       1.0       7.0   \n",
       "          4   5.0       1.0      49.0       3.0       1.0       1.0       3.0   \n",
       "\n",
       "             INDFMINC  DMDHREDU  RIDSTATR  SDMVPSU  SDMVSTRA       MEC18YR  \\\n",
       "1999-2000 0       3.0       3.0       2.0      1.0       5.0    990.268132   \n",
       "          1       8.0       5.0       2.0      3.0       1.0   3408.044382   \n",
       "          2       6.0       4.0       2.0      2.0       7.0   4724.103694   \n",
       "          3       3.0       3.0       2.0      1.0       2.0   1013.864237   \n",
       "          4      11.0       4.0       2.0      2.0       8.0  10219.103963   \n",
       "\n",
       "                  Year  \n",
       "1999-2000 0  1999-2000  \n",
       "          1  1999-2000  \n",
       "          2  1999-2000  \n",
       "          3  1999-2000  \n",
       "          4  1999-2000  "
      ]
     },
     "execution_count": 574,
     "metadata": {},
     "output_type": "execute_result"
    }
   ],
   "source": [
    "result_1999_2018_cleaned[:5]"
   ]
  },
  {
   "cell_type": "markdown",
   "metadata": {},
   "source": [
    "## Remove rows with missing values:"
   ]
  },
  {
   "cell_type": "code",
   "execution_count": 575,
   "metadata": {},
   "outputs": [],
   "source": [
    "drop_rows(result_1999_2018_cleaned, col_names[1], [np.nan])\n",
    "drop_rows(result_1999_2018_cleaned, col_names[2], [np.nan])\n",
    "drop_rows(result_1999_2018_cleaned, col_names[3], [np.nan])\n",
    "drop_rows(result_1999_2018_cleaned, col_names[4], [np.nan, 77, 99])\n",
    "drop_rows(result_1999_2018_cleaned, col_names[5], [np.nan, 7, 9])\n",
    "drop_rows(result_1999_2018_cleaned, col_names[6], [np.nan])\n",
    "drop_rows(result_1999_2018_cleaned, col_names[7], [np.nan, 12, 13, 77, 99])\n",
    "drop_rows(result_1999_2018_cleaned, col_names[8], [np.nan, 7, 9]) \n",
    "\n",
    "##FIX\n",
    "drop_rows(result_1999_2018_cleaned, col_names[9], [np.nan]) "
   ]
  },
  {
   "cell_type": "code",
   "execution_count": 576,
   "metadata": {},
   "outputs": [
    {
     "data": {
      "text/plain": [
       "86320"
      ]
     },
     "execution_count": 576,
     "metadata": {},
     "output_type": "execute_result"
    }
   ],
   "source": [
    "len(result_1999_2018_cleaned)"
   ]
  },
  {
   "cell_type": "code",
   "execution_count": 577,
   "metadata": {},
   "outputs": [
    {
     "data": {
      "text/html": [
       "<div>\n",
       "<style scoped>\n",
       "    .dataframe tbody tr th:only-of-type {\n",
       "        vertical-align: middle;\n",
       "    }\n",
       "\n",
       "    .dataframe tbody tr th {\n",
       "        vertical-align: top;\n",
       "    }\n",
       "\n",
       "    .dataframe thead th {\n",
       "        text-align: right;\n",
       "    }\n",
       "</style>\n",
       "<table border=\"1\" class=\"dataframe\">\n",
       "  <thead>\n",
       "    <tr style=\"text-align: right;\">\n",
       "      <th></th>\n",
       "      <th></th>\n",
       "      <th>SEQN</th>\n",
       "      <th>RIAGENDR</th>\n",
       "      <th>RIDAGEYR</th>\n",
       "      <th>RIDRETH1</th>\n",
       "      <th>DMDBORN4</th>\n",
       "      <th>DMDCITZN</th>\n",
       "      <th>DMDHHSIZ</th>\n",
       "      <th>INDFMINC</th>\n",
       "      <th>DMDHREDU</th>\n",
       "      <th>RIDSTATR</th>\n",
       "      <th>SDMVPSU</th>\n",
       "      <th>SDMVSTRA</th>\n",
       "      <th>MEC18YR</th>\n",
       "      <th>Year</th>\n",
       "    </tr>\n",
       "  </thead>\n",
       "  <tbody>\n",
       "    <tr>\n",
       "      <th rowspan=\"5\" valign=\"top\">1999-2000</th>\n",
       "      <th>0</th>\n",
       "      <td>1.0</td>\n",
       "      <td>2.0</td>\n",
       "      <td>2.0</td>\n",
       "      <td>4.0</td>\n",
       "      <td>1.0</td>\n",
       "      <td>1.0</td>\n",
       "      <td>3.0</td>\n",
       "      <td>3.0</td>\n",
       "      <td>3.0</td>\n",
       "      <td>2.0</td>\n",
       "      <td>1.0</td>\n",
       "      <td>5.0</td>\n",
       "      <td>990.268132</td>\n",
       "      <td>1999-2000</td>\n",
       "    </tr>\n",
       "    <tr>\n",
       "      <th>1</th>\n",
       "      <td>2.0</td>\n",
       "      <td>1.0</td>\n",
       "      <td>77.0</td>\n",
       "      <td>3.0</td>\n",
       "      <td>1.0</td>\n",
       "      <td>1.0</td>\n",
       "      <td>1.0</td>\n",
       "      <td>8.0</td>\n",
       "      <td>5.0</td>\n",
       "      <td>2.0</td>\n",
       "      <td>3.0</td>\n",
       "      <td>1.0</td>\n",
       "      <td>3408.044382</td>\n",
       "      <td>1999-2000</td>\n",
       "    </tr>\n",
       "    <tr>\n",
       "      <th>2</th>\n",
       "      <td>3.0</td>\n",
       "      <td>2.0</td>\n",
       "      <td>10.0</td>\n",
       "      <td>3.0</td>\n",
       "      <td>2.0</td>\n",
       "      <td>2.0</td>\n",
       "      <td>4.0</td>\n",
       "      <td>6.0</td>\n",
       "      <td>4.0</td>\n",
       "      <td>2.0</td>\n",
       "      <td>2.0</td>\n",
       "      <td>7.0</td>\n",
       "      <td>4724.103694</td>\n",
       "      <td>1999-2000</td>\n",
       "    </tr>\n",
       "    <tr>\n",
       "      <th>3</th>\n",
       "      <td>4.0</td>\n",
       "      <td>1.0</td>\n",
       "      <td>1.0</td>\n",
       "      <td>4.0</td>\n",
       "      <td>1.0</td>\n",
       "      <td>1.0</td>\n",
       "      <td>7.0</td>\n",
       "      <td>3.0</td>\n",
       "      <td>3.0</td>\n",
       "      <td>2.0</td>\n",
       "      <td>1.0</td>\n",
       "      <td>2.0</td>\n",
       "      <td>1013.864237</td>\n",
       "      <td>1999-2000</td>\n",
       "    </tr>\n",
       "    <tr>\n",
       "      <th>4</th>\n",
       "      <td>5.0</td>\n",
       "      <td>1.0</td>\n",
       "      <td>49.0</td>\n",
       "      <td>3.0</td>\n",
       "      <td>1.0</td>\n",
       "      <td>1.0</td>\n",
       "      <td>3.0</td>\n",
       "      <td>11.0</td>\n",
       "      <td>4.0</td>\n",
       "      <td>2.0</td>\n",
       "      <td>2.0</td>\n",
       "      <td>8.0</td>\n",
       "      <td>10219.103963</td>\n",
       "      <td>1999-2000</td>\n",
       "    </tr>\n",
       "  </tbody>\n",
       "</table>\n",
       "</div>"
      ],
      "text/plain": [
       "             SEQN  RIAGENDR  RIDAGEYR  RIDRETH1  DMDBORN4  DMDCITZN  DMDHHSIZ  \\\n",
       "1999-2000 0   1.0       2.0       2.0       4.0       1.0       1.0       3.0   \n",
       "          1   2.0       1.0      77.0       3.0       1.0       1.0       1.0   \n",
       "          2   3.0       2.0      10.0       3.0       2.0       2.0       4.0   \n",
       "          3   4.0       1.0       1.0       4.0       1.0       1.0       7.0   \n",
       "          4   5.0       1.0      49.0       3.0       1.0       1.0       3.0   \n",
       "\n",
       "             INDFMINC  DMDHREDU  RIDSTATR  SDMVPSU  SDMVSTRA       MEC18YR  \\\n",
       "1999-2000 0       3.0       3.0       2.0      1.0       5.0    990.268132   \n",
       "          1       8.0       5.0       2.0      3.0       1.0   3408.044382   \n",
       "          2       6.0       4.0       2.0      2.0       7.0   4724.103694   \n",
       "          3       3.0       3.0       2.0      1.0       2.0   1013.864237   \n",
       "          4      11.0       4.0       2.0      2.0       8.0  10219.103963   \n",
       "\n",
       "                  Year  \n",
       "1999-2000 0  1999-2000  \n",
       "          1  1999-2000  \n",
       "          2  1999-2000  \n",
       "          3  1999-2000  \n",
       "          4  1999-2000  "
      ]
     },
     "execution_count": 577,
     "metadata": {},
     "output_type": "execute_result"
    }
   ],
   "source": [
    "result_1999_2018_cleaned[:5]"
   ]
  },
  {
   "cell_type": "markdown",
   "metadata": {},
   "source": [
    "## See if missing values have been correctly removed:"
   ]
  },
  {
   "cell_type": "code",
   "execution_count": 578,
   "metadata": {},
   "outputs": [
    {
     "name": "stdout",
     "output_type": "stream",
     "text": [
      "RIAGENDR\n",
      "1.0    42729\n",
      "2.0    43591\n",
      "Name: SEQN, dtype: int64 \n",
      "\n",
      " NaN:  0\n"
     ]
    }
   ],
   "source": [
    "count_vals(result_1999_2018_cleaned, col_names[1])"
   ]
  },
  {
   "cell_type": "code",
   "execution_count": 579,
   "metadata": {},
   "outputs": [
    {
     "name": "stdout",
     "output_type": "stream",
     "text": [
      "RIDAGEYR\n",
      "5.397605e-79    3929\n",
      "1.000000e+00    2558\n",
      "2.000000e+00    2609\n",
      "3.000000e+00    1774\n",
      "4.000000e+00    1872\n",
      "                ... \n",
      "8.100000e+01     204\n",
      "8.200000e+01     164\n",
      "8.300000e+01     119\n",
      "8.400000e+01     128\n",
      "8.500000e+01     530\n",
      "Name: SEQN, Length: 86, dtype: int64 \n",
      "\n",
      " NaN:  0\n"
     ]
    }
   ],
   "source": [
    "count_vals(result_1999_2018_cleaned, col_names[2])"
   ]
  },
  {
   "cell_type": "code",
   "execution_count": 580,
   "metadata": {},
   "outputs": [
    {
     "name": "stdout",
     "output_type": "stream",
     "text": [
      "RIDRETH1\n",
      "1.0    18565\n",
      "2.0     6683\n",
      "3.0    32947\n",
      "4.0    20247\n",
      "5.0     7878\n",
      "Name: SEQN, dtype: int64 \n",
      "\n",
      " NaN:  0\n"
     ]
    }
   ],
   "source": [
    "count_vals(result_1999_2018_cleaned, col_names[3])"
   ]
  },
  {
   "cell_type": "code",
   "execution_count": 581,
   "metadata": {},
   "outputs": [
    {
     "name": "stdout",
     "output_type": "stream",
     "text": [
      "DMDBORN4\n",
      "1.0    71596\n",
      "2.0    14724\n",
      "Name: SEQN, dtype: int64 \n",
      "\n",
      " NaN:  0\n"
     ]
    }
   ],
   "source": [
    "count_vals(result_1999_2018_cleaned, col_names[4])"
   ]
  },
  {
   "cell_type": "code",
   "execution_count": 582,
   "metadata": {},
   "outputs": [
    {
     "name": "stdout",
     "output_type": "stream",
     "text": [
      "DMDCITZN\n",
      "1.0    77914\n",
      "2.0     8406\n",
      "Name: SEQN, dtype: int64 \n",
      "\n",
      " NaN:  0\n"
     ]
    }
   ],
   "source": [
    "count_vals(result_1999_2018_cleaned, col_names[5])"
   ]
  },
  {
   "cell_type": "code",
   "execution_count": 583,
   "metadata": {},
   "outputs": [
    {
     "name": "stdout",
     "output_type": "stream",
     "text": [
      "DMDHHSIZ\n",
      "1.0     7047\n",
      "2.0    16448\n",
      "3.0    15337\n",
      "4.0    18232\n",
      "5.0    14078\n",
      "6.0     7462\n",
      "7.0     7716\n",
      "Name: SEQN, dtype: int64 \n",
      "\n",
      " NaN:  0\n"
     ]
    }
   ],
   "source": [
    "count_vals(result_1999_2018_cleaned, col_names[6])"
   ]
  },
  {
   "cell_type": "code",
   "execution_count": 584,
   "metadata": {},
   "outputs": [
    {
     "name": "stdout",
     "output_type": "stream",
     "text": [
      "INDFMINC\n",
      "1.0      3874\n",
      "2.0      5240\n",
      "3.0      7806\n",
      "4.0      7249\n",
      "5.0      7798\n",
      "6.0     11137\n",
      "7.0      8560\n",
      "8.0      6852\n",
      "9.0      5061\n",
      "10.0     4053\n",
      "11.0    18690\n",
      "Name: SEQN, dtype: int64 \n",
      "\n",
      " NaN:  0\n"
     ]
    }
   ],
   "source": [
    "count_vals(result_1999_2018_cleaned, col_names[7])"
   ]
  },
  {
   "cell_type": "code",
   "execution_count": 585,
   "metadata": {},
   "outputs": [
    {
     "name": "stdout",
     "output_type": "stream",
     "text": [
      "DMDHREDU\n",
      "1.0    10683\n",
      "2.0    17783\n",
      "3.0    20303\n",
      "4.0    21593\n",
      "5.0    15958\n",
      "Name: SEQN, dtype: int64 \n",
      "\n",
      " NaN:  0\n"
     ]
    }
   ],
   "source": [
    "count_vals(result_1999_2018_cleaned, col_names[8])"
   ]
  },
  {
   "cell_type": "code",
   "execution_count": 586,
   "metadata": {},
   "outputs": [
    {
     "data": {
      "text/plain": [
       "97316"
      ]
     },
     "execution_count": 586,
     "metadata": {},
     "output_type": "execute_result"
    }
   ],
   "source": [
    "before = len(result_1999_2018)\n",
    "before"
   ]
  },
  {
   "cell_type": "code",
   "execution_count": 587,
   "metadata": {},
   "outputs": [
    {
     "data": {
      "text/plain": [
       "86320"
      ]
     },
     "execution_count": 587,
     "metadata": {},
     "output_type": "execute_result"
    }
   ],
   "source": [
    "after = len(result_1999_2018_cleaned)\n",
    "after"
   ]
  },
  {
   "cell_type": "code",
   "execution_count": 588,
   "metadata": {},
   "outputs": [
    {
     "data": {
      "text/plain": [
       "0.127386468952734"
      ]
     },
     "execution_count": 588,
     "metadata": {},
     "output_type": "execute_result"
    }
   ],
   "source": [
    "(before-after)/after"
   ]
  },
  {
   "cell_type": "code",
   "execution_count": 589,
   "metadata": {},
   "outputs": [
    {
     "data": {
      "text/plain": [
       "SEQN        False\n",
       "RIAGENDR    False\n",
       "RIDAGEYR    False\n",
       "RIDRETH1    False\n",
       "DMDBORN4    False\n",
       "DMDCITZN    False\n",
       "DMDHHSIZ    False\n",
       "INDFMINC    False\n",
       "DMDHREDU    False\n",
       "RIDSTATR    False\n",
       "SDMVPSU     False\n",
       "SDMVSTRA    False\n",
       "MEC18YR     False\n",
       "Year        False\n",
       "dtype: bool"
      ]
     },
     "execution_count": 589,
     "metadata": {},
     "output_type": "execute_result"
    }
   ],
   "source": [
    "result_1999_2018_cleaned.isnull().any()"
   ]
  },
  {
   "cell_type": "markdown",
   "metadata": {},
   "source": [
    "## MongoDB Insertion"
   ]
  },
  {
   "cell_type": "code",
   "execution_count": 590,
   "metadata": {},
   "outputs": [],
   "source": [
    "#Import MongoClient\n",
    "from pymongo import MongoClient"
   ]
  },
  {
   "cell_type": "code",
   "execution_count": 591,
   "metadata": {},
   "outputs": [],
   "source": [
    "#Create a MongoClient to run the MongoDB instance\n",
    "client = MongoClient(\"localhost\", 27017)"
   ]
  },
  {
   "cell_type": "code",
   "execution_count": 592,
   "metadata": {},
   "outputs": [
    {
     "data": {
      "text/plain": [
       "MongoClient(host=['localhost:27017'], document_class=dict, tz_aware=False, connect=True)"
      ]
     },
     "execution_count": 592,
     "metadata": {},
     "output_type": "execute_result"
    }
   ],
   "source": [
    "client"
   ]
  },
  {
   "cell_type": "code",
   "execution_count": 593,
   "metadata": {},
   "outputs": [
    {
     "data": {
      "text/plain": [
       "Database(MongoClient(host=['localhost:27017'], document_class=dict, tz_aware=False, connect=True), 'NHANES')"
      ]
     },
     "execution_count": 593,
     "metadata": {},
     "output_type": "execute_result"
    }
   ],
   "source": [
    "#Creating a database\n",
    "db = client['NHANES']\n",
    "db"
   ]
  },
  {
   "cell_type": "code",
   "execution_count": 594,
   "metadata": {},
   "outputs": [
    {
     "data": {
      "text/plain": [
       "['alq', 'demo_p', 'bpq', 'bmx', 'bpx']"
      ]
     },
     "execution_count": 594,
     "metadata": {},
     "output_type": "execute_result"
    }
   ],
   "source": [
    "db.list_collection_names()"
   ]
  },
  {
   "cell_type": "code",
   "execution_count": 595,
   "metadata": {},
   "outputs": [],
   "source": [
    "#Creating a collection\n",
    "demo_p = db.demo_p"
   ]
  },
  {
   "cell_type": "code",
   "execution_count": 596,
   "metadata": {},
   "outputs": [],
   "source": [
    "#If collections exist, then drop\n",
    "if 'demo_p' in db.list_collection_names():\n",
    "    demo_p.drop()\n",
    "    db.list_collection_names()"
   ]
  },
  {
   "cell_type": "markdown",
   "metadata": {},
   "source": [
    "## Inputting into DB"
   ]
  },
  {
   "cell_type": "code",
   "execution_count": 597,
   "metadata": {},
   "outputs": [],
   "source": [
    "result_1999_2018_cleaned.rename(columns= {'SEQN':'_id'}, inplace=True)"
   ]
  },
  {
   "cell_type": "code",
   "execution_count": 598,
   "metadata": {},
   "outputs": [
    {
     "data": {
      "text/html": [
       "<div>\n",
       "<style scoped>\n",
       "    .dataframe tbody tr th:only-of-type {\n",
       "        vertical-align: middle;\n",
       "    }\n",
       "\n",
       "    .dataframe tbody tr th {\n",
       "        vertical-align: top;\n",
       "    }\n",
       "\n",
       "    .dataframe thead th {\n",
       "        text-align: right;\n",
       "    }\n",
       "</style>\n",
       "<table border=\"1\" class=\"dataframe\">\n",
       "  <thead>\n",
       "    <tr style=\"text-align: right;\">\n",
       "      <th></th>\n",
       "      <th></th>\n",
       "      <th>_id</th>\n",
       "      <th>RIAGENDR</th>\n",
       "      <th>RIDAGEYR</th>\n",
       "      <th>RIDRETH1</th>\n",
       "      <th>DMDBORN4</th>\n",
       "      <th>DMDCITZN</th>\n",
       "      <th>DMDHHSIZ</th>\n",
       "      <th>INDFMINC</th>\n",
       "      <th>DMDHREDU</th>\n",
       "      <th>RIDSTATR</th>\n",
       "      <th>SDMVPSU</th>\n",
       "      <th>SDMVSTRA</th>\n",
       "      <th>MEC18YR</th>\n",
       "      <th>Year</th>\n",
       "    </tr>\n",
       "  </thead>\n",
       "  <tbody>\n",
       "    <tr>\n",
       "      <th rowspan=\"3\" valign=\"top\">1999-2000</th>\n",
       "      <th>0</th>\n",
       "      <td>1.0</td>\n",
       "      <td>2.0</td>\n",
       "      <td>2.0</td>\n",
       "      <td>4.0</td>\n",
       "      <td>1.0</td>\n",
       "      <td>1.0</td>\n",
       "      <td>3.0</td>\n",
       "      <td>3.0</td>\n",
       "      <td>3.0</td>\n",
       "      <td>2.0</td>\n",
       "      <td>1.0</td>\n",
       "      <td>5.0</td>\n",
       "      <td>990.268132</td>\n",
       "      <td>1999-2000</td>\n",
       "    </tr>\n",
       "    <tr>\n",
       "      <th>1</th>\n",
       "      <td>2.0</td>\n",
       "      <td>1.0</td>\n",
       "      <td>77.0</td>\n",
       "      <td>3.0</td>\n",
       "      <td>1.0</td>\n",
       "      <td>1.0</td>\n",
       "      <td>1.0</td>\n",
       "      <td>8.0</td>\n",
       "      <td>5.0</td>\n",
       "      <td>2.0</td>\n",
       "      <td>3.0</td>\n",
       "      <td>1.0</td>\n",
       "      <td>3408.044382</td>\n",
       "      <td>1999-2000</td>\n",
       "    </tr>\n",
       "    <tr>\n",
       "      <th>2</th>\n",
       "      <td>3.0</td>\n",
       "      <td>2.0</td>\n",
       "      <td>10.0</td>\n",
       "      <td>3.0</td>\n",
       "      <td>2.0</td>\n",
       "      <td>2.0</td>\n",
       "      <td>4.0</td>\n",
       "      <td>6.0</td>\n",
       "      <td>4.0</td>\n",
       "      <td>2.0</td>\n",
       "      <td>2.0</td>\n",
       "      <td>7.0</td>\n",
       "      <td>4724.103694</td>\n",
       "      <td>1999-2000</td>\n",
       "    </tr>\n",
       "  </tbody>\n",
       "</table>\n",
       "</div>"
      ],
      "text/plain": [
       "             _id  RIAGENDR  RIDAGEYR  RIDRETH1  DMDBORN4  DMDCITZN  DMDHHSIZ  \\\n",
       "1999-2000 0  1.0       2.0       2.0       4.0       1.0       1.0       3.0   \n",
       "          1  2.0       1.0      77.0       3.0       1.0       1.0       1.0   \n",
       "          2  3.0       2.0      10.0       3.0       2.0       2.0       4.0   \n",
       "\n",
       "             INDFMINC  DMDHREDU  RIDSTATR  SDMVPSU  SDMVSTRA      MEC18YR  \\\n",
       "1999-2000 0       3.0       3.0       2.0      1.0       5.0   990.268132   \n",
       "          1       8.0       5.0       2.0      3.0       1.0  3408.044382   \n",
       "          2       6.0       4.0       2.0      2.0       7.0  4724.103694   \n",
       "\n",
       "                  Year  \n",
       "1999-2000 0  1999-2000  \n",
       "          1  1999-2000  \n",
       "          2  1999-2000  "
      ]
     },
     "execution_count": 598,
     "metadata": {},
     "output_type": "execute_result"
    }
   ],
   "source": [
    "result_1999_2018_cleaned[:3]"
   ]
  },
  {
   "cell_type": "code",
   "execution_count": 599,
   "metadata": {},
   "outputs": [],
   "source": [
    "demo_p_dict = result_1999_2018_cleaned.to_dict(orient='records')"
   ]
  },
  {
   "cell_type": "code",
   "execution_count": 600,
   "metadata": {
    "scrolled": true
   },
   "outputs": [
    {
     "data": {
      "text/plain": [
       "{'_id': 1.0,\n",
       " 'RIAGENDR': 2.0,\n",
       " 'RIDAGEYR': 2.0,\n",
       " 'RIDRETH1': 4.0,\n",
       " 'DMDBORN4': 1.0,\n",
       " 'DMDCITZN': 1.0,\n",
       " 'DMDHHSIZ': 3.0,\n",
       " 'INDFMINC': 3.0,\n",
       " 'DMDHREDU': 3.0,\n",
       " 'RIDSTATR': 2.0,\n",
       " 'SDMVPSU': 1.0,\n",
       " 'SDMVSTRA': 5.0,\n",
       " 'MEC18YR': 990.268132,\n",
       " 'Year': '1999-2000'}"
      ]
     },
     "execution_count": 600,
     "metadata": {},
     "output_type": "execute_result"
    }
   ],
   "source": [
    "demo_p_dict[0]"
   ]
  },
  {
   "cell_type": "code",
   "execution_count": 601,
   "metadata": {},
   "outputs": [
    {
     "data": {
      "text/plain": [
       "<pymongo.results.InsertManyResult at 0x14f852c20>"
      ]
     },
     "execution_count": 601,
     "metadata": {},
     "output_type": "execute_result"
    }
   ],
   "source": [
    "#Insert collection\n",
    "demo_p.insert_many(demo_p_dict)"
   ]
  },
  {
   "cell_type": "code",
   "execution_count": 602,
   "metadata": {
    "scrolled": false
   },
   "outputs": [
    {
     "data": {
      "text/plain": [
       "['alq', 'bpq', 'bmx', 'bpx', 'demo_p']"
      ]
     },
     "execution_count": 602,
     "metadata": {},
     "output_type": "execute_result"
    }
   ],
   "source": [
    "db.list_collection_names()"
   ]
  },
  {
   "cell_type": "markdown",
   "metadata": {},
   "source": [
    "## Dataframe to CSV"
   ]
  },
  {
   "cell_type": "code",
   "execution_count": 603,
   "metadata": {},
   "outputs": [],
   "source": [
    "result_1999_2018_cleaned.to_csv('DEMO.csv')"
   ]
  }
 ],
 "metadata": {
  "kernelspec": {
   "display_name": "Python 3",
   "language": "python",
   "name": "python3"
  },
  "language_info": {
   "codemirror_mode": {
    "name": "ipython",
    "version": 3
   },
   "file_extension": ".py",
   "mimetype": "text/x-python",
   "name": "python",
   "nbconvert_exporter": "python",
   "pygments_lexer": "ipython3",
   "version": "3.10.2"
  }
 },
 "nbformat": 4,
 "nbformat_minor": 2
}
