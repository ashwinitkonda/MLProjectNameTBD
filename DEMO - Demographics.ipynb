{
 "cells": [
  {
   "cell_type": "code",
   "execution_count": 94,
   "metadata": {},
   "outputs": [],
   "source": [
    "#Import libraries\n",
    "import pandas as pd\n",
    "import numpy as np\n",
    "import matplotlib.pyplot as plt\n",
    "import glob\n",
    "import re\n",
    "from collections import defaultdict"
   ]
  },
  {
   "cell_type": "code",
   "execution_count": 95,
   "metadata": {},
   "outputs": [],
   "source": [
    "#Use one ./ if running from run_notebooks.py\n",
    "#Use two ../if running directly from Jupyter Notebooks\n",
    "#file_beg = '../NHANES-Downloader/data/csv_data/'\n",
    "\n",
    "file_beg = '../NHANES-Downloader/data/csv_data/'"
   ]
  },
  {
   "cell_type": "code",
   "execution_count": 96,
   "metadata": {},
   "outputs": [],
   "source": [
    "#Import all the files\n",
    "files1 = glob.glob(file_beg+'1999-2000/*/*.csv')\n",
    "files2 = glob.glob(file_beg+'2001-2002/*/*.csv')\n",
    "files3 = glob.glob(file_beg+'2003-2004/*/*.csv')\n",
    "files4 = glob.glob(file_beg+'2005-2006/*/*.csv')\n",
    "files5 = glob.glob(file_beg+'2007-2008/*/*.csv')\n",
    "files6 = glob.glob(file_beg+'2009-2010/*/*.csv')\n",
    "files7 = glob.glob(file_beg+'2011-2012/*/*.csv')\n",
    "files8 = glob.glob(file_beg+'2013-2014/*/*.csv')\n",
    "files9 = glob.glob(file_beg+'2015-2016/*/*.csv')\n",
    "files10 = glob.glob(file_beg+'2017-2018/*/*.csv')"
   ]
  },
  {
   "cell_type": "code",
   "execution_count": 97,
   "metadata": {},
   "outputs": [],
   "source": [
    "#Add files into a list\n",
    "file_list = [files1, files2, files3, files4, files5, \n",
    "          files6, files7, files8, files9, files10]"
   ]
  },
  {
   "cell_type": "code",
   "execution_count": 98,
   "metadata": {},
   "outputs": [],
   "source": [
    "#Add files into a list of sorted and dictionaries\n",
    "file_list_dict = []\n",
    "for x in file_list:\n",
    "    x.sort()\n",
    "    file_list_dict.append(dict(enumerate(x)))"
   ]
  },
  {
   "cell_type": "code",
   "execution_count": 99,
   "metadata": {},
   "outputs": [],
   "source": [
    "demo_indx = [0, 0, 0, 0, 0, 0, 0, 0, 0, 0]"
   ]
  },
  {
   "cell_type": "code",
   "execution_count": 100,
   "metadata": {},
   "outputs": [],
   "source": [
    "dfs = defaultdict(int)\n",
    "for i in range(0,len(demo_indx)):\n",
    "    dfs[i] = pd.read_csv(file_list_dict[i][demo_indx[i]])"
   ]
  },
  {
   "cell_type": "markdown",
   "metadata": {},
   "source": [
    "## Important Variables"
   ]
  },
  {
   "cell_type": "code",
   "execution_count": 101,
   "metadata": {},
   "outputs": [],
   "source": [
    "#EDIT: Removed INDHHINC from each after DMDHHSIZ and before INDFMINC\n",
    "#EDIT: Removed INDHHIN2 from each after DMDHHSIZ and before INDFMIN2\n",
    "#EDIT: Removed DMDAGE before DMDREDU before WT variable\n",
    "\n",
    "#1999-2002\n",
    "var_names = [\"SEQN\", \"RIAGENDR\", \"RIDAGEYR\", \"RIDRETH1\", \"DMDBORN\", \"DMDCITZN\", \"DMDHHSIZ\", \"INDFMINC\", \"DMDHREDU\", \"WTINT4YR\", \"WTMEC4YR\"]\n",
    "\n",
    "#2003-2006\n",
    "#RIDRETH1 is the only race/ethnicity variable in the 2005-2006 Demographics data file. The Demographics files that were released for NHANES 1999-2004 had a variable called ‘RIDRETH2’ that provided an analytic link to the NHANES III race/ethnicity variable.\n",
    "var_names1 = [\"SEQN\", \"RIAGENDR\", \"RIDAGEYR\", \"RIDRETH1\", \"DMDBORN\", \"DMDCITZN\", \"DMDHHSIZ\", \"INDFMINC\", \"DMDHREDU\", \"WTINT2YR\", \"WTMEC2YR\"]\n",
    "\n",
    "#2007-2010\n",
    "#DMDHRBRN becomes DMDBORN2\n",
    "#Recategorize DMDHBRN\n",
    "#INDFMINC becomes INDFMIN2 - Recategorize 14 and 15 to 11 to match 1999-2006\n",
    "#INDHHINC becomes INDHHIN2 - Recategorize 14 and 15 to 11 to match 1999-2006\n",
    "var_names2 = [\"SEQN\", \"RIAGENDR\", \"RIDAGEYR\", \"RIDRETH1\", \"DMDBORN2\", \"DMDCITZN\", \"DMDHHSIZ\", \"INDFMIN2\", \"DMDHREDU\", \"WTINT2YR\", \"WTMEC2YR\"]\n",
    "\n",
    "#2011-2016\n",
    "#DMDHRBRN4 becomes 2 categories\n",
    "#Recategorize all previous\n",
    "var_names3 = [\"SEQN\", \"RIAGENDR\", \"RIDAGEYR\", \"RIDRETH1\", \"DMDBORN4\", \"DMDCITZN\", \"DMDHHSIZ\", \"INDFMIN2\", \"DMDHREDU\", \"WTINT2YR\", \"WTMEC2YR\"]\n",
    "\n",
    "#2017-2018\n",
    "#DMDHRBRN4 becomes 2 categories\n",
    "var_names4 = [\"SEQN\", \"RIAGENDR\", \"RIDAGEYR\", \"RIDRETH1\", \"DMDBORN4\", \"DMDCITZN\", \"DMDHHSIZ\", \"INDFMIN2\", \"DMDHREDZ\", \"WTINT2YR\", \"WTMEC2YR\"]\n",
    "\n",
    "descr = ['SEQN', 'Gender', 'Age at Screening (Years)', 'Race/Hispanic Origin', 'Country of Birth', 'Citizenship Status','Total Number of People in the Household','Annual Family Income','Education Level','Two Year Int. Weight','Two Year MEC Weight']"
   ]
  },
  {
   "cell_type": "code",
   "execution_count": 102,
   "metadata": {},
   "outputs": [],
   "source": [
    "#To display all columns in Jupyter Notebooks\n",
    "pd.set_option('display.max_columns', 500)"
   ]
  },
  {
   "cell_type": "markdown",
   "metadata": {},
   "source": [
    "## Functions: Recategorize values, Count Values, Drop Rows"
   ]
  },
  {
   "cell_type": "code",
   "execution_count": 103,
   "metadata": {},
   "outputs": [],
   "source": [
    "#Recategorize function\n",
    "def recategorize(df, name, replace_dict):\n",
    "    df[name].replace(\n",
    "    to_replace=replace_dict,\n",
    "    inplace=True\n",
    ")\n",
    "    \n",
    "#Count values function\n",
    "def count_vals(df, name):\n",
    "    df_count = df.groupby(name)['SEQN'].nunique()\n",
    "    print(df_count,\"\\n\\n\",\"NaN: \", df[name].isnull().sum())\n",
    "    \n",
    "#Drop rows that include certain values\n",
    "def drop_rows(df, name, val_list):\n",
    "    df.drop(df[df[name].isin(val_list)].index, inplace=True)"
   ]
  },
  {
   "cell_type": "markdown",
   "metadata": {},
   "source": [
    "## Make a copy of the dataframes"
   ]
  },
  {
   "cell_type": "code",
   "execution_count": 104,
   "metadata": {},
   "outputs": [],
   "source": [
    "df0 = dfs[0][var_names].copy() #1999-2000\n",
    "df1 = dfs[1][var_names].copy() #2001-2002\n",
    "df2 = dfs[2][var_names1].copy() #2003-2004\n",
    "df3 = dfs[3][var_names1].copy() #2005-2006\n",
    "df4 = dfs[4][var_names2].copy() #2007-2008\n",
    "df5 = dfs[5][var_names2].copy() #2009-2010\n",
    "df6 = dfs[6][var_names3].copy() #2011-2012\n",
    "df7 = dfs[7][var_names3].copy() #2013-2014\n",
    "df8 = dfs[8][var_names3].copy() #2015-2016\n",
    "df9 = dfs[9][var_names4].copy() #2017-2018"
   ]
  },
  {
   "cell_type": "markdown",
   "metadata": {},
   "source": [
    "## Weight for 18-years: 1999 - 2016"
   ]
  },
  {
   "cell_type": "code",
   "execution_count": 105,
   "metadata": {},
   "outputs": [],
   "source": [
    "#Create column for weight\n",
    "def reweight(df, col_name, year_wt, weight):\n",
    "    df[col_name] = df[year_wt]*weight"
   ]
  },
  {
   "cell_type": "code",
   "execution_count": 106,
   "metadata": {},
   "outputs": [],
   "source": [
    "reweight(df0, 'MEC18YR', 'WTMEC4YR', 2/9)\n",
    "reweight(df1, 'MEC18YR', 'WTMEC4YR', 2/9)\n",
    "reweight(df2, 'MEC18YR', 'WTMEC2YR', 1/9)\n",
    "reweight(df3, 'MEC18YR', 'WTMEC2YR', 1/9)\n",
    "reweight(df4, 'MEC18YR', 'WTMEC2YR', 1/9)\n",
    "reweight(df5, 'MEC18YR', 'WTMEC2YR', 1/9)\n",
    "reweight(df6, 'MEC18YR', 'WTMEC2YR', 1/9)\n",
    "reweight(df7, 'MEC18YR', 'WTMEC2YR', 1/9)\n",
    "reweight(df8, 'MEC18YR', 'WTMEC2YR', 1/9)\n",
    "reweight(df9, 'MEC18YR', 'WTMEC2YR', 1/9)"
   ]
  },
  {
   "cell_type": "markdown",
   "metadata": {},
   "source": [
    "## Remove 2-yr and 4-yr weights"
   ]
  },
  {
   "cell_type": "code",
   "execution_count": 107,
   "metadata": {},
   "outputs": [],
   "source": [
    "#Drop columns\n",
    "def drop_cols(df, cols):\n",
    "    df.drop(cols, axis=1, inplace=True)"
   ]
  },
  {
   "cell_type": "code",
   "execution_count": 108,
   "metadata": {},
   "outputs": [],
   "source": [
    "drop_cols(df0,['WTINT4YR','WTMEC4YR'])\n",
    "drop_cols(df1,['WTINT4YR','WTMEC4YR'])"
   ]
  },
  {
   "cell_type": "code",
   "execution_count": 109,
   "metadata": {},
   "outputs": [],
   "source": [
    "drop_cols(df2,['WTINT2YR','WTMEC2YR'])\n",
    "drop_cols(df3,['WTINT2YR','WTMEC2YR'])\n",
    "drop_cols(df4,['WTINT2YR','WTMEC2YR'])\n",
    "drop_cols(df5,['WTINT2YR','WTMEC2YR'])\n",
    "drop_cols(df6,['WTINT2YR','WTMEC2YR'])\n",
    "drop_cols(df7,['WTINT2YR','WTMEC2YR'])\n",
    "drop_cols(df8,['WTINT2YR','WTMEC2YR'])\n",
    "drop_cols(df9,['WTINT2YR','WTMEC2YR'])"
   ]
  },
  {
   "cell_type": "code",
   "execution_count": 110,
   "metadata": {},
   "outputs": [
    {
     "data": {
      "text/html": [
       "<div>\n",
       "<style scoped>\n",
       "    .dataframe tbody tr th:only-of-type {\n",
       "        vertical-align: middle;\n",
       "    }\n",
       "\n",
       "    .dataframe tbody tr th {\n",
       "        vertical-align: top;\n",
       "    }\n",
       "\n",
       "    .dataframe thead th {\n",
       "        text-align: right;\n",
       "    }\n",
       "</style>\n",
       "<table border=\"1\" class=\"dataframe\">\n",
       "  <thead>\n",
       "    <tr style=\"text-align: right;\">\n",
       "      <th></th>\n",
       "      <th>SEQN</th>\n",
       "      <th>RIAGENDR</th>\n",
       "      <th>RIDAGEYR</th>\n",
       "      <th>RIDRETH1</th>\n",
       "      <th>DMDBORN</th>\n",
       "      <th>DMDCITZN</th>\n",
       "      <th>DMDHHSIZ</th>\n",
       "      <th>INDFMINC</th>\n",
       "      <th>DMDHREDU</th>\n",
       "      <th>MEC18YR</th>\n",
       "    </tr>\n",
       "  </thead>\n",
       "  <tbody>\n",
       "    <tr>\n",
       "      <th>0</th>\n",
       "      <td>1.0</td>\n",
       "      <td>2.0</td>\n",
       "      <td>2.0</td>\n",
       "      <td>4.0</td>\n",
       "      <td>1.0</td>\n",
       "      <td>1.0</td>\n",
       "      <td>3.0</td>\n",
       "      <td>3.0</td>\n",
       "      <td>3.0</td>\n",
       "      <td>990.268132</td>\n",
       "    </tr>\n",
       "    <tr>\n",
       "      <th>1</th>\n",
       "      <td>2.0</td>\n",
       "      <td>1.0</td>\n",
       "      <td>77.0</td>\n",
       "      <td>3.0</td>\n",
       "      <td>1.0</td>\n",
       "      <td>1.0</td>\n",
       "      <td>1.0</td>\n",
       "      <td>8.0</td>\n",
       "      <td>5.0</td>\n",
       "      <td>3408.044382</td>\n",
       "    </tr>\n",
       "    <tr>\n",
       "      <th>2</th>\n",
       "      <td>3.0</td>\n",
       "      <td>2.0</td>\n",
       "      <td>10.0</td>\n",
       "      <td>3.0</td>\n",
       "      <td>3.0</td>\n",
       "      <td>2.0</td>\n",
       "      <td>4.0</td>\n",
       "      <td>6.0</td>\n",
       "      <td>4.0</td>\n",
       "      <td>4724.103694</td>\n",
       "    </tr>\n",
       "    <tr>\n",
       "      <th>3</th>\n",
       "      <td>4.0</td>\n",
       "      <td>1.0</td>\n",
       "      <td>1.0</td>\n",
       "      <td>4.0</td>\n",
       "      <td>1.0</td>\n",
       "      <td>1.0</td>\n",
       "      <td>7.0</td>\n",
       "      <td>3.0</td>\n",
       "      <td>3.0</td>\n",
       "      <td>1013.864237</td>\n",
       "    </tr>\n",
       "    <tr>\n",
       "      <th>4</th>\n",
       "      <td>5.0</td>\n",
       "      <td>1.0</td>\n",
       "      <td>49.0</td>\n",
       "      <td>3.0</td>\n",
       "      <td>1.0</td>\n",
       "      <td>1.0</td>\n",
       "      <td>3.0</td>\n",
       "      <td>11.0</td>\n",
       "      <td>4.0</td>\n",
       "      <td>10219.103963</td>\n",
       "    </tr>\n",
       "  </tbody>\n",
       "</table>\n",
       "</div>"
      ],
      "text/plain": [
       "   SEQN  RIAGENDR  RIDAGEYR  RIDRETH1  DMDBORN  DMDCITZN  DMDHHSIZ  INDFMINC  \\\n",
       "0   1.0       2.0       2.0       4.0      1.0       1.0       3.0       3.0   \n",
       "1   2.0       1.0      77.0       3.0      1.0       1.0       1.0       8.0   \n",
       "2   3.0       2.0      10.0       3.0      3.0       2.0       4.0       6.0   \n",
       "3   4.0       1.0       1.0       4.0      1.0       1.0       7.0       3.0   \n",
       "4   5.0       1.0      49.0       3.0      1.0       1.0       3.0      11.0   \n",
       "\n",
       "   DMDHREDU       MEC18YR  \n",
       "0       3.0    990.268132  \n",
       "1       5.0   3408.044382  \n",
       "2       4.0   4724.103694  \n",
       "3       3.0   1013.864237  \n",
       "4       4.0  10219.103963  "
      ]
     },
     "execution_count": 110,
     "metadata": {},
     "output_type": "execute_result"
    }
   ],
   "source": [
    "df0[:5]"
   ]
  },
  {
   "cell_type": "markdown",
   "metadata": {},
   "source": [
    "## Recategorize values"
   ]
  },
  {
   "cell_type": "code",
   "execution_count": 111,
   "metadata": {},
   "outputs": [],
   "source": [
    "#Recategorize DMDBORN to 2 categories\n",
    "recategorize(df0, 'DMDBORN', {3:2, 7:77, 9:99}) #1999-2000\n",
    "recategorize(df1, 'DMDBORN', {3:2, 7:77, 9:99}) #2001-2002\n",
    "recategorize(df2, 'DMDBORN', {3:2, 7:77, 9:99}) #2003-2004\n",
    "recategorize(df3, 'DMDBORN', {3:2, 7:77, 9:99}) #2005-2006\n",
    "\n",
    "\n",
    "#Recategorize DMDBORN2 to 2 categories\n",
    "#Recategorize INHHIN2 to INDHHINC\n",
    "#Recategorize INDFMIN2 to INDFMINC\n",
    "\n",
    "#2007-2008\n",
    "recategorize(df4, 'DMDBORN2', {4:2, 5:2, 7:77, 9:99})\n",
    "#recategorize(df4, 'INDHHIN2', {14:11, 15:11})\n",
    "recategorize(df4, 'INDFMIN2', {14:11, 15:11})\n",
    "\n",
    "#2009-2010\n",
    "recategorize(df5, 'DMDBORN2', {4:2, 5:2, 7:77, 9:99})\n",
    "#recategorize(df5, 'INDHHIN2', {14:11, 15:11})\n",
    "recategorize(df5, 'INDFMIN2', {14:11, 15:11})\n",
    "\n",
    "#2011-2012\n",
    "#recategorize(df6, 'INDHHIN2', {14:11, 15:11})\n",
    "recategorize(df6, 'INDFMIN2', {14:11, 15:11})\n",
    "\n",
    "#2013-2014\n",
    "#recategorize(df7, 'INDHHIN2', {14:11, 15:11})\n",
    "recategorize(df7, 'INDFMIN2', {14:11, 15:11})\n",
    "\n",
    "#2015-2018\n",
    "#recategorize(df8, 'INDHHIN2', {14:11, 15:11})\n",
    "recategorize(df8, 'INDFMIN2', {14:11, 15:11})\n",
    "recategorize(df9, 'INDFMIN2', {14:11, 15:11})"
   ]
  },
  {
   "cell_type": "markdown",
   "metadata": {},
   "source": [
    "## Rename columns 1999 - 2018"
   ]
  },
  {
   "cell_type": "code",
   "execution_count": 112,
   "metadata": {},
   "outputs": [],
   "source": [
    "#New column names\n",
    "col_names = [\"SEQN\", \"RIAGENDR\", \"RIDAGEYR\", \"RIDRETH1\", \"DMDBORN4\", \"DMDCITZN\", \"DMDHHSIZ\", \"INDFMINC\", \"DMDHREDU\", \"MEC18YR\"]"
   ]
  },
  {
   "cell_type": "code",
   "execution_count": 113,
   "metadata": {},
   "outputs": [],
   "source": [
    "df0.columns = col_names\n",
    "df1.columns = col_names\n",
    "df2.columns = col_names\n",
    "df3.columns = col_names\n",
    "df4.columns = col_names\n",
    "df5.columns = col_names\n",
    "df6.columns = col_names\n",
    "df7.columns = col_names\n",
    "df8.columns = col_names\n",
    "df9.columns = col_names"
   ]
  },
  {
   "cell_type": "markdown",
   "metadata": {},
   "source": [
    "## Append years 1999 - 2016"
   ]
  },
  {
   "cell_type": "code",
   "execution_count": 114,
   "metadata": {},
   "outputs": [],
   "source": [
    "years = [\"1999-2000\",\"2001-2002\",\"2003-2004\",\"2005-2006\",\"2007-2008\", \n",
    "        \"2009-2010\",\"2011-2012\",\"2013-2014\",\"2015-2016\",\"2017-2018\"]"
   ]
  },
  {
   "cell_type": "code",
   "execution_count": 115,
   "metadata": {},
   "outputs": [],
   "source": [
    "frames = [df0, df1, df2, df3, df4, df5, df6, df7, df8, df9]"
   ]
  },
  {
   "cell_type": "code",
   "execution_count": 116,
   "metadata": {},
   "outputs": [],
   "source": [
    "#Add years as a column\n",
    "for i, df in enumerate(frames):\n",
    "    df[\"Year\"] = years[i]"
   ]
  },
  {
   "cell_type": "code",
   "execution_count": 117,
   "metadata": {},
   "outputs": [],
   "source": [
    "result_1999_2018 = pd.concat(frames, keys = years)"
   ]
  },
  {
   "cell_type": "code",
   "execution_count": 118,
   "metadata": {},
   "outputs": [],
   "source": [
    "result_1999_2018_cleaned = result_1999_2018.copy()"
   ]
  },
  {
   "cell_type": "code",
   "execution_count": 119,
   "metadata": {},
   "outputs": [],
   "source": [
    "#Getting rows by keys\n",
    "#result_1999_2016.loc[years[0]][:5]"
   ]
  },
  {
   "cell_type": "code",
   "execution_count": 120,
   "metadata": {},
   "outputs": [
    {
     "data": {
      "text/plain": [
       "101316"
      ]
     },
     "execution_count": 120,
     "metadata": {},
     "output_type": "execute_result"
    }
   ],
   "source": [
    "len(result_1999_2018)"
   ]
  },
  {
   "cell_type": "markdown",
   "metadata": {},
   "source": [
    "## Count values for each column"
   ]
  },
  {
   "cell_type": "code",
   "execution_count": 121,
   "metadata": {},
   "outputs": [
    {
     "data": {
      "text/plain": [
       "10"
      ]
     },
     "execution_count": 121,
     "metadata": {},
     "output_type": "execute_result"
    }
   ],
   "source": [
    "len(col_names)"
   ]
  },
  {
   "cell_type": "code",
   "execution_count": 122,
   "metadata": {},
   "outputs": [
    {
     "name": "stdout",
     "output_type": "stream",
     "text": [
      "RIAGENDR\n",
      "1.0    49893\n",
      "2.0    51423\n",
      "Name: SEQN, dtype: int64 \n",
      "\n",
      " NaN:  0\n"
     ]
    }
   ],
   "source": [
    "#RIAGENDR - Gender of the sample person\n",
    "count_vals(result_1999_2018, col_names[1])"
   ]
  },
  {
   "cell_type": "code",
   "execution_count": 123,
   "metadata": {},
   "outputs": [],
   "source": [
    "#RIDAGEYR - Age at Screening Adjudicated\n",
    "#count_vals(result_1999_2016, col_names[2])"
   ]
  },
  {
   "cell_type": "code",
   "execution_count": 124,
   "metadata": {},
   "outputs": [
    {
     "name": "stdout",
     "output_type": "stream",
     "text": [
      "RIDRETH1\n",
      "1.0    22449\n",
      "2.0     8294\n",
      "3.0    37432\n",
      "4.0    23644\n",
      "5.0     9497\n",
      "Name: SEQN, dtype: int64 \n",
      "\n",
      " NaN:  0\n"
     ]
    }
   ],
   "source": [
    "#RIDRETH1 - Race/Ethnicity\n",
    "count_vals(result_1999_2018, col_names[3])"
   ]
  },
  {
   "cell_type": "code",
   "execution_count": 125,
   "metadata": {},
   "outputs": [
    {
     "name": "stdout",
     "output_type": "stream",
     "text": [
      "DMDBORN4\n",
      "1.0     82845\n",
      "2.0     18414\n",
      "77.0       31\n",
      "99.0       10\n",
      "Name: SEQN, dtype: int64 \n",
      "\n",
      " NaN:  16\n"
     ]
    }
   ],
   "source": [
    "#DMDBORN4 - Country of Birth\n",
    "count_vals(result_1999_2018, col_names[4])"
   ]
  },
  {
   "cell_type": "code",
   "execution_count": 126,
   "metadata": {},
   "outputs": [
    {
     "name": "stdout",
     "output_type": "stream",
     "text": [
      "DMDCITZN\n",
      "1.0    90534\n",
      "2.0    10562\n",
      "7.0      131\n",
      "9.0       55\n",
      "Name: SEQN, dtype: int64 \n",
      "\n",
      " NaN:  34\n"
     ]
    }
   ],
   "source": [
    "#DMDCITZN - Citizenship status\n",
    "count_vals(result_1999_2018, col_names[5])"
   ]
  },
  {
   "cell_type": "code",
   "execution_count": 127,
   "metadata": {},
   "outputs": [
    {
     "name": "stdout",
     "output_type": "stream",
     "text": [
      "DMDHHSIZ\n",
      "1.0     8215\n",
      "2.0    19129\n",
      "3.0    17791\n",
      "4.0    21219\n",
      "5.0    16336\n",
      "6.0     8830\n",
      "7.0     9796\n",
      "Name: SEQN, dtype: int64 \n",
      "\n",
      " NaN:  0\n"
     ]
    }
   ],
   "source": [
    "#DMDHHSIZ - Total number of people in the Household\n",
    "count_vals(result_1999_2018, col_names[6])"
   ]
  },
  {
   "cell_type": "code",
   "execution_count": 128,
   "metadata": {},
   "outputs": [],
   "source": [
    "#INDHHINC - Annual Household Income\n",
    "#count_vals(result_1999_2016, col_names[7])"
   ]
  },
  {
   "cell_type": "code",
   "execution_count": 129,
   "metadata": {},
   "outputs": [
    {
     "name": "stdout",
     "output_type": "stream",
     "text": [
      "INDFMINC\n",
      "1.0      4254\n",
      "2.0      5651\n",
      "3.0      8345\n",
      "4.0      7779\n",
      "5.0      8288\n",
      "6.0     11764\n",
      "7.0      9061\n",
      "8.0      7327\n",
      "9.0      5336\n",
      "10.0     4296\n",
      "11.0    20019\n",
      "12.0     2546\n",
      "13.0     1529\n",
      "77.0     1826\n",
      "99.0     1509\n",
      "Name: SEQN, dtype: int64 \n",
      "\n",
      " NaN:  1786\n"
     ]
    }
   ],
   "source": [
    "#INDFMINC - Annual Family Income\n",
    "count_vals(result_1999_2018, col_names[7])"
   ]
  },
  {
   "cell_type": "code",
   "execution_count": 130,
   "metadata": {},
   "outputs": [],
   "source": [
    "#DMDHRAGE - HH Ref Person Age\n",
    "#count_vals(result_1999_2016, col_names[9])"
   ]
  },
  {
   "cell_type": "code",
   "execution_count": 131,
   "metadata": {},
   "outputs": [
    {
     "name": "stdout",
     "output_type": "stream",
     "text": [
      "DMDHREDU\n",
      "1.0    12725\n",
      "2.0    20185\n",
      "3.0    22942\n",
      "4.0    23868\n",
      "5.0    17656\n",
      "7.0       65\n",
      "9.0      372\n",
      "Name: SEQN, dtype: int64 \n",
      "\n",
      " NaN:  3503\n"
     ]
    }
   ],
   "source": [
    "#DMDHREDU - HH reference person's education level\n",
    "count_vals(result_1999_2018, col_names[8])"
   ]
  },
  {
   "cell_type": "code",
   "execution_count": 132,
   "metadata": {},
   "outputs": [
    {
     "data": {
      "text/plain": [
       "101316"
      ]
     },
     "execution_count": 132,
     "metadata": {},
     "output_type": "execute_result"
    }
   ],
   "source": [
    "len(result_1999_2018)"
   ]
  },
  {
   "cell_type": "code",
   "execution_count": 133,
   "metadata": {},
   "outputs": [
    {
     "data": {
      "text/html": [
       "<div>\n",
       "<style scoped>\n",
       "    .dataframe tbody tr th:only-of-type {\n",
       "        vertical-align: middle;\n",
       "    }\n",
       "\n",
       "    .dataframe tbody tr th {\n",
       "        vertical-align: top;\n",
       "    }\n",
       "\n",
       "    .dataframe thead th {\n",
       "        text-align: right;\n",
       "    }\n",
       "</style>\n",
       "<table border=\"1\" class=\"dataframe\">\n",
       "  <thead>\n",
       "    <tr style=\"text-align: right;\">\n",
       "      <th></th>\n",
       "      <th></th>\n",
       "      <th>SEQN</th>\n",
       "      <th>RIAGENDR</th>\n",
       "      <th>RIDAGEYR</th>\n",
       "      <th>RIDRETH1</th>\n",
       "      <th>DMDBORN4</th>\n",
       "      <th>DMDCITZN</th>\n",
       "      <th>DMDHHSIZ</th>\n",
       "      <th>INDFMINC</th>\n",
       "      <th>DMDHREDU</th>\n",
       "      <th>MEC18YR</th>\n",
       "      <th>Year</th>\n",
       "    </tr>\n",
       "  </thead>\n",
       "  <tbody>\n",
       "    <tr>\n",
       "      <th rowspan=\"5\" valign=\"top\">1999-2000</th>\n",
       "      <th>0</th>\n",
       "      <td>1.0</td>\n",
       "      <td>2.0</td>\n",
       "      <td>2.0</td>\n",
       "      <td>4.0</td>\n",
       "      <td>1.0</td>\n",
       "      <td>1.0</td>\n",
       "      <td>3.0</td>\n",
       "      <td>3.0</td>\n",
       "      <td>3.0</td>\n",
       "      <td>990.268132</td>\n",
       "      <td>1999-2000</td>\n",
       "    </tr>\n",
       "    <tr>\n",
       "      <th>1</th>\n",
       "      <td>2.0</td>\n",
       "      <td>1.0</td>\n",
       "      <td>77.0</td>\n",
       "      <td>3.0</td>\n",
       "      <td>1.0</td>\n",
       "      <td>1.0</td>\n",
       "      <td>1.0</td>\n",
       "      <td>8.0</td>\n",
       "      <td>5.0</td>\n",
       "      <td>3408.044382</td>\n",
       "      <td>1999-2000</td>\n",
       "    </tr>\n",
       "    <tr>\n",
       "      <th>2</th>\n",
       "      <td>3.0</td>\n",
       "      <td>2.0</td>\n",
       "      <td>10.0</td>\n",
       "      <td>3.0</td>\n",
       "      <td>2.0</td>\n",
       "      <td>2.0</td>\n",
       "      <td>4.0</td>\n",
       "      <td>6.0</td>\n",
       "      <td>4.0</td>\n",
       "      <td>4724.103694</td>\n",
       "      <td>1999-2000</td>\n",
       "    </tr>\n",
       "    <tr>\n",
       "      <th>3</th>\n",
       "      <td>4.0</td>\n",
       "      <td>1.0</td>\n",
       "      <td>1.0</td>\n",
       "      <td>4.0</td>\n",
       "      <td>1.0</td>\n",
       "      <td>1.0</td>\n",
       "      <td>7.0</td>\n",
       "      <td>3.0</td>\n",
       "      <td>3.0</td>\n",
       "      <td>1013.864237</td>\n",
       "      <td>1999-2000</td>\n",
       "    </tr>\n",
       "    <tr>\n",
       "      <th>4</th>\n",
       "      <td>5.0</td>\n",
       "      <td>1.0</td>\n",
       "      <td>49.0</td>\n",
       "      <td>3.0</td>\n",
       "      <td>1.0</td>\n",
       "      <td>1.0</td>\n",
       "      <td>3.0</td>\n",
       "      <td>11.0</td>\n",
       "      <td>4.0</td>\n",
       "      <td>10219.103963</td>\n",
       "      <td>1999-2000</td>\n",
       "    </tr>\n",
       "  </tbody>\n",
       "</table>\n",
       "</div>"
      ],
      "text/plain": [
       "             SEQN  RIAGENDR  RIDAGEYR  RIDRETH1  DMDBORN4  DMDCITZN  DMDHHSIZ  \\\n",
       "1999-2000 0   1.0       2.0       2.0       4.0       1.0       1.0       3.0   \n",
       "          1   2.0       1.0      77.0       3.0       1.0       1.0       1.0   \n",
       "          2   3.0       2.0      10.0       3.0       2.0       2.0       4.0   \n",
       "          3   4.0       1.0       1.0       4.0       1.0       1.0       7.0   \n",
       "          4   5.0       1.0      49.0       3.0       1.0       1.0       3.0   \n",
       "\n",
       "             INDFMINC  DMDHREDU       MEC18YR       Year  \n",
       "1999-2000 0       3.0       3.0    990.268132  1999-2000  \n",
       "          1       8.0       5.0   3408.044382  1999-2000  \n",
       "          2       6.0       4.0   4724.103694  1999-2000  \n",
       "          3       3.0       3.0   1013.864237  1999-2000  \n",
       "          4      11.0       4.0  10219.103963  1999-2000  "
      ]
     },
     "execution_count": 133,
     "metadata": {},
     "output_type": "execute_result"
    }
   ],
   "source": [
    "result_1999_2018_cleaned[:5]"
   ]
  },
  {
   "cell_type": "markdown",
   "metadata": {},
   "source": [
    "## Remove rows with missing values:"
   ]
  },
  {
   "cell_type": "code",
   "execution_count": 134,
   "metadata": {},
   "outputs": [],
   "source": [
    "drop_rows(result_1999_2018_cleaned, col_names[1], [np.nan])\n",
    "drop_rows(result_1999_2018_cleaned, col_names[2], [np.nan])\n",
    "drop_rows(result_1999_2018_cleaned, col_names[3], [np.nan])\n",
    "drop_rows(result_1999_2018_cleaned, col_names[4], [np.nan, 77, 99])\n",
    "drop_rows(result_1999_2018_cleaned, col_names[5], [np.nan, 7, 9])\n",
    "drop_rows(result_1999_2018_cleaned, col_names[6], [np.nan])\n",
    "drop_rows(result_1999_2018_cleaned, col_names[7], [np.nan, 12, 13, 77, 99])\n",
    "#drop_rows(result_1999_2018_cleaned, col_names[8], [np.nan, 13, 13, 77, 99]) #Previously INDHHINC\n",
    "#drop_rows(result_1999_2018_cleaned, col_names[8], [np.nan]) #Previously DMDHREDU\n",
    "drop_rows(result_1999_2018_cleaned, col_names[8], [np.nan, 7, 9]) "
   ]
  },
  {
   "cell_type": "code",
   "execution_count": 135,
   "metadata": {},
   "outputs": [
    {
     "data": {
      "text/plain": [
       "89367"
      ]
     },
     "execution_count": 135,
     "metadata": {},
     "output_type": "execute_result"
    }
   ],
   "source": [
    "len(result_1999_2018_cleaned)"
   ]
  },
  {
   "cell_type": "code",
   "execution_count": 136,
   "metadata": {},
   "outputs": [
    {
     "data": {
      "text/html": [
       "<div>\n",
       "<style scoped>\n",
       "    .dataframe tbody tr th:only-of-type {\n",
       "        vertical-align: middle;\n",
       "    }\n",
       "\n",
       "    .dataframe tbody tr th {\n",
       "        vertical-align: top;\n",
       "    }\n",
       "\n",
       "    .dataframe thead th {\n",
       "        text-align: right;\n",
       "    }\n",
       "</style>\n",
       "<table border=\"1\" class=\"dataframe\">\n",
       "  <thead>\n",
       "    <tr style=\"text-align: right;\">\n",
       "      <th></th>\n",
       "      <th></th>\n",
       "      <th>SEQN</th>\n",
       "      <th>RIAGENDR</th>\n",
       "      <th>RIDAGEYR</th>\n",
       "      <th>RIDRETH1</th>\n",
       "      <th>DMDBORN4</th>\n",
       "      <th>DMDCITZN</th>\n",
       "      <th>DMDHHSIZ</th>\n",
       "      <th>INDFMINC</th>\n",
       "      <th>DMDHREDU</th>\n",
       "      <th>MEC18YR</th>\n",
       "      <th>Year</th>\n",
       "    </tr>\n",
       "  </thead>\n",
       "  <tbody>\n",
       "    <tr>\n",
       "      <th rowspan=\"5\" valign=\"top\">1999-2000</th>\n",
       "      <th>0</th>\n",
       "      <td>1.0</td>\n",
       "      <td>2.0</td>\n",
       "      <td>2.0</td>\n",
       "      <td>4.0</td>\n",
       "      <td>1.0</td>\n",
       "      <td>1.0</td>\n",
       "      <td>3.0</td>\n",
       "      <td>3.0</td>\n",
       "      <td>3.0</td>\n",
       "      <td>990.268132</td>\n",
       "      <td>1999-2000</td>\n",
       "    </tr>\n",
       "    <tr>\n",
       "      <th>1</th>\n",
       "      <td>2.0</td>\n",
       "      <td>1.0</td>\n",
       "      <td>77.0</td>\n",
       "      <td>3.0</td>\n",
       "      <td>1.0</td>\n",
       "      <td>1.0</td>\n",
       "      <td>1.0</td>\n",
       "      <td>8.0</td>\n",
       "      <td>5.0</td>\n",
       "      <td>3408.044382</td>\n",
       "      <td>1999-2000</td>\n",
       "    </tr>\n",
       "    <tr>\n",
       "      <th>2</th>\n",
       "      <td>3.0</td>\n",
       "      <td>2.0</td>\n",
       "      <td>10.0</td>\n",
       "      <td>3.0</td>\n",
       "      <td>2.0</td>\n",
       "      <td>2.0</td>\n",
       "      <td>4.0</td>\n",
       "      <td>6.0</td>\n",
       "      <td>4.0</td>\n",
       "      <td>4724.103694</td>\n",
       "      <td>1999-2000</td>\n",
       "    </tr>\n",
       "    <tr>\n",
       "      <th>3</th>\n",
       "      <td>4.0</td>\n",
       "      <td>1.0</td>\n",
       "      <td>1.0</td>\n",
       "      <td>4.0</td>\n",
       "      <td>1.0</td>\n",
       "      <td>1.0</td>\n",
       "      <td>7.0</td>\n",
       "      <td>3.0</td>\n",
       "      <td>3.0</td>\n",
       "      <td>1013.864237</td>\n",
       "      <td>1999-2000</td>\n",
       "    </tr>\n",
       "    <tr>\n",
       "      <th>4</th>\n",
       "      <td>5.0</td>\n",
       "      <td>1.0</td>\n",
       "      <td>49.0</td>\n",
       "      <td>3.0</td>\n",
       "      <td>1.0</td>\n",
       "      <td>1.0</td>\n",
       "      <td>3.0</td>\n",
       "      <td>11.0</td>\n",
       "      <td>4.0</td>\n",
       "      <td>10219.103963</td>\n",
       "      <td>1999-2000</td>\n",
       "    </tr>\n",
       "  </tbody>\n",
       "</table>\n",
       "</div>"
      ],
      "text/plain": [
       "             SEQN  RIAGENDR  RIDAGEYR  RIDRETH1  DMDBORN4  DMDCITZN  DMDHHSIZ  \\\n",
       "1999-2000 0   1.0       2.0       2.0       4.0       1.0       1.0       3.0   \n",
       "          1   2.0       1.0      77.0       3.0       1.0       1.0       1.0   \n",
       "          2   3.0       2.0      10.0       3.0       2.0       2.0       4.0   \n",
       "          3   4.0       1.0       1.0       4.0       1.0       1.0       7.0   \n",
       "          4   5.0       1.0      49.0       3.0       1.0       1.0       3.0   \n",
       "\n",
       "             INDFMINC  DMDHREDU       MEC18YR       Year  \n",
       "1999-2000 0       3.0       3.0    990.268132  1999-2000  \n",
       "          1       8.0       5.0   3408.044382  1999-2000  \n",
       "          2       6.0       4.0   4724.103694  1999-2000  \n",
       "          3       3.0       3.0   1013.864237  1999-2000  \n",
       "          4      11.0       4.0  10219.103963  1999-2000  "
      ]
     },
     "execution_count": 136,
     "metadata": {},
     "output_type": "execute_result"
    }
   ],
   "source": [
    "result_1999_2018_cleaned[:5]"
   ]
  },
  {
   "cell_type": "markdown",
   "metadata": {},
   "source": [
    "## See if missing values have been correctly removed:"
   ]
  },
  {
   "cell_type": "code",
   "execution_count": 137,
   "metadata": {},
   "outputs": [
    {
     "name": "stdout",
     "output_type": "stream",
     "text": [
      "RIAGENDR\n",
      "1.0    44195\n",
      "2.0    45172\n",
      "Name: SEQN, dtype: int64 \n",
      "\n",
      " NaN:  0\n"
     ]
    }
   ],
   "source": [
    "count_vals(result_1999_2018_cleaned, col_names[1])"
   ]
  },
  {
   "cell_type": "code",
   "execution_count": 138,
   "metadata": {},
   "outputs": [
    {
     "name": "stdout",
     "output_type": "stream",
     "text": [
      "RIDAGEYR\n",
      "5.397605e-79    4040\n",
      "1.000000e+00    2657\n",
      "2.000000e+00    2715\n",
      "3.000000e+00    1846\n",
      "4.000000e+00    1958\n",
      "                ... \n",
      "8.100000e+01     232\n",
      "8.200000e+01     186\n",
      "8.300000e+01     136\n",
      "8.400000e+01     154\n",
      "8.500000e+01     649\n",
      "Name: SEQN, Length: 86, dtype: int64 \n",
      "\n",
      " NaN:  0\n"
     ]
    }
   ],
   "source": [
    "count_vals(result_1999_2018_cleaned, col_names[2])"
   ]
  },
  {
   "cell_type": "code",
   "execution_count": 139,
   "metadata": {},
   "outputs": [
    {
     "name": "stdout",
     "output_type": "stream",
     "text": [
      "RIDRETH1\n",
      "1.0    19144\n",
      "2.0     6962\n",
      "3.0    34245\n",
      "4.0    20873\n",
      "5.0     8143\n",
      "Name: SEQN, dtype: int64 \n",
      "\n",
      " NaN:  0\n"
     ]
    }
   ],
   "source": [
    "count_vals(result_1999_2018_cleaned, col_names[3])"
   ]
  },
  {
   "cell_type": "code",
   "execution_count": 140,
   "metadata": {},
   "outputs": [
    {
     "name": "stdout",
     "output_type": "stream",
     "text": [
      "DMDBORN4\n",
      "1.0    74118\n",
      "2.0    15249\n",
      "Name: SEQN, dtype: int64 \n",
      "\n",
      " NaN:  0\n"
     ]
    }
   ],
   "source": [
    "count_vals(result_1999_2018_cleaned, col_names[4])"
   ]
  },
  {
   "cell_type": "code",
   "execution_count": 141,
   "metadata": {},
   "outputs": [
    {
     "name": "stdout",
     "output_type": "stream",
     "text": [
      "DMDCITZN\n",
      "1.0    80678\n",
      "2.0     8689\n",
      "Name: SEQN, dtype: int64 \n",
      "\n",
      " NaN:  0\n"
     ]
    }
   ],
   "source": [
    "count_vals(result_1999_2018_cleaned, col_names[5])"
   ]
  },
  {
   "cell_type": "code",
   "execution_count": 142,
   "metadata": {},
   "outputs": [
    {
     "name": "stdout",
     "output_type": "stream",
     "text": [
      "DMDHHSIZ\n",
      "1.0     7537\n",
      "2.0    17102\n",
      "3.0    15906\n",
      "4.0    18824\n",
      "5.0    14447\n",
      "6.0     7644\n",
      "7.0     7907\n",
      "Name: SEQN, dtype: int64 \n",
      "\n",
      " NaN:  0\n"
     ]
    }
   ],
   "source": [
    "count_vals(result_1999_2018_cleaned, col_names[6])"
   ]
  },
  {
   "cell_type": "code",
   "execution_count": 143,
   "metadata": {},
   "outputs": [
    {
     "name": "stdout",
     "output_type": "stream",
     "text": [
      "INDFMINC\n",
      "1.0      4018\n",
      "2.0      5468\n",
      "3.0      8093\n",
      "4.0      7529\n",
      "5.0      8017\n",
      "6.0     11496\n",
      "7.0      8843\n",
      "8.0      7099\n",
      "9.0      5214\n",
      "10.0     4189\n",
      "11.0    19401\n",
      "Name: SEQN, dtype: int64 \n",
      "\n",
      " NaN:  0\n"
     ]
    }
   ],
   "source": [
    "count_vals(result_1999_2018_cleaned, col_names[7])"
   ]
  },
  {
   "cell_type": "code",
   "execution_count": 144,
   "metadata": {},
   "outputs": [
    {
     "name": "stdout",
     "output_type": "stream",
     "text": [
      "DMDHREDU\n",
      "1.0    11061\n",
      "2.0    18276\n",
      "3.0    21056\n",
      "4.0    22351\n",
      "5.0    16623\n",
      "Name: SEQN, dtype: int64 \n",
      "\n",
      " NaN:  0\n"
     ]
    }
   ],
   "source": [
    "count_vals(result_1999_2018_cleaned, col_names[8])"
   ]
  },
  {
   "cell_type": "code",
   "execution_count": 145,
   "metadata": {},
   "outputs": [
    {
     "data": {
      "text/plain": [
       "101316"
      ]
     },
     "execution_count": 145,
     "metadata": {},
     "output_type": "execute_result"
    }
   ],
   "source": [
    "before = len(result_1999_2018)\n",
    "before"
   ]
  },
  {
   "cell_type": "code",
   "execution_count": 146,
   "metadata": {},
   "outputs": [
    {
     "data": {
      "text/plain": [
       "89367"
      ]
     },
     "execution_count": 146,
     "metadata": {},
     "output_type": "execute_result"
    }
   ],
   "source": [
    "after = len(result_1999_2018_cleaned)\n",
    "after"
   ]
  },
  {
   "cell_type": "code",
   "execution_count": 147,
   "metadata": {},
   "outputs": [
    {
     "data": {
      "text/plain": [
       "0.13370707308066737"
      ]
     },
     "execution_count": 147,
     "metadata": {},
     "output_type": "execute_result"
    }
   ],
   "source": [
    "(before-after)/after"
   ]
  },
  {
   "cell_type": "markdown",
   "metadata": {},
   "source": [
    "## MongoDB Insertion"
   ]
  },
  {
   "cell_type": "code",
   "execution_count": 148,
   "metadata": {},
   "outputs": [],
   "source": [
    "#Import MongoClient\n",
    "from pymongo import MongoClient"
   ]
  },
  {
   "cell_type": "code",
   "execution_count": 149,
   "metadata": {},
   "outputs": [],
   "source": [
    "#Create a MongoClient to run the MongoDB instance\n",
    "client = MongoClient(\"localhost\", 27017)"
   ]
  },
  {
   "cell_type": "code",
   "execution_count": 150,
   "metadata": {},
   "outputs": [
    {
     "data": {
      "text/plain": [
       "MongoClient(host=['localhost:27017'], document_class=dict, tz_aware=False, connect=True)"
      ]
     },
     "execution_count": 150,
     "metadata": {},
     "output_type": "execute_result"
    }
   ],
   "source": [
    "client"
   ]
  },
  {
   "cell_type": "code",
   "execution_count": 151,
   "metadata": {},
   "outputs": [
    {
     "data": {
      "text/plain": [
       "Database(MongoClient(host=['localhost:27017'], document_class=dict, tz_aware=False, connect=True), 'NHANES')"
      ]
     },
     "execution_count": 151,
     "metadata": {},
     "output_type": "execute_result"
    }
   ],
   "source": [
    "#Creating a database\n",
    "db = client['NHANES']\n",
    "db"
   ]
  },
  {
   "cell_type": "code",
   "execution_count": 152,
   "metadata": {},
   "outputs": [
    {
     "data": {
      "text/plain": [
       "['hiq',\n",
       " 'alq',\n",
       " 'drxtot',\n",
       " 'smqfam',\n",
       " 'smq',\n",
       " 'bpq',\n",
       " 'bmx',\n",
       " 'whq',\n",
       " 'huq',\n",
       " 'bpx',\n",
       " 'mcq_h',\n",
       " 'tchol',\n",
       " 'paq',\n",
       " 'demo_p',\n",
       " 'mcq_a',\n",
       " 'mcq_b',\n",
       " 'rdq',\n",
       " 'demo',\n",
       " 'diq',\n",
       " 'mcq_c']"
      ]
     },
     "execution_count": 152,
     "metadata": {},
     "output_type": "execute_result"
    }
   ],
   "source": [
    "db.list_collection_names()"
   ]
  },
  {
   "cell_type": "code",
   "execution_count": 153,
   "metadata": {},
   "outputs": [],
   "source": [
    "#Creating a collection\n",
    "demo = db.demo"
   ]
  },
  {
   "cell_type": "code",
   "execution_count": 154,
   "metadata": {},
   "outputs": [],
   "source": [
    "#If collections exist, then drop\n",
    "if 'demo' in db.list_collection_names():\n",
    "    demo.drop()\n",
    "    db.list_collection_names()"
   ]
  },
  {
   "cell_type": "markdown",
   "metadata": {},
   "source": [
    "## Inputting into DB"
   ]
  },
  {
   "cell_type": "code",
   "execution_count": 155,
   "metadata": {},
   "outputs": [],
   "source": [
    "result_1999_2018_cleaned.rename(columns= {'SEQN':'_id'}, inplace=True)"
   ]
  },
  {
   "cell_type": "code",
   "execution_count": 156,
   "metadata": {},
   "outputs": [
    {
     "data": {
      "text/html": [
       "<div>\n",
       "<style scoped>\n",
       "    .dataframe tbody tr th:only-of-type {\n",
       "        vertical-align: middle;\n",
       "    }\n",
       "\n",
       "    .dataframe tbody tr th {\n",
       "        vertical-align: top;\n",
       "    }\n",
       "\n",
       "    .dataframe thead th {\n",
       "        text-align: right;\n",
       "    }\n",
       "</style>\n",
       "<table border=\"1\" class=\"dataframe\">\n",
       "  <thead>\n",
       "    <tr style=\"text-align: right;\">\n",
       "      <th></th>\n",
       "      <th></th>\n",
       "      <th>_id</th>\n",
       "      <th>RIAGENDR</th>\n",
       "      <th>RIDAGEYR</th>\n",
       "      <th>RIDRETH1</th>\n",
       "      <th>DMDBORN4</th>\n",
       "      <th>DMDCITZN</th>\n",
       "      <th>DMDHHSIZ</th>\n",
       "      <th>INDFMINC</th>\n",
       "      <th>DMDHREDU</th>\n",
       "      <th>MEC18YR</th>\n",
       "      <th>Year</th>\n",
       "    </tr>\n",
       "  </thead>\n",
       "  <tbody>\n",
       "    <tr>\n",
       "      <th rowspan=\"3\" valign=\"top\">1999-2000</th>\n",
       "      <th>0</th>\n",
       "      <td>1.0</td>\n",
       "      <td>2.0</td>\n",
       "      <td>2.0</td>\n",
       "      <td>4.0</td>\n",
       "      <td>1.0</td>\n",
       "      <td>1.0</td>\n",
       "      <td>3.0</td>\n",
       "      <td>3.0</td>\n",
       "      <td>3.0</td>\n",
       "      <td>990.268132</td>\n",
       "      <td>1999-2000</td>\n",
       "    </tr>\n",
       "    <tr>\n",
       "      <th>1</th>\n",
       "      <td>2.0</td>\n",
       "      <td>1.0</td>\n",
       "      <td>77.0</td>\n",
       "      <td>3.0</td>\n",
       "      <td>1.0</td>\n",
       "      <td>1.0</td>\n",
       "      <td>1.0</td>\n",
       "      <td>8.0</td>\n",
       "      <td>5.0</td>\n",
       "      <td>3408.044382</td>\n",
       "      <td>1999-2000</td>\n",
       "    </tr>\n",
       "    <tr>\n",
       "      <th>2</th>\n",
       "      <td>3.0</td>\n",
       "      <td>2.0</td>\n",
       "      <td>10.0</td>\n",
       "      <td>3.0</td>\n",
       "      <td>2.0</td>\n",
       "      <td>2.0</td>\n",
       "      <td>4.0</td>\n",
       "      <td>6.0</td>\n",
       "      <td>4.0</td>\n",
       "      <td>4724.103694</td>\n",
       "      <td>1999-2000</td>\n",
       "    </tr>\n",
       "  </tbody>\n",
       "</table>\n",
       "</div>"
      ],
      "text/plain": [
       "             _id  RIAGENDR  RIDAGEYR  RIDRETH1  DMDBORN4  DMDCITZN  DMDHHSIZ  \\\n",
       "1999-2000 0  1.0       2.0       2.0       4.0       1.0       1.0       3.0   \n",
       "          1  2.0       1.0      77.0       3.0       1.0       1.0       1.0   \n",
       "          2  3.0       2.0      10.0       3.0       2.0       2.0       4.0   \n",
       "\n",
       "             INDFMINC  DMDHREDU      MEC18YR       Year  \n",
       "1999-2000 0       3.0       3.0   990.268132  1999-2000  \n",
       "          1       8.0       5.0  3408.044382  1999-2000  \n",
       "          2       6.0       4.0  4724.103694  1999-2000  "
      ]
     },
     "execution_count": 156,
     "metadata": {},
     "output_type": "execute_result"
    }
   ],
   "source": [
    "result_1999_2018_cleaned[:3]"
   ]
  },
  {
   "cell_type": "code",
   "execution_count": 157,
   "metadata": {},
   "outputs": [],
   "source": [
    "demo_dict = result_1999_2018_cleaned.to_dict(orient='records')"
   ]
  },
  {
   "cell_type": "code",
   "execution_count": 158,
   "metadata": {},
   "outputs": [
    {
     "data": {
      "text/plain": [
       "{'_id': 1.0,\n",
       " 'RIAGENDR': 2.0,\n",
       " 'RIDAGEYR': 2.0,\n",
       " 'RIDRETH1': 4.0,\n",
       " 'DMDBORN4': 1.0,\n",
       " 'DMDCITZN': 1.0,\n",
       " 'DMDHHSIZ': 3.0,\n",
       " 'INDFMINC': 3.0,\n",
       " 'DMDHREDU': 3.0,\n",
       " 'MEC18YR': 990.268132,\n",
       " 'Year': '1999-2000'}"
      ]
     },
     "execution_count": 158,
     "metadata": {},
     "output_type": "execute_result"
    }
   ],
   "source": [
    "demo_dict[0]"
   ]
  },
  {
   "cell_type": "code",
   "execution_count": 159,
   "metadata": {},
   "outputs": [
    {
     "data": {
      "text/plain": [
       "<pymongo.results.InsertManyResult at 0x140bb7bb0>"
      ]
     },
     "execution_count": 159,
     "metadata": {},
     "output_type": "execute_result"
    }
   ],
   "source": [
    "#Insert collection\n",
    "demo.insert_many(demo_dict)"
   ]
  },
  {
   "cell_type": "code",
   "execution_count": 160,
   "metadata": {
    "scrolled": true
   },
   "outputs": [
    {
     "data": {
      "text/plain": [
       "['hiq',\n",
       " 'alq',\n",
       " 'drxtot',\n",
       " 'smqfam',\n",
       " 'smq',\n",
       " 'bpq',\n",
       " 'bmx',\n",
       " 'whq',\n",
       " 'demo',\n",
       " 'huq',\n",
       " 'bpx',\n",
       " 'mcq_h',\n",
       " 'tchol',\n",
       " 'paq',\n",
       " 'demo_p',\n",
       " 'mcq_a',\n",
       " 'mcq_b',\n",
       " 'rdq',\n",
       " 'diq',\n",
       " 'mcq_c']"
      ]
     },
     "execution_count": 160,
     "metadata": {},
     "output_type": "execute_result"
    }
   ],
   "source": [
    "db.list_collection_names()"
   ]
  },
  {
   "cell_type": "code",
   "execution_count": 161,
   "metadata": {},
   "outputs": [],
   "source": [
    "#for d in demo.find():\n",
    "    #print(d)"
   ]
  }
 ],
 "metadata": {
  "kernelspec": {
   "display_name": "Python 3",
   "language": "python",
   "name": "python3"
  },
  "language_info": {
   "codemirror_mode": {
    "name": "ipython",
    "version": 3
   },
   "file_extension": ".py",
   "mimetype": "text/x-python",
   "name": "python",
   "nbconvert_exporter": "python",
   "pygments_lexer": "ipython3",
   "version": "3.10.2"
  }
 },
 "nbformat": 4,
 "nbformat_minor": 2
}
