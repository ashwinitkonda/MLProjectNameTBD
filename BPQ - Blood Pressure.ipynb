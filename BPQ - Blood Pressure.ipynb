{
 "cells": [
  {
   "cell_type": "code",
   "execution_count": 72,
   "metadata": {},
   "outputs": [],
   "source": [
    "#Import libraries\n",
    "import pandas as pd\n",
    "import numpy as np\n",
    "import matplotlib.pyplot as plt\n",
    "import glob\n",
    "import re\n",
    "from collections import defaultdict"
   ]
  },
  {
   "cell_type": "code",
   "execution_count": 73,
   "metadata": {},
   "outputs": [],
   "source": [
    "#Use one ./ if running from run_notebooks.py\n",
    "#Use two ../if running directly from Jupyter Notebooks\n",
    "#file_beg = '../NHANES-Downloader/data/csv_data/'\n",
    "file_beg = '../NHANES-Downloader/data/csv_data/'"
   ]
  },
  {
   "cell_type": "code",
   "execution_count": 74,
   "metadata": {},
   "outputs": [],
   "source": [
    "#Import all the files\n",
    "files1 = glob.glob(file_beg+'1999-2000/*/*.csv')\n",
    "files2 = glob.glob(file_beg+'2001-2002/*/*.csv')\n",
    "files3 = glob.glob(file_beg+'2003-2004/*/*.csv')\n",
    "files4 = glob.glob(file_beg+'2005-2006/*/*.csv')\n",
    "files5 = glob.glob(file_beg+'2007-2008/*/*.csv')\n",
    "files6 = glob.glob(file_beg+'2009-2010/*/*.csv')\n",
    "files7 = glob.glob(file_beg+'2011-2012/*/*.csv')\n",
    "files8 = glob.glob(file_beg+'2013-2014/*/*.csv')\n",
    "files9 = glob.glob(file_beg+'2015-2016/*/*.csv')\n",
    "files10 = glob.glob(file_beg+'2017-2018/*/*.csv')"
   ]
  },
  {
   "cell_type": "code",
   "execution_count": 75,
   "metadata": {},
   "outputs": [],
   "source": [
    "#Add files into a list\n",
    "file_list = [files1, files2, files3, files4, files5, \n",
    "          files6, files7, files8, files9, files10]"
   ]
  },
  {
   "cell_type": "code",
   "execution_count": 76,
   "metadata": {},
   "outputs": [],
   "source": [
    "#Add files into a list of sorted and dictionaries\n",
    "file_list_dict = []\n",
    "for x in file_list:\n",
    "    x.sort()\n",
    "    file_list_dict.append(dict(enumerate(x)))"
   ]
  },
  {
   "cell_type": "code",
   "execution_count": 77,
   "metadata": {},
   "outputs": [],
   "source": [
    "bpq_indx = [63, 79, 93, 91, 90, 97, 100, 128, 98, 115]"
   ]
  },
  {
   "cell_type": "code",
   "execution_count": 78,
   "metadata": {},
   "outputs": [],
   "source": [
    "dfs = defaultdict(int)\n",
    "for i in range(0,len(bpq_indx)):\n",
    "    dfs[i] = pd.read_csv(file_list_dict[i][bpq_indx[i]])"
   ]
  },
  {
   "cell_type": "markdown",
   "metadata": {},
   "source": [
    "## Important Variables"
   ]
  },
  {
   "cell_type": "code",
   "execution_count": 79,
   "metadata": {},
   "outputs": [],
   "source": [
    "#1999-2018\n",
    "descr = ['SEQN', 'High Blood Pressure (Y/N)']\n",
    "var_names = [\"SEQN\", \"BPQ020\"]"
   ]
  },
  {
   "cell_type": "code",
   "execution_count": 80,
   "metadata": {},
   "outputs": [],
   "source": [
    "#To display all columns in Jupyter Notebooks\n",
    "#pd.set_option('display.max_columns', 500)"
   ]
  },
  {
   "cell_type": "markdown",
   "metadata": {},
   "source": [
    "## Functions: Recategorize values, Count Values, Drop Rows"
   ]
  },
  {
   "cell_type": "code",
   "execution_count": 81,
   "metadata": {},
   "outputs": [],
   "source": [
    "#Recategorize function\n",
    "def recategorize(df, name, replace_dict):\n",
    "    df[name].replace(\n",
    "    to_replace=replace_dict,\n",
    "    inplace=True\n",
    ")\n",
    "    \n",
    "#Count values function\n",
    "def count_vals(df, name):\n",
    "    df_count = df.groupby(name)['SEQN'].nunique()\n",
    "    print(df_count,\"\\n\\n\",\"NaN: \", df[name].isnull().sum())\n",
    "    \n",
    "#Drop rows that include certain values\n",
    "def drop_rows(df, name, val_list):\n",
    "    df.drop(df[df[name].isin(val_list)].index, inplace=True)"
   ]
  },
  {
   "cell_type": "markdown",
   "metadata": {},
   "source": [
    "## Make a copy of the dataframes"
   ]
  },
  {
   "cell_type": "code",
   "execution_count": 82,
   "metadata": {},
   "outputs": [],
   "source": [
    "#1999-2004\n",
    "df0 = dfs[0][var_names].copy() #1999-2000\n",
    "df1 = dfs[1][var_names].copy() #2001-2002\n",
    "df2 = dfs[2][var_names].copy() #2003-2004\n",
    "df3 = dfs[3][var_names].copy() #2005-2006\n",
    "df4 = dfs[4][var_names].copy() #2007-2008\n",
    "df5 = dfs[5][var_names].copy() #2009-2010\n",
    "df6 = dfs[6][var_names].copy() #2011-2012\n",
    "df7 = dfs[7][var_names].copy() #2013-2014\n",
    "df8 = dfs[8][var_names].copy() #2015-2016\n",
    "df9 = dfs[9][var_names].copy() #2017-2018\n"
   ]
  },
  {
   "cell_type": "markdown",
   "metadata": {},
   "source": [
    "## Recategorize values"
   ]
  },
  {
   "cell_type": "code",
   "execution_count": 83,
   "metadata": {},
   "outputs": [],
   "source": [
    "#No recategorizing needed"
   ]
  },
  {
   "cell_type": "markdown",
   "metadata": {},
   "source": [
    "## Rename columns 1999 - 2004"
   ]
  },
  {
   "cell_type": "code",
   "execution_count": 84,
   "metadata": {},
   "outputs": [],
   "source": [
    "#No renaming needed"
   ]
  },
  {
   "cell_type": "markdown",
   "metadata": {},
   "source": [
    "## Append years 1999 - 2016"
   ]
  },
  {
   "cell_type": "code",
   "execution_count": 85,
   "metadata": {},
   "outputs": [],
   "source": [
    "years = [\"1999-2000\",\"2001-2002\",\"2003-2004\",\"2005-2006\",\"2007-2008\", \n",
    "        \"2009-2010\",\"2011-2012\",\"2013-2014\",\"2015-2016\",\"2017-2018\"]"
   ]
  },
  {
   "cell_type": "code",
   "execution_count": 86,
   "metadata": {},
   "outputs": [],
   "source": [
    "frames = [df0, df1, df2, df3, df4, df5, df6, df7, df8, df9]"
   ]
  },
  {
   "cell_type": "code",
   "execution_count": 87,
   "metadata": {},
   "outputs": [],
   "source": [
    "#Add years as a column\n",
    "for i, df in enumerate(frames):\n",
    "    df[\"Year\"] = years[i]"
   ]
  },
  {
   "cell_type": "code",
   "execution_count": 88,
   "metadata": {},
   "outputs": [],
   "source": [
    "result_1999_2018 = pd.concat(frames, keys = years)"
   ]
  },
  {
   "cell_type": "code",
   "execution_count": 89,
   "metadata": {},
   "outputs": [],
   "source": [
    "result_1999_2018_cleaned = result_1999_2018.copy()"
   ]
  },
  {
   "cell_type": "code",
   "execution_count": 90,
   "metadata": {},
   "outputs": [
    {
     "data": {
      "text/html": [
       "<div>\n",
       "<style scoped>\n",
       "    .dataframe tbody tr th:only-of-type {\n",
       "        vertical-align: middle;\n",
       "    }\n",
       "\n",
       "    .dataframe tbody tr th {\n",
       "        vertical-align: top;\n",
       "    }\n",
       "\n",
       "    .dataframe thead th {\n",
       "        text-align: right;\n",
       "    }\n",
       "</style>\n",
       "<table border=\"1\" class=\"dataframe\">\n",
       "  <thead>\n",
       "    <tr style=\"text-align: right;\">\n",
       "      <th></th>\n",
       "      <th></th>\n",
       "      <th>SEQN</th>\n",
       "      <th>BPQ020</th>\n",
       "      <th>Year</th>\n",
       "    </tr>\n",
       "  </thead>\n",
       "  <tbody>\n",
       "    <tr>\n",
       "      <th rowspan=\"5\" valign=\"top\">1999-2000</th>\n",
       "      <th>0</th>\n",
       "      <td>2.0</td>\n",
       "      <td>2.0</td>\n",
       "      <td>1999-2000</td>\n",
       "    </tr>\n",
       "    <tr>\n",
       "      <th>1</th>\n",
       "      <td>5.0</td>\n",
       "      <td>1.0</td>\n",
       "      <td>1999-2000</td>\n",
       "    </tr>\n",
       "    <tr>\n",
       "      <th>2</th>\n",
       "      <td>6.0</td>\n",
       "      <td>2.0</td>\n",
       "      <td>1999-2000</td>\n",
       "    </tr>\n",
       "    <tr>\n",
       "      <th>3</th>\n",
       "      <td>7.0</td>\n",
       "      <td>1.0</td>\n",
       "      <td>1999-2000</td>\n",
       "    </tr>\n",
       "    <tr>\n",
       "      <th>4</th>\n",
       "      <td>10.0</td>\n",
       "      <td>2.0</td>\n",
       "      <td>1999-2000</td>\n",
       "    </tr>\n",
       "    <tr>\n",
       "      <th>...</th>\n",
       "      <th>...</th>\n",
       "      <td>...</td>\n",
       "      <td>...</td>\n",
       "      <td>...</td>\n",
       "    </tr>\n",
       "    <tr>\n",
       "      <th rowspan=\"5\" valign=\"top\">2017-2018</th>\n",
       "      <th>6156</th>\n",
       "      <td>102950.0</td>\n",
       "      <td>1.0</td>\n",
       "      <td>2017-2018</td>\n",
       "    </tr>\n",
       "    <tr>\n",
       "      <th>6157</th>\n",
       "      <td>102952.0</td>\n",
       "      <td>2.0</td>\n",
       "      <td>2017-2018</td>\n",
       "    </tr>\n",
       "    <tr>\n",
       "      <th>6158</th>\n",
       "      <td>102953.0</td>\n",
       "      <td>2.0</td>\n",
       "      <td>2017-2018</td>\n",
       "    </tr>\n",
       "    <tr>\n",
       "      <th>6159</th>\n",
       "      <td>102954.0</td>\n",
       "      <td>2.0</td>\n",
       "      <td>2017-2018</td>\n",
       "    </tr>\n",
       "    <tr>\n",
       "      <th>6160</th>\n",
       "      <td>102956.0</td>\n",
       "      <td>1.0</td>\n",
       "      <td>2017-2018</td>\n",
       "    </tr>\n",
       "  </tbody>\n",
       "</table>\n",
       "<p>63592 rows × 3 columns</p>\n",
       "</div>"
      ],
      "text/plain": [
       "                    SEQN  BPQ020       Year\n",
       "1999-2000 0          2.0     2.0  1999-2000\n",
       "          1          5.0     1.0  1999-2000\n",
       "          2          6.0     2.0  1999-2000\n",
       "          3          7.0     1.0  1999-2000\n",
       "          4         10.0     2.0  1999-2000\n",
       "...                  ...     ...        ...\n",
       "2017-2018 6156  102950.0     1.0  2017-2018\n",
       "          6157  102952.0     2.0  2017-2018\n",
       "          6158  102953.0     2.0  2017-2018\n",
       "          6159  102954.0     2.0  2017-2018\n",
       "          6160  102956.0     1.0  2017-2018\n",
       "\n",
       "[63592 rows x 3 columns]"
      ]
     },
     "execution_count": 90,
     "metadata": {},
     "output_type": "execute_result"
    }
   ],
   "source": [
    "result_1999_2018"
   ]
  },
  {
   "cell_type": "markdown",
   "metadata": {},
   "source": [
    "## Count values for each column"
   ]
  },
  {
   "cell_type": "code",
   "execution_count": 91,
   "metadata": {},
   "outputs": [],
   "source": [
    "col_names = var_names"
   ]
  },
  {
   "cell_type": "code",
   "execution_count": 92,
   "metadata": {},
   "outputs": [
    {
     "data": {
      "text/plain": [
       "2"
      ]
     },
     "execution_count": 92,
     "metadata": {},
     "output_type": "execute_result"
    }
   ],
   "source": [
    "len(col_names)"
   ]
  },
  {
   "cell_type": "code",
   "execution_count": 93,
   "metadata": {},
   "outputs": [
    {
     "name": "stdout",
     "output_type": "stream",
     "text": [
      "BPQ020\n",
      "1.0    19434\n",
      "2.0    43785\n",
      "9.0      104\n",
      "Name: SEQN, dtype: int64 \n",
      "\n",
      " NaN:  269\n"
     ]
    }
   ],
   "source": [
    "#BPQ020 - Ever told you had high blood pressure\n",
    "count_vals(result_1999_2018, col_names[1])"
   ]
  },
  {
   "cell_type": "code",
   "execution_count": 94,
   "metadata": {},
   "outputs": [
    {
     "data": {
      "text/plain": [
       "63592"
      ]
     },
     "execution_count": 94,
     "metadata": {},
     "output_type": "execute_result"
    }
   ],
   "source": [
    "len(result_1999_2018)"
   ]
  },
  {
   "cell_type": "markdown",
   "metadata": {},
   "source": [
    "## Remove missing values:"
   ]
  },
  {
   "cell_type": "code",
   "execution_count": 95,
   "metadata": {},
   "outputs": [],
   "source": [
    "drop_rows(result_1999_2018_cleaned, col_names[1], [np.nan, 7, 9])"
   ]
  },
  {
   "cell_type": "markdown",
   "metadata": {},
   "source": [
    "## See if missing values have been correctly removed:"
   ]
  },
  {
   "cell_type": "code",
   "execution_count": 96,
   "metadata": {
    "scrolled": true
   },
   "outputs": [
    {
     "name": "stdout",
     "output_type": "stream",
     "text": [
      "BPQ020\n",
      "1.0    19434\n",
      "2.0    43785\n",
      "Name: SEQN, dtype: int64 \n",
      "\n",
      " NaN:  0\n"
     ]
    }
   ],
   "source": [
    "count_vals(result_1999_2018_cleaned, col_names[1])"
   ]
  },
  {
   "cell_type": "code",
   "execution_count": 97,
   "metadata": {},
   "outputs": [
    {
     "data": {
      "text/plain": [
       "63592"
      ]
     },
     "execution_count": 97,
     "metadata": {},
     "output_type": "execute_result"
    }
   ],
   "source": [
    "before = len(result_1999_2018)\n",
    "before"
   ]
  },
  {
   "cell_type": "code",
   "execution_count": 98,
   "metadata": {},
   "outputs": [
    {
     "data": {
      "text/plain": [
       "63219"
      ]
     },
     "execution_count": 98,
     "metadata": {},
     "output_type": "execute_result"
    }
   ],
   "source": [
    "after = len(result_1999_2018_cleaned)\n",
    "after"
   ]
  },
  {
   "cell_type": "code",
   "execution_count": 99,
   "metadata": {},
   "outputs": [
    {
     "data": {
      "text/plain": [
       "0.0059001249624321805"
      ]
     },
     "execution_count": 99,
     "metadata": {},
     "output_type": "execute_result"
    }
   ],
   "source": [
    "(before-after)/after"
   ]
  },
  {
   "cell_type": "markdown",
   "metadata": {},
   "source": [
    "## MongoDB Insertion"
   ]
  },
  {
   "cell_type": "code",
   "execution_count": 100,
   "metadata": {},
   "outputs": [],
   "source": [
    "#Import MongoClient\n",
    "from pymongo import MongoClient\n",
    "\n",
    "#Create a MongoClient to run the MongoDB instance\n",
    "client = MongoClient('localhost', 27017)"
   ]
  },
  {
   "cell_type": "code",
   "execution_count": 101,
   "metadata": {},
   "outputs": [
    {
     "data": {
      "text/plain": [
       "Database(MongoClient(host=['localhost:27017'], document_class=dict, tz_aware=False, connect=True), 'NHANES')"
      ]
     },
     "execution_count": 101,
     "metadata": {},
     "output_type": "execute_result"
    }
   ],
   "source": [
    "#Connect to existing database\n",
    "db = client.NHANES\n",
    "db"
   ]
  },
  {
   "cell_type": "code",
   "execution_count": 102,
   "metadata": {},
   "outputs": [],
   "source": [
    "#Create collection in database\n",
    "bpq = db.bpq"
   ]
  },
  {
   "cell_type": "code",
   "execution_count": 103,
   "metadata": {},
   "outputs": [],
   "source": [
    "#If collections exist, then drop\n",
    "if 'bpq' in db.list_collection_names():\n",
    "    bpq.drop()\n",
    "    db.list_collection_names()"
   ]
  },
  {
   "cell_type": "markdown",
   "metadata": {},
   "source": [
    "## Create new collection to input into database"
   ]
  },
  {
   "cell_type": "code",
   "execution_count": 104,
   "metadata": {},
   "outputs": [
    {
     "data": {
      "text/html": [
       "<div>\n",
       "<style scoped>\n",
       "    .dataframe tbody tr th:only-of-type {\n",
       "        vertical-align: middle;\n",
       "    }\n",
       "\n",
       "    .dataframe tbody tr th {\n",
       "        vertical-align: top;\n",
       "    }\n",
       "\n",
       "    .dataframe thead th {\n",
       "        text-align: right;\n",
       "    }\n",
       "</style>\n",
       "<table border=\"1\" class=\"dataframe\">\n",
       "  <thead>\n",
       "    <tr style=\"text-align: right;\">\n",
       "      <th></th>\n",
       "      <th></th>\n",
       "      <th>SEQN</th>\n",
       "      <th>BPQ020</th>\n",
       "      <th>Year</th>\n",
       "    </tr>\n",
       "  </thead>\n",
       "  <tbody>\n",
       "    <tr>\n",
       "      <th rowspan=\"3\" valign=\"top\">1999-2000</th>\n",
       "      <th>0</th>\n",
       "      <td>2.0</td>\n",
       "      <td>2.0</td>\n",
       "      <td>1999-2000</td>\n",
       "    </tr>\n",
       "    <tr>\n",
       "      <th>1</th>\n",
       "      <td>5.0</td>\n",
       "      <td>1.0</td>\n",
       "      <td>1999-2000</td>\n",
       "    </tr>\n",
       "    <tr>\n",
       "      <th>2</th>\n",
       "      <td>6.0</td>\n",
       "      <td>2.0</td>\n",
       "      <td>1999-2000</td>\n",
       "    </tr>\n",
       "  </tbody>\n",
       "</table>\n",
       "</div>"
      ],
      "text/plain": [
       "             SEQN  BPQ020       Year\n",
       "1999-2000 0   2.0     2.0  1999-2000\n",
       "          1   5.0     1.0  1999-2000\n",
       "          2   6.0     2.0  1999-2000"
      ]
     },
     "execution_count": 104,
     "metadata": {},
     "output_type": "execute_result"
    }
   ],
   "source": [
    "result_1999_2018_cleaned[:3]"
   ]
  },
  {
   "cell_type": "code",
   "execution_count": 105,
   "metadata": {},
   "outputs": [],
   "source": [
    "#Set SEQN as _id (Primary Key)\n",
    "result_1999_2018_cleaned.rename(columns={'SEQN':'_id'}, inplace=True)"
   ]
  },
  {
   "cell_type": "code",
   "execution_count": 106,
   "metadata": {},
   "outputs": [],
   "source": [
    "#Dataframe to dictionary\n",
    "bpq_dict = result_1999_2018_cleaned.to_dict(orient='records')"
   ]
  },
  {
   "cell_type": "code",
   "execution_count": 107,
   "metadata": {},
   "outputs": [
    {
     "data": {
      "text/plain": [
       "{'_id': 2.0, 'BPQ020': 2.0, 'Year': '1999-2000'}"
      ]
     },
     "execution_count": 107,
     "metadata": {},
     "output_type": "execute_result"
    }
   ],
   "source": [
    "bpq_dict[0]"
   ]
  },
  {
   "cell_type": "code",
   "execution_count": 108,
   "metadata": {},
   "outputs": [
    {
     "data": {
      "text/plain": [
       "<pymongo.results.InsertManyResult at 0x139071120>"
      ]
     },
     "execution_count": 108,
     "metadata": {},
     "output_type": "execute_result"
    }
   ],
   "source": [
    "#Insert collection\n",
    "bpq.insert_many(bpq_dict)"
   ]
  },
  {
   "cell_type": "code",
   "execution_count": 109,
   "metadata": {},
   "outputs": [
    {
     "data": {
      "text/plain": [
       "['alq', 'bpq', 'bmx']"
      ]
     },
     "execution_count": 109,
     "metadata": {},
     "output_type": "execute_result"
    }
   ],
   "source": [
    "#View collections\n",
    "db.list_collection_names()"
   ]
  }
 ],
 "metadata": {
  "kernelspec": {
   "display_name": "Python 3",
   "language": "python",
   "name": "python3"
  },
  "language_info": {
   "codemirror_mode": {
    "name": "ipython",
    "version": 3
   },
   "file_extension": ".py",
   "mimetype": "text/x-python",
   "name": "python",
   "nbconvert_exporter": "python",
   "pygments_lexer": "ipython3",
   "version": "3.10.2"
  }
 },
 "nbformat": 4,
 "nbformat_minor": 2
}
