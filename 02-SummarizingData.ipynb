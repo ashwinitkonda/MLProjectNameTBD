{
 "cells": [
  {
   "cell_type": "markdown",
   "metadata": {},
   "source": [
    "# Summarizing Data\n"
   ]
  },
  {
   "cell_type": "markdown",
   "metadata": {},
   "source": [
    "This chapter will introduce you to how to summarize data using data frames in Pandas."
   ]
  },
  {
   "cell_type": "markdown",
   "metadata": {},
   "source": [
    "## Working with data frames"
   ]
  },
  {
   "cell_type": "markdown",
   "metadata": {},
   "source": [
    "In the last chapter you were introduced to the concept of a *data frame*, which we will use throughout much of this book.  \n",
    "In particular, we will use a dataset known as [NHANES](https://www.cdc.gov/nchs/nhanes/index.htm) for several of our examples, so let's load the library that provides us access to the data.\n",
    "This is a large dataset collected from a sample of individuals in the United States every two years, which measures many different aspects of their health and lifestyles.\n",
    "To access the data, we will use a Python package called [nhanes](https://github.com/poldrack/nhanes) that contains a function to load a cleaned-up version of the dataset. "
   ]
  },
  {
   "cell_type": "code",
   "execution_count": 5,
   "metadata": {},
   "outputs": [],
   "source": [
    "from nhanes.load import load_NHANES_data\n",
    "nhanes_data = load_NHANES_data()"
   ]
  },
  {
   "cell_type": "markdown",
   "metadata": {},
   "source": [
    "We can use the ``.head()`` method to look inside the data frame:"
   ]
  },
  {
   "cell_type": "code",
   "execution_count": 6,
   "metadata": {},
   "outputs": [
    {
     "data": {
      "text/html": [
       "<div>\n",
       "<style scoped>\n",
       "    .dataframe tbody tr th:only-of-type {\n",
       "        vertical-align: middle;\n",
       "    }\n",
       "\n",
       "    .dataframe tbody tr th {\n",
       "        vertical-align: top;\n",
       "    }\n",
       "\n",
       "    .dataframe thead th {\n",
       "        text-align: right;\n",
       "    }\n",
       "</style>\n",
       "<table border=\"1\" class=\"dataframe\">\n",
       "  <thead>\n",
       "    <tr style=\"text-align: right;\">\n",
       "      <th></th>\n",
       "      <th>GeneralHealthCondition</th>\n",
       "      <th>EverBreastfedOrFedBreastmilk</th>\n",
       "      <th>AgeStoppedBreastfeedingdays</th>\n",
       "      <th>AgeFirstFedFormuladays</th>\n",
       "      <th>AgeStoppedReceivingFormuladays</th>\n",
       "      <th>AgeStartedOtherFoodbeverage</th>\n",
       "      <th>AgeFirstFedMilkdays</th>\n",
       "      <th>TypeOfMilkFirstFedWholeMilk</th>\n",
       "      <th>TypeOfMilkFirstFed2Milk</th>\n",
       "      <th>TypeOfMilkFirstFed1Milk</th>\n",
       "      <th>...</th>\n",
       "      <th>DaysSmokedCigsDuringPast30Days</th>\n",
       "      <th>AvgCigarettesdayDuringPast30Days</th>\n",
       "      <th>TriedToQuitSmoking</th>\n",
       "      <th>TimesStoppedSmokingCigarettes</th>\n",
       "      <th>HowLongWereYouAbleToStopSmoking</th>\n",
       "      <th>UnitOfMeasureDayweekmonthyear_2_SMQ</th>\n",
       "      <th>CurrentSelfreportedHeightInches</th>\n",
       "      <th>CurrentSelfreportedWeightPounds</th>\n",
       "      <th>TriedToLoseWeightInPastYear</th>\n",
       "      <th>TimesLost10LbsOrMoreToLoseWeight</th>\n",
       "    </tr>\n",
       "    <tr>\n",
       "      <th>SEQN</th>\n",
       "      <th></th>\n",
       "      <th></th>\n",
       "      <th></th>\n",
       "      <th></th>\n",
       "      <th></th>\n",
       "      <th></th>\n",
       "      <th></th>\n",
       "      <th></th>\n",
       "      <th></th>\n",
       "      <th></th>\n",
       "      <th></th>\n",
       "      <th></th>\n",
       "      <th></th>\n",
       "      <th></th>\n",
       "      <th></th>\n",
       "      <th></th>\n",
       "      <th></th>\n",
       "      <th></th>\n",
       "      <th></th>\n",
       "      <th></th>\n",
       "      <th></th>\n",
       "    </tr>\n",
       "  </thead>\n",
       "  <tbody>\n",
       "    <tr>\n",
       "      <th>93703.0</th>\n",
       "      <td>NaN</td>\n",
       "      <td>1.0</td>\n",
       "      <td>273.0</td>\n",
       "      <td>1.0</td>\n",
       "      <td>365.0</td>\n",
       "      <td>152.0</td>\n",
       "      <td>365.0</td>\n",
       "      <td>Whole or regular milk</td>\n",
       "      <td>NaN</td>\n",
       "      <td>NaN</td>\n",
       "      <td>...</td>\n",
       "      <td>NaN</td>\n",
       "      <td>NaN</td>\n",
       "      <td>NaN</td>\n",
       "      <td>NaN</td>\n",
       "      <td>NaN</td>\n",
       "      <td>NaN</td>\n",
       "      <td>NaN</td>\n",
       "      <td>NaN</td>\n",
       "      <td>NaN</td>\n",
       "      <td>NaN</td>\n",
       "    </tr>\n",
       "    <tr>\n",
       "      <th>93704.0</th>\n",
       "      <td>NaN</td>\n",
       "      <td>1.0</td>\n",
       "      <td>60.0</td>\n",
       "      <td>3.0</td>\n",
       "      <td>365.0</td>\n",
       "      <td>126.0</td>\n",
       "      <td>365.0</td>\n",
       "      <td>Whole or regular milk</td>\n",
       "      <td>NaN</td>\n",
       "      <td>NaN</td>\n",
       "      <td>...</td>\n",
       "      <td>NaN</td>\n",
       "      <td>NaN</td>\n",
       "      <td>NaN</td>\n",
       "      <td>NaN</td>\n",
       "      <td>NaN</td>\n",
       "      <td>NaN</td>\n",
       "      <td>NaN</td>\n",
       "      <td>NaN</td>\n",
       "      <td>NaN</td>\n",
       "      <td>NaN</td>\n",
       "    </tr>\n",
       "    <tr>\n",
       "      <th>93705.0</th>\n",
       "      <td>Good</td>\n",
       "      <td>NaN</td>\n",
       "      <td>NaN</td>\n",
       "      <td>NaN</td>\n",
       "      <td>NaN</td>\n",
       "      <td>NaN</td>\n",
       "      <td>NaN</td>\n",
       "      <td>NaN</td>\n",
       "      <td>NaN</td>\n",
       "      <td>NaN</td>\n",
       "      <td>...</td>\n",
       "      <td>NaN</td>\n",
       "      <td>NaN</td>\n",
       "      <td>NaN</td>\n",
       "      <td>NaN</td>\n",
       "      <td>NaN</td>\n",
       "      <td>NaN</td>\n",
       "      <td>63.0</td>\n",
       "      <td>165.0</td>\n",
       "      <td>0.0</td>\n",
       "      <td>11 times or more</td>\n",
       "    </tr>\n",
       "    <tr>\n",
       "      <th>93706.0</th>\n",
       "      <td>Very good</td>\n",
       "      <td>NaN</td>\n",
       "      <td>NaN</td>\n",
       "      <td>NaN</td>\n",
       "      <td>NaN</td>\n",
       "      <td>NaN</td>\n",
       "      <td>NaN</td>\n",
       "      <td>NaN</td>\n",
       "      <td>NaN</td>\n",
       "      <td>NaN</td>\n",
       "      <td>...</td>\n",
       "      <td>NaN</td>\n",
       "      <td>NaN</td>\n",
       "      <td>NaN</td>\n",
       "      <td>NaN</td>\n",
       "      <td>NaN</td>\n",
       "      <td>NaN</td>\n",
       "      <td>68.0</td>\n",
       "      <td>145.0</td>\n",
       "      <td>0.0</td>\n",
       "      <td>Never</td>\n",
       "    </tr>\n",
       "    <tr>\n",
       "      <th>93707.0</th>\n",
       "      <td>Good</td>\n",
       "      <td>NaN</td>\n",
       "      <td>NaN</td>\n",
       "      <td>NaN</td>\n",
       "      <td>NaN</td>\n",
       "      <td>NaN</td>\n",
       "      <td>NaN</td>\n",
       "      <td>NaN</td>\n",
       "      <td>NaN</td>\n",
       "      <td>NaN</td>\n",
       "      <td>...</td>\n",
       "      <td>NaN</td>\n",
       "      <td>NaN</td>\n",
       "      <td>NaN</td>\n",
       "      <td>NaN</td>\n",
       "      <td>NaN</td>\n",
       "      <td>NaN</td>\n",
       "      <td>NaN</td>\n",
       "      <td>NaN</td>\n",
       "      <td>NaN</td>\n",
       "      <td>NaN</td>\n",
       "    </tr>\n",
       "  </tbody>\n",
       "</table>\n",
       "<p>5 rows × 197 columns</p>\n",
       "</div>"
      ],
      "text/plain": [
       "        GeneralHealthCondition  EverBreastfedOrFedBreastmilk  \\\n",
       "SEQN                                                           \n",
       "93703.0                    NaN                           1.0   \n",
       "93704.0                    NaN                           1.0   \n",
       "93705.0                   Good                           NaN   \n",
       "93706.0              Very good                           NaN   \n",
       "93707.0                   Good                           NaN   \n",
       "\n",
       "         AgeStoppedBreastfeedingdays  AgeFirstFedFormuladays  \\\n",
       "SEQN                                                           \n",
       "93703.0                        273.0                     1.0   \n",
       "93704.0                         60.0                     3.0   \n",
       "93705.0                          NaN                     NaN   \n",
       "93706.0                          NaN                     NaN   \n",
       "93707.0                          NaN                     NaN   \n",
       "\n",
       "         AgeStoppedReceivingFormuladays  AgeStartedOtherFoodbeverage  \\\n",
       "SEQN                                                                   \n",
       "93703.0                           365.0                        152.0   \n",
       "93704.0                           365.0                        126.0   \n",
       "93705.0                             NaN                          NaN   \n",
       "93706.0                             NaN                          NaN   \n",
       "93707.0                             NaN                          NaN   \n",
       "\n",
       "         AgeFirstFedMilkdays TypeOfMilkFirstFedWholeMilk  \\\n",
       "SEQN                                                       \n",
       "93703.0                365.0       Whole or regular milk   \n",
       "93704.0                365.0       Whole or regular milk   \n",
       "93705.0                  NaN                         NaN   \n",
       "93706.0                  NaN                         NaN   \n",
       "93707.0                  NaN                         NaN   \n",
       "\n",
       "         TypeOfMilkFirstFed2Milk  TypeOfMilkFirstFed1Milk  ...  \\\n",
       "SEQN                                                       ...   \n",
       "93703.0                      NaN                      NaN  ...   \n",
       "93704.0                      NaN                      NaN  ...   \n",
       "93705.0                      NaN                      NaN  ...   \n",
       "93706.0                      NaN                      NaN  ...   \n",
       "93707.0                      NaN                      NaN  ...   \n",
       "\n",
       "         DaysSmokedCigsDuringPast30Days  AvgCigarettesdayDuringPast30Days  \\\n",
       "SEQN                                                                        \n",
       "93703.0                             NaN                               NaN   \n",
       "93704.0                             NaN                               NaN   \n",
       "93705.0                             NaN                               NaN   \n",
       "93706.0                             NaN                               NaN   \n",
       "93707.0                             NaN                               NaN   \n",
       "\n",
       "         TriedToQuitSmoking TimesStoppedSmokingCigarettes  \\\n",
       "SEQN                                                        \n",
       "93703.0                 NaN                           NaN   \n",
       "93704.0                 NaN                           NaN   \n",
       "93705.0                 NaN                           NaN   \n",
       "93706.0                 NaN                           NaN   \n",
       "93707.0                 NaN                           NaN   \n",
       "\n",
       "        HowLongWereYouAbleToStopSmoking UnitOfMeasureDayweekmonthyear_2_SMQ  \\\n",
       "SEQN                                                                          \n",
       "93703.0                             NaN                                 NaN   \n",
       "93704.0                             NaN                                 NaN   \n",
       "93705.0                             NaN                                 NaN   \n",
       "93706.0                             NaN                                 NaN   \n",
       "93707.0                             NaN                                 NaN   \n",
       "\n",
       "         CurrentSelfreportedHeightInches  CurrentSelfreportedWeightPounds  \\\n",
       "SEQN                                                                        \n",
       "93703.0                              NaN                              NaN   \n",
       "93704.0                              NaN                              NaN   \n",
       "93705.0                             63.0                            165.0   \n",
       "93706.0                             68.0                            145.0   \n",
       "93707.0                              NaN                              NaN   \n",
       "\n",
       "         TriedToLoseWeightInPastYear  TimesLost10LbsOrMoreToLoseWeight  \n",
       "SEQN                                                                    \n",
       "93703.0                          NaN                               NaN  \n",
       "93704.0                          NaN                               NaN  \n",
       "93705.0                          0.0                  11 times or more  \n",
       "93706.0                          0.0                             Never  \n",
       "93707.0                          NaN                               NaN  \n",
       "\n",
       "[5 rows x 197 columns]"
      ]
     },
     "execution_count": 6,
     "metadata": {},
     "output_type": "execute_result"
    }
   ],
   "source": [
    "nhanes_data.head()"
   ]
  },
  {
   "cell_type": "markdown",
   "metadata": {},
   "source": [
    "Let's look at the structure of this dataset.  We can see the *shape* of the data frame -- that is, the number of rows and columns -- using the ``.shape`` method:"
   ]
  },
  {
   "cell_type": "code",
   "execution_count": 3,
   "metadata": {},
   "outputs": [
    {
     "data": {
      "text/plain": [
       "(8366, 197)"
      ]
     },
     "execution_count": 3,
     "metadata": {},
     "output_type": "execute_result"
    }
   ],
   "source": [
    "nhanes_data.shape"
   ]
  },
  {
   "cell_type": "markdown",
   "metadata": {},
   "source": [
    "We see that the dataset has many more rows than columns. Let's look more closely at what is contained in the rows and columns.  To obtain the labels for the rows, we use the ``.index`` operator:"
   ]
  },
  {
   "cell_type": "code",
   "execution_count": 4,
   "metadata": {},
   "outputs": [
    {
     "data": {
      "text/plain": [
       "Float64Index([ 93703.0,  93704.0,  93705.0,  93706.0,  93707.0,  93708.0,\n",
       "               93709.0,  93711.0,  93712.0,  93713.0,\n",
       "              ...\n",
       "              102946.0, 102947.0, 102948.0, 102949.0, 102951.0, 102952.0,\n",
       "              102953.0, 102954.0, 102955.0, 102956.0],\n",
       "             dtype='float64', name='SEQN', length=8366)"
      ]
     },
     "execution_count": 4,
     "metadata": {},
     "output_type": "execute_result"
    }
   ],
   "source": [
    "nhanes_data.index"
   ]
  },
  {
   "cell_type": "markdown",
   "metadata": {},
   "source": [
    "The index contains a bunch of numbers, each of which refers to one of the individuals in the NHANES data set.  In a data frame, the rows always refer to *observations*, by which mean that each row reflects an individual unit of data.  In the case of a dataset like NHANES, the observations would usually refer to individual people, though as we will see later, we sometimes want the rows to be even more specific.\n",
    "We can also look at the content of the columns, which we can access using the ``.columns`` operator:"
   ]
  },
  {
   "cell_type": "code",
   "execution_count": null,
   "metadata": {},
   "outputs": [],
   "source": [
    "nhanes_data.columns"
   ]
  },
  {
   "cell_type": "markdown",
   "metadata": {
    "lines_to_next_cell": 2
   },
   "source": [
    "Each of the columns contains a different *variable* -- that is, a different thing that is measured on each observation."
   ]
  },
  {
   "cell_type": "markdown",
   "metadata": {},
   "source": [
    "### Selecting rows (observations) and columns (variables)"
   ]
  },
  {
   "cell_type": "markdown",
   "metadata": {},
   "source": [
    "We often want to select a subset of rows from a data frame. You saw in the last chapter how we can access specific rows using the ``.loc`` operator.  This operator requires us to refer to the row names (that is, the *index*) and column names.  For example, if we wanted to know the value of the `GeneralHealthCondition` variable for the indivdiual labeled 93707, we could use the following:"
   ]
  },
  {
   "cell_type": "code",
   "execution_count": null,
   "metadata": {},
   "outputs": [],
   "source": [
    "nhanes_data.loc[93707, 'GeneralHealthCondition']"
   ]
  },
  {
   "cell_type": "markdown",
   "metadata": {},
   "source": [
    "If there were several variables that we wanted to see for this individual, we could include the names of those variables in a *list*:"
   ]
  },
  {
   "cell_type": "code",
   "execution_count": null,
   "metadata": {},
   "outputs": [],
   "source": [
    "nhanes_data.loc[93707, ['GeneralHealthCondition', 'Gender', 'AgeInYearsAtScreening']]"
   ]
  },
  {
   "cell_type": "markdown",
   "metadata": {},
   "source": [
    "This shows us the values for each of those variables for this individual. We could also do the same if there were several individuals that we were interested in:"
   ]
  },
  {
   "cell_type": "code",
   "execution_count": null,
   "metadata": {},
   "outputs": [],
   "source": [
    "nhanes_data.loc[[102951, 102955, 93707], ['GeneralHealthCondition', 'Gender', 'AgeInYearsAtScreening']]"
   ]
  },
  {
   "cell_type": "markdown",
   "metadata": {},
   "source": [
    "### Missing values"
   ]
  },
  {
   "cell_type": "markdown",
   "metadata": {},
   "source": [
    "You will notice that the `GeneralHealthCondition` variable for the first individual in the previous cell contained *NaN*, which stands for \"not a number\".  This is generally used to denote that the data are missing for this particular observation; perhaps they declined to answer the question, or the interviewer failed to properly record the answer.  Missing data are common when we are working with real data.  There are many sophsticated ways to deal with missing data in statistics, but for the moment we will just remove observations that have a missing data on one of our variables of interest, which we can do using the `.dropna()` operator:"
   ]
  },
  {
   "cell_type": "code",
   "execution_count": null,
   "metadata": {},
   "outputs": [],
   "source": [
    "my_subset = nhanes_data.loc[[102951, 102955, 93707], ['GeneralHealthCondition', 'Gender', 'AgeInYearsAtScreening']]\n",
    "my_subset.dropna()"
   ]
  },
  {
   "cell_type": "markdown",
   "metadata": {
    "lines_to_next_cell": 2
   },
   "source": [
    "This operator removes any rows that have missing values for any of the variables in the data frame."
   ]
  },
  {
   "cell_type": "markdown",
   "metadata": {},
   "source": [
    "### Selecting rows by value"
   ]
  },
  {
   "cell_type": "markdown",
   "metadata": {},
   "source": [
    "Let's say that we want to analyze NHANES data, but only for those individuals who are over 50 years of age.  We can use the `query` operator on a data frame to find rows that match particular conditions:"
   ]
  },
  {
   "cell_type": "code",
   "execution_count": null,
   "metadata": {},
   "outputs": [],
   "source": [
    "over_50_df = nhanes_data.query('AgeInYearsAtScreening >= 50')\n",
    "over_50_df.shape"
   ]
  },
  {
   "cell_type": "markdown",
   "metadata": {},
   "source": [
    "This shows that there were 2898 observations that matched our criterion.  We can also search for specific values: For example, let's say that we want to find anyone who reported that their general health condition was \"Good\".  This one is a bit tricky, because we are searching for a string of text, which we have to embed in our query, which is also a string of text.  Fortunately, there are two different quotation marks that we can use (`'` or `\"`) and Python treats them as distinct operators, so we can surround our text within double quotes, inside a string surrounded by single quotes:"
   ]
  },
  {
   "cell_type": "code",
   "execution_count": null,
   "metadata": {},
   "outputs": [],
   "source": [
    "good_health_df = nhanes_data.query('GeneralHealthCondition == \"Good\"')\n",
    "good_health_df.shape"
   ]
  },
  {
   "cell_type": "markdown",
   "metadata": {},
   "source": [
    "## Creating new variables"
   ]
  },
  {
   "cell_type": "markdown",
   "metadata": {},
   "source": [
    "We can add a new variable to a data frame easily, by simply giving it a new name. Let's say that we wanted to convert the weight value in NHANES (stored in the `WeightKg` variable) from kilograms to pounds.  "
   ]
  },
  {
   "cell_type": "code",
   "execution_count": null,
   "metadata": {},
   "outputs": [],
   "source": [
    "nhanes_data['WeightLbs'] = nhanes_data['WeightKg'] * 2.205"
   ]
  },
  {
   "cell_type": "markdown",
   "metadata": {},
   "source": [
    "This shows another way to refer to a particular variable in a dataframe: simply put its name in square brackets.  Pandas also has the ability to replace particular values in a variable.  First, let's look at the values of the `Gender` variable in the data frame, to see what values it takes. We can see all of the unique values of a variable using the `.unique()` operator:"
   ]
  },
  {
   "cell_type": "code",
   "execution_count": null,
   "metadata": {},
   "outputs": [],
   "source": [
    "nhanes_data['Gender'].unique()"
   ]
  },
  {
   "cell_type": "markdown",
   "metadata": {
    "lines_to_next_cell": 2
   },
   "source": [
    "Now let's say that we wanted to recode the `Gender` variable so that instead of \"Female\" and \"Male\" its values were \"F\" and \"M\".  One way to do this would be to use the `.rename()` operator on the data frame:"
   ]
  },
  {
   "cell_type": "code",
   "execution_count": null,
   "metadata": {
    "lines_to_next_cell": 2
   },
   "outputs": [],
   "source": [
    "nhanes_data['GenderMF'] = nhanes_data['Gender'].replace({'Female': 'F', 'Male': 'M'})\n",
    "nhanes_data['GenderMF'].unique()"
   ]
  },
  {
   "cell_type": "markdown",
   "metadata": {},
   "source": [
    "### Understanding your data"
   ]
  },
  {
   "cell_type": "markdown",
   "metadata": {},
   "source": [
    "Let's say that we want to learn more about the variable labeled `GeneralHealthCondition` in the dataset.  We can load some information about that variable using the `open_variable_page()` function from the `nhanes` package:"
   ]
  },
  {
   "cell_type": "code",
   "execution_count": null,
   "metadata": {},
   "outputs": [],
   "source": [
    "from nhanes.load import open_variable_page\n",
    "open_variable_page('GeneralHealthCondition')"
   ]
  },
  {
   "cell_type": "markdown",
   "metadata": {},
   "source": [
    "This shows us the question that was asked (\"Would you say {your/SP's} health in general is...\")."
   ]
  },
  {
   "cell_type": "markdown",
   "metadata": {},
   "source": [
    "## Summarizing data using a frequency distribution"
   ]
  },
  {
   "cell_type": "markdown",
   "metadata": {},
   "source": [
    "Let's say that we want to know the frequencies of all of the different answers to the GeneralHealthCondition question.  We can do this using the `.value_counts()` method of the data frame:"
   ]
  },
  {
   "cell_type": "code",
   "execution_count": null,
   "metadata": {},
   "outputs": [],
   "source": [
    "nhanes_data['GeneralHealthCondition'].value_counts()"
   ]
  },
  {
   "cell_type": "markdown",
   "metadata": {},
   "source": [
    "It's usually more helpful to present a *relative frequency distribution*, which shows proportions rather than counts.  We can obtain that by simply dividing the frequency distribution by the total number of cases, which we can obtain using the `.sum()` operator:"
   ]
  },
  {
   "cell_type": "code",
   "execution_count": null,
   "metadata": {
    "lines_to_next_cell": 2
   },
   "outputs": [],
   "source": [
    "GeneralHealthCondition_frequency_dist = nhanes_data['GeneralHealthCondition'].value_counts()\n",
    "GeneralHealthCondition_frequency_dist / GeneralHealthCondition_frequency_dist.sum()"
   ]
  },
  {
   "cell_type": "markdown",
   "metadata": {},
   "source": [
    "### Data Cleaning"
   ]
  },
  {
   "cell_type": "markdown",
   "metadata": {},
   "source": [
    "When we work with real data, they often have problems that we have to fix before we can analyze them properly.  An example is the `GeneralHealthCondition` variable that we worked with in the previous example. You may have noticed that the values of the variable had some extranous information, which were held over from the way that the question is worded (including \"Fair or\" and \"Poor?\").  We can clean these up by replacing the problematic values using the `.replace()` method:"
   ]
  },
  {
   "cell_type": "code",
   "execution_count": null,
   "metadata": {},
   "outputs": [],
   "source": [
    "nhanes_data['GeneralHealthConditionFixed'] = nhanes_data['GeneralHealthCondition'].replace({'Fair or': 'Fair', 'Poor?': 'Poor'})\n",
    "nhanes_data['GeneralHealthConditionFixed'].unique()"
   ]
  },
  {
   "cell_type": "markdown",
   "metadata": {},
   "source": [
    "Now let's look at a more complex example.  Let's say that we want to know who is currently a smokker in the NHANES sample.  If we look more closely at the [details of the smoking questionnaire](https://wwwn.cdc.gov/Nchs/Nhanes/2017-2018/SMQ_J.htm), we will see that not all individuals got the same questions; for example, if a person said that they had not smoked more than 100 cigarettes in their life (recorded in the `SmokedAtLeast100CigarettesInLife` variable), then they were not asked the question about whether they currently smoked cigarettes (stored as `DoYouNowSmokeCigarettes`).  We can see this in the number of respondents to each question:"
   ]
  },
  {
   "cell_type": "code",
   "execution_count": null,
   "metadata": {},
   "outputs": [],
   "source": [
    "print(nhanes_data['SmokedAtLeast100CigarettesInLife'].value_counts())"
   ]
  },
  {
   "cell_type": "code",
   "execution_count": null,
   "metadata": {},
   "outputs": [],
   "source": [
    "nhanes_data['DoYouNowSmokeCigarettes'].value_counts()"
   ]
  },
  {
   "cell_type": "markdown",
   "metadata": {},
   "source": [
    "Looking at these two variables, it's plain to see that there are many more values included in the first question than in the second. Let's look at bit more closely at the data to see what's going on:"
   ]
  },
  {
   "cell_type": "code",
   "execution_count": null,
   "metadata": {},
   "outputs": [],
   "source": [
    "nhanes_data[['SmokedAtLeast100CigarettesInLife', 'DoYouNowSmokeCigarettes']].head(10)"
   ]
  },
  {
   "cell_type": "markdown",
   "metadata": {},
   "source": [
    "Here we can see that anyone who said No to the question about having smoked at least 100 cigarettes in their life (which is coded as zero) has a missing value for the question about current smoking (since that question wasn't asked to these individuals).  To clean up these data, we need to do two things. First, we need to remove the individuals who have NaN for both questions, then we need to recode the NaN's for the second question for those people who said no on the first question.  To do this, let's first create a new data frame that contains just the variables we are interested in:"
   ]
  },
  {
   "cell_type": "code",
   "execution_count": null,
   "metadata": {},
   "outputs": [],
   "source": [
    "smoking_df = nhanes_data[['SmokedAtLeast100CigarettesInLife', 'DoYouNowSmokeCigarettes']]\n",
    "smoking_df.shape"
   ]
  },
  {
   "cell_type": "markdown",
   "metadata": {},
   "source": [
    "First let's remove any rows that have NaN in both columns. We can do this using the `.dropna()` method, which has an option that allows us to specify that we only drop rows that are all NaN (by setting `how='all'`):"
   ]
  },
  {
   "cell_type": "code",
   "execution_count": null,
   "metadata": {},
   "outputs": [],
   "source": [
    "smoking_df = smoking_df.dropna(how='all')\n",
    "smoking_df.shape"
   ]
  },
  {
   "cell_type": "markdown",
   "metadata": {},
   "source": [
    "Next we need to recode the NaN values for the second question, for those individuals who said no to the first question.  We will replace them with the answer 'Not at all'.  To do this, we can use the `.loc` operator with a test for the value of the first column:"
   ]
  },
  {
   "cell_type": "code",
   "execution_count": null,
   "metadata": {},
   "outputs": [],
   "source": [
    "smoking_df.loc[smoking_df['SmokedAtLeast100CigarettesInLife'] == 0, 'DoYouNowSmokeCigarettes'] = 'Not at all'\n",
    "smoking_df.head()"
   ]
  },
  {
   "cell_type": "markdown",
   "metadata": {},
   "source": [
    "This replaced the NaN values in the second question, but only for those individuals who said no to the first question.  Now we can summarize the frequency of smoking across the entire group:"
   ]
  },
  {
   "cell_type": "code",
   "execution_count": null,
   "metadata": {},
   "outputs": [],
   "source": [
    "smoking_df['DoYouNowSmokeCigarettes'].value_counts() / smoking_df['DoYouNowSmokeCigarettes'].value_counts().sum()"
   ]
  },
  {
   "cell_type": "markdown",
   "metadata": {
    "lines_to_next_cell": 2
   },
   "source": [
    "In the next chapter you will learn how to visualize data like these using statistical graphs."
   ]
  }
 ],
 "metadata": {
  "jupytext": {
   "formats": "ipynb,py:percent"
  },
  "kernelspec": {
   "display_name": "Python 3",
   "language": "python",
   "name": "python3"
  },
  "language_info": {
   "codemirror_mode": {
    "name": "ipython",
    "version": 3
   },
   "file_extension": ".py",
   "mimetype": "text/x-python",
   "name": "python",
   "nbconvert_exporter": "python",
   "pygments_lexer": "ipython3",
   "version": "3.9.7"
  }
 },
 "nbformat": 4,
 "nbformat_minor": 4
}
