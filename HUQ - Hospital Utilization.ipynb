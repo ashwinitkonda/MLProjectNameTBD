{
 "cells": [
  {
   "cell_type": "code",
   "execution_count": 158,
   "metadata": {},
   "outputs": [],
   "source": [
    "#Import libraries\n",
    "import pandas as pd\n",
    "import numpy as np\n",
    "import matplotlib.pyplot as plt\n",
    "import glob\n",
    "import re\n",
    "from collections import defaultdict"
   ]
  },
  {
   "cell_type": "code",
   "execution_count": 159,
   "metadata": {},
   "outputs": [],
   "source": [
    "#Use one ./ if running from run_notebooks.py\n",
    "#Use two ../if running directly from Jupyter Notebooks\n",
    "#file_beg = '../NHANES-Downloader/data/csv_data/'\n",
    "\n",
    "file_beg = '../NHANES-Downloader/data/csv_data/'"
   ]
  },
  {
   "cell_type": "code",
   "execution_count": 160,
   "metadata": {},
   "outputs": [],
   "source": [
    "#Import all the files\n",
    "files1 = glob.glob(file_beg+'1999-2000/*/*.csv')\n",
    "files2 = glob.glob(file_beg+'2001-2002/*/*.csv')\n",
    "files3 = glob.glob(file_beg+'2003-2004/*/*.csv')\n",
    "files4 = glob.glob(file_beg+'2005-2006/*/*.csv')\n",
    "files5 = glob.glob(file_beg+'2007-2008/*/*.csv')\n",
    "files6 = glob.glob(file_beg+'2009-2010/*/*.csv')\n",
    "files7 = glob.glob(file_beg+'2011-2012/*/*.csv')\n",
    "files8 = glob.glob(file_beg+'2013-2014/*/*.csv')\n",
    "files9 = glob.glob(file_beg+'2015-2016/*/*.csv')\n",
    "files10 = glob.glob(file_beg+'2017-2018/*/*.csv')"
   ]
  },
  {
   "cell_type": "code",
   "execution_count": 161,
   "metadata": {},
   "outputs": [],
   "source": [
    "#Add files into a list\n",
    "file_list = [files1, files2, files3, files4, files5, \n",
    "          files6, files7, files8, files9, files10]"
   ]
  },
  {
   "cell_type": "code",
   "execution_count": 162,
   "metadata": {},
   "outputs": [],
   "source": [
    "#Add files into a list of sorted and dictionaries\n",
    "file_list_dict = []\n",
    "for x in file_list:\n",
    "    x.sort()\n",
    "    file_list_dict.append(dict(enumerate(x)))"
   ]
  },
  {
   "cell_type": "code",
   "execution_count": 163,
   "metadata": {},
   "outputs": [],
   "source": [
    "#Index of all the files in dictionary from 1999 - 2018\n",
    "huq_indx = [78, 95, 108, 104, 105, 113, 117, 146, 113, 132]"
   ]
  },
  {
   "cell_type": "code",
   "execution_count": 164,
   "metadata": {},
   "outputs": [],
   "source": [
    "dfs = defaultdict(int)\n",
    "for i in range(0,len(huq_indx)):\n",
    "    dfs[i] = pd.read_csv(file_list_dict[i][huq_indx[i]])"
   ]
  },
  {
   "cell_type": "code",
   "execution_count": 165,
   "metadata": {},
   "outputs": [],
   "source": [
    "#Default column names\n",
    "col_names = [\"SEQN\", \"HUQ010\", \"HUQ020\", \"HUQ030\", \"HUQ040\", \"HUQ050\", \"HUQ070\", \"HUQ090\"]\n",
    "descr = ['SEQN', 'Covered by health insurance']"
   ]
  },
  {
   "cell_type": "code",
   "execution_count": 166,
   "metadata": {},
   "outputs": [],
   "source": [
    "#Column names for 2013-2018\n",
    "col_names1 = [\"SEQN\", \"HUQ010\", \"HUQ020\", \"HUQ030\", \"HUQ041\", \"HUQ051\", \"HUQ071\", \"HUQ090\"]"
   ]
  },
  {
   "cell_type": "markdown",
   "metadata": {},
   "source": [
    "## Round HUQ050 & HUQ051"
   ]
  },
  {
   "cell_type": "code",
   "execution_count": 167,
   "metadata": {},
   "outputs": [],
   "source": [
    "#1999-2000\n",
    "dfs[0][['HUQ050']] = dfs[0][['HUQ050']].round(0)\n",
    "\n",
    "#2001-2002\n",
    "dfs[1][['HUQ050']] = dfs[1][['HUQ050']].round(0)\n",
    "\n",
    "#2003-2004\n",
    "dfs[2][['HUQ050']] = dfs[2][['HUQ050']].round(0)\n",
    "\n",
    "#2005-2006\n",
    "dfs[3][['HUQ050']] = dfs[3][['HUQ050']].round(0)\n",
    "\n",
    "#2007-2008\n",
    "dfs[4][['HUQ050']] = dfs[4][['HUQ050']].round(0)\n",
    "\n",
    "#2009-2010\n",
    "dfs[5][['HUQ050']] = dfs[5][['HUQ050']].round(0)\n",
    "\n",
    "#2011-2012\n",
    "dfs[6][['HUQ050']] = dfs[6][['HUQ050']].round(0)\n",
    "\n",
    "#Round the column HUQ051\n",
    "#2013-2014\n",
    "dfs[7][['HUQ051']] = dfs[7][['HUQ051']].round(0)\n",
    "\n",
    "#2015-2016\n",
    "dfs[8][['HUQ051']] = dfs[8][['HUQ051']].round(0)"
   ]
  },
  {
   "cell_type": "markdown",
   "metadata": {},
   "source": [
    "## Rename HUD070, HUQ071"
   ]
  },
  {
   "cell_type": "code",
   "execution_count": 168,
   "metadata": {},
   "outputs": [],
   "source": [
    "#Rename HUD070 to HUQ070\n",
    "#2001-2002\n",
    "dfs[1].rename(columns={'HUD070':'HUQ070'}, inplace=True)\n",
    "\n",
    "\n",
    "#Rename HUQ071 to HUQ070\n",
    "#2003-2004\n",
    "dfs[2].rename(columns={'HUQ071':'HUQ070'}, inplace=True)\n",
    "\n",
    "#2005-2006\n",
    "dfs[3].rename(columns={'HUQ071':'HUQ070'}, inplace=True)\n",
    "\n",
    "#2007-2008\n",
    "dfs[4].rename(columns={'HUQ071':'HUQ070'}, inplace=True)\n",
    "\n",
    "#2009-2010\n",
    "dfs[5].rename(columns={'HUQ071':'HUQ070'}, inplace=True)\n",
    "\n",
    "#2011-2012\n",
    "dfs[6].rename(columns={'HUQ071':'HUQ070'}, inplace=True)"
   ]
  },
  {
   "cell_type": "markdown",
   "metadata": {},
   "source": [
    "## Make copy of all the dataframes"
   ]
  },
  {
   "cell_type": "code",
   "execution_count": 169,
   "metadata": {},
   "outputs": [],
   "source": [
    "df0 = dfs[0][col_names].copy()\n",
    "df1 = dfs[1][col_names].copy()\n",
    "df2 = dfs[2][col_names].copy()\n",
    "df3 = dfs[3][col_names].copy()\n",
    "df4 = dfs[4][col_names].copy()\n",
    "df5 = dfs[5][col_names].copy()\n",
    "df6 = dfs[6][col_names].copy()\n",
    "df7 = dfs[7][col_names1].copy()\n",
    "df8 = dfs[8][col_names1].copy()\n",
    "df9 = dfs[9][col_names1].copy()"
   ]
  },
  {
   "cell_type": "markdown",
   "metadata": {},
   "source": [
    "## Functions: Recategorize values, Count Values, Drop Rows"
   ]
  },
  {
   "cell_type": "code",
   "execution_count": 170,
   "metadata": {},
   "outputs": [],
   "source": [
    "#Recategorize function\n",
    "def recategorize(df, name, replace_dict):\n",
    "    df[name].replace(\n",
    "    to_replace=replace_dict,\n",
    "    inplace=True\n",
    ")\n",
    "    \n",
    "#Count values function\n",
    "def count_vals(df, name):\n",
    "    df_count = df.groupby(name)['SEQN'].nunique()\n",
    "    print(df_count,\"\\n\\n\",\"NaN: \", df[name].isnull().sum())\n",
    "    \n",
    "#Drop rows that include certain values\n",
    "def drop_rows(df, name, val_list):\n",
    "    df.drop(df[df[name].isin(val_list)].index, inplace=True)"
   ]
  },
  {
   "cell_type": "markdown",
   "metadata": {},
   "source": [
    "## Recategorize 2013 - 2018 Info"
   ]
  },
  {
   "cell_type": "code",
   "execution_count": 171,
   "metadata": {},
   "outputs": [],
   "source": [
    "#Recategorize HUQ041\n",
    "#Refused 77 to 7. Recategorize Don't Know 99 to 9.\n",
    "recategorize(df7, 'HUQ041', {77:7, 99:9}) #2013-2014\n",
    "recategorize(df8, 'HUQ041', {77:7, 99:9}) #2015-2016\n",
    "recategorize(df9, 'HUQ041', {77:7, 99:9}) #2017-2018\n",
    "\n",
    "# #Drop indexes in HUQ041 with 6 to match HUQ040\n",
    "# drop_rows(df7, 'HUQ041', [6])\n",
    "# drop_rows(df8, 'HUQ041', [6])\n",
    "\n",
    "#Recategorize HUQ51 additional categories to HUQ050\n",
    "recategorize(df7, 'HUQ051', {4:3, 5:3, 6:4, 7:5, 8:5}) #2013-2014\n",
    "recategorize(df8, 'HUQ051', {4:3, 5:3, 6:4, 7:5, 8:5}) #2015-2016"
   ]
  },
  {
   "cell_type": "markdown",
   "metadata": {},
   "source": [
    "## Rename 2013 - 2016 columns"
   ]
  },
  {
   "cell_type": "code",
   "execution_count": 172,
   "metadata": {},
   "outputs": [],
   "source": [
    "df7.columns = col_names #2013-2014\n",
    "df8.columns = col_names #2015-2016\n",
    "df9.columns = col_names #2017-2018"
   ]
  },
  {
   "cell_type": "markdown",
   "metadata": {},
   "source": [
    "## Append years 1999 - 2018"
   ]
  },
  {
   "cell_type": "code",
   "execution_count": 173,
   "metadata": {},
   "outputs": [],
   "source": [
    "years = [\"1999-2000\",\"2001-2002\",\"2003-2004\",\"2005-2006\",\"2007-2008\",\n",
    "           \"2009-2010\",\"2011-2012\",\"2013-2014\",\"2015-2016\",\"2017-2018\"]"
   ]
  },
  {
   "cell_type": "code",
   "execution_count": 174,
   "metadata": {},
   "outputs": [],
   "source": [
    "frames = [df0, df1, df2, df3, df4, df5, df6, df7, df8, df9]"
   ]
  },
  {
   "cell_type": "code",
   "execution_count": 175,
   "metadata": {},
   "outputs": [],
   "source": [
    "#Add years as a column\n",
    "for i, df in enumerate(frames):\n",
    "    df[\"Year\"] = years[i]"
   ]
  },
  {
   "cell_type": "code",
   "execution_count": 176,
   "metadata": {},
   "outputs": [],
   "source": [
    "result_1999_2018 = pd.concat(frames, keys = years)"
   ]
  },
  {
   "cell_type": "code",
   "execution_count": 177,
   "metadata": {},
   "outputs": [],
   "source": [
    "result_1999_2018_cleaned = result_1999_2018.copy()"
   ]
  },
  {
   "cell_type": "markdown",
   "metadata": {},
   "source": [
    "## Count values for each column"
   ]
  },
  {
   "cell_type": "code",
   "execution_count": 178,
   "metadata": {},
   "outputs": [
    {
     "data": {
      "text/plain": [
       "['SEQN', 'HUQ010', 'HUQ020', 'HUQ030', 'HUQ040', 'HUQ050', 'HUQ070', 'HUQ090']"
      ]
     },
     "execution_count": 178,
     "metadata": {},
     "output_type": "execute_result"
    }
   ],
   "source": [
    "col_names"
   ]
  },
  {
   "cell_type": "code",
   "execution_count": 179,
   "metadata": {},
   "outputs": [
    {
     "name": "stdout",
     "output_type": "stream",
     "text": [
      "HUQ010\n",
      "1.0    28539\n",
      "2.0    26205\n",
      "3.0    30243\n",
      "4.0    13333\n",
      "5.0     2942\n",
      "7.0       18\n",
      "9.0       31\n",
      "Name: SEQN, dtype: int64 \n",
      "\n",
      " NaN:  5\n"
     ]
    }
   ],
   "source": [
    "#HUQ010\n",
    "count_vals(result_1999_2018, col_names[1])\n",
    "\n",
    "drop_rows(result_1999_2018_cleaned, 'HUQ010', [np.nan, 7, 9])"
   ]
  },
  {
   "cell_type": "code",
   "execution_count": 180,
   "metadata": {},
   "outputs": [
    {
     "name": "stdout",
     "output_type": "stream",
     "text": [
      "HUQ020\n",
      "1.0    18310\n",
      "2.0     7611\n",
      "3.0    70847\n",
      "7.0        5\n",
      "9.0       30\n",
      "Name: SEQN, dtype: int64 \n",
      "\n",
      " NaN:  4513\n"
     ]
    }
   ],
   "source": [
    "#HUQ020\n",
    "count_vals(result_1999_2018, col_names[2])"
   ]
  },
  {
   "cell_type": "code",
   "execution_count": 181,
   "metadata": {},
   "outputs": [
    {
     "name": "stdout",
     "output_type": "stream",
     "text": [
      "HUQ030\n",
      "1.0    88180\n",
      "2.0    12598\n",
      "3.0      524\n",
      "7.0        1\n",
      "9.0        8\n",
      "Name: SEQN, dtype: int64 \n",
      "\n",
      " NaN:  5\n"
     ]
    }
   ],
   "source": [
    "#HUQ030\n",
    "count_vals(result_1999_2018, col_names[3])"
   ]
  },
  {
   "cell_type": "code",
   "execution_count": 182,
   "metadata": {},
   "outputs": [
    {
     "name": "stdout",
     "output_type": "stream",
     "text": [
      "HUQ040\n",
      "1.0    23006\n",
      "2.0    60698\n",
      "3.0     2331\n",
      "4.0     1666\n",
      "5.0      903\n",
      "6.0       75\n",
      "7.0        3\n",
      "9.0       22\n",
      "Name: SEQN, dtype: int64 \n",
      "\n",
      " NaN:  12612\n"
     ]
    }
   ],
   "source": [
    "#HUQ040\n",
    "count_vals(result_1999_2018, col_names[4])"
   ]
  },
  {
   "cell_type": "code",
   "execution_count": 183,
   "metadata": {},
   "outputs": [
    {
     "name": "stdout",
     "output_type": "stream",
     "text": [
      "HUQ050\n",
      "0.000000e+00    12888\n",
      "5.397605e-79     1276\n",
      "1.000000e+00    20725\n",
      "2.000000e+00    30618\n",
      "3.000000e+00    23886\n",
      "4.000000e+00     5668\n",
      "5.000000e+00     5311\n",
      "6.000000e+00      396\n",
      "7.000000e+00      128\n",
      "8.000000e+00      278\n",
      "7.700000e+01        5\n",
      "9.900000e+01      132\n",
      "Name: SEQN, dtype: int64 \n",
      "\n",
      " NaN:  5\n"
     ]
    }
   ],
   "source": [
    "#HUQ050\n",
    "count_vals(result_1999_2018, col_names[5])"
   ]
  },
  {
   "cell_type": "code",
   "execution_count": 184,
   "metadata": {},
   "outputs": [
    {
     "name": "stdout",
     "output_type": "stream",
     "text": [
      "HUQ070\n",
      "1.0     9731\n",
      "2.0    91543\n",
      "7.0        3\n",
      "9.0       34\n",
      "Name: SEQN, dtype: int64 \n",
      "\n",
      " NaN:  5\n"
     ]
    }
   ],
   "source": [
    "#HUQ070\n",
    "count_vals(result_1999_2018, col_names[6])"
   ]
  },
  {
   "cell_type": "code",
   "execution_count": 185,
   "metadata": {},
   "outputs": [
    {
     "name": "stdout",
     "output_type": "stream",
     "text": [
      "HUQ090\n",
      "1.0     6998\n",
      "2.0    81682\n",
      "7.0       11\n",
      "9.0       41\n",
      "Name: SEQN, dtype: int64 \n",
      "\n",
      " NaN:  12584\n"
     ]
    }
   ],
   "source": [
    "#HUQ090\n",
    "count_vals(result_1999_2018, col_names[7])"
   ]
  },
  {
   "cell_type": "code",
   "execution_count": 186,
   "metadata": {},
   "outputs": [
    {
     "data": {
      "text/plain": [
       "101316"
      ]
     },
     "execution_count": 186,
     "metadata": {},
     "output_type": "execute_result"
    }
   ],
   "source": [
    "#\n",
    "len(result_1999_2018)"
   ]
  },
  {
   "cell_type": "markdown",
   "metadata": {},
   "source": [
    "## Remove:  \n",
    "### Values:  \n",
    "77 or 7: Refused  \n",
    "99 or 9: Don't know  \n",
    "NaN: No input  \n",
    "### Columns:  \n",
    "'HUQ040' and 'HUQ090' because too many missing values"
   ]
  },
  {
   "cell_type": "code",
   "execution_count": 187,
   "metadata": {},
   "outputs": [],
   "source": [
    "# Drop 6 for HUQ040\n",
    "# drop_rows(df7, 'HUQ041', [6])\n",
    "# drop_rows(df8, 'HUQ041', [6])\n",
    "\n",
    "#Remove column HUQ040 & HUQ090 - too many missing values\n",
    "result_1999_2018_cleaned.drop(['HUQ040', 'HUQ090'], inplace=True, axis=1)\n",
    "\n",
    "#\n",
    "drop_rows(result_1999_2018_cleaned, 'HUQ010', [np.nan, 7, 9])\n",
    "drop_rows(result_1999_2018_cleaned, 'HUQ020', [np.nan, 7, 9])\n",
    "drop_rows(result_1999_2018_cleaned, 'HUQ030', [np.nan, 7, 9])\n",
    "drop_rows(result_1999_2018_cleaned, 'HUQ050', [np.nan, 77, 99])\n",
    "drop_rows(result_1999_2018_cleaned, 'HUQ070', [np.nan, 7, 9])"
   ]
  },
  {
   "cell_type": "code",
   "execution_count": 188,
   "metadata": {},
   "outputs": [
    {
     "name": "stdout",
     "output_type": "stream",
     "text": [
      "HUQ010\n",
      "1.0    25522\n",
      "2.0    25343\n",
      "3.0    29579\n",
      "4.0    13194\n",
      "5.0     2927\n",
      "Name: SEQN, dtype: int64 \n",
      "\n",
      " NaN:  0\n"
     ]
    }
   ],
   "source": [
    "count_vals(result_1999_2018_cleaned, col_names[1])"
   ]
  },
  {
   "cell_type": "code",
   "execution_count": 189,
   "metadata": {},
   "outputs": [
    {
     "name": "stdout",
     "output_type": "stream",
     "text": [
      "HUQ020\n",
      "1.0    18258\n",
      "2.0     7598\n",
      "3.0    70709\n",
      "Name: SEQN, dtype: int64 \n",
      "\n",
      " NaN:  0\n"
     ]
    }
   ],
   "source": [
    "count_vals(result_1999_2018_cleaned, col_names[2])"
   ]
  },
  {
   "cell_type": "code",
   "execution_count": 190,
   "metadata": {},
   "outputs": [
    {
     "name": "stdout",
     "output_type": "stream",
     "text": [
      "HUQ030\n",
      "1.0    83607\n",
      "2.0    12442\n",
      "3.0      516\n",
      "Name: SEQN, dtype: int64 \n",
      "\n",
      " NaN:  0\n"
     ]
    }
   ],
   "source": [
    "count_vals(result_1999_2018_cleaned, col_names[3])"
   ]
  },
  {
   "cell_type": "code",
   "execution_count": 191,
   "metadata": {},
   "outputs": [
    {
     "name": "stdout",
     "output_type": "stream",
     "text": [
      "HUQ050\n",
      "0.000000e+00    12735\n",
      "5.397605e-79     1263\n",
      "1.000000e+00    20333\n",
      "2.000000e+00    29236\n",
      "3.000000e+00    21821\n",
      "4.000000e+00     5298\n",
      "5.000000e+00     5113\n",
      "6.000000e+00      376\n",
      "7.000000e+00      123\n",
      "8.000000e+00      267\n",
      "Name: SEQN, dtype: int64 \n",
      "\n",
      " NaN:  0\n"
     ]
    }
   ],
   "source": [
    "count_vals(result_1999_2018_cleaned, col_names[5])"
   ]
  },
  {
   "cell_type": "code",
   "execution_count": 192,
   "metadata": {},
   "outputs": [
    {
     "name": "stdout",
     "output_type": "stream",
     "text": [
      "HUQ070\n",
      "1.0     8920\n",
      "2.0    87645\n",
      "Name: SEQN, dtype: int64 \n",
      "\n",
      " NaN:  0\n"
     ]
    }
   ],
   "source": [
    "count_vals(result_1999_2018_cleaned, col_names[6])"
   ]
  },
  {
   "cell_type": "code",
   "execution_count": 193,
   "metadata": {},
   "outputs": [
    {
     "data": {
      "text/plain": [
       "0.9531071104267835"
      ]
     },
     "execution_count": 193,
     "metadata": {},
     "output_type": "execute_result"
    }
   ],
   "source": [
    "before = len(result_1999_2018)\n",
    "after = len(result_1999_2018_cleaned)\n",
    "after/before"
   ]
  },
  {
   "cell_type": "code",
   "execution_count": 194,
   "metadata": {},
   "outputs": [
    {
     "data": {
      "text/plain": [
       "96565"
      ]
     },
     "execution_count": 194,
     "metadata": {},
     "output_type": "execute_result"
    }
   ],
   "source": [
    "after"
   ]
  },
  {
   "cell_type": "markdown",
   "metadata": {},
   "source": [
    "## MongoDB Insertion"
   ]
  },
  {
   "cell_type": "code",
   "execution_count": 195,
   "metadata": {},
   "outputs": [],
   "source": [
    "#Import MongoClient\n",
    "from pymongo import MongoClient\n",
    "\n",
    "#Create a MongoClient to run the MongoDB instance\n",
    "client = MongoClient('localhost', 27017)"
   ]
  },
  {
   "cell_type": "code",
   "execution_count": 196,
   "metadata": {},
   "outputs": [],
   "source": [
    "#Connect to existing datbase\n",
    "db = client.NHANES"
   ]
  },
  {
   "cell_type": "code",
   "execution_count": 197,
   "metadata": {},
   "outputs": [
    {
     "data": {
      "text/plain": [
       "Database(MongoClient(host=['localhost:27017'], document_class=dict, tz_aware=False, connect=True), 'NHANES')"
      ]
     },
     "execution_count": 197,
     "metadata": {},
     "output_type": "execute_result"
    }
   ],
   "source": [
    "db"
   ]
  },
  {
   "cell_type": "code",
   "execution_count": 198,
   "metadata": {},
   "outputs": [
    {
     "data": {
      "text/plain": [
       "['hiq', 'alq', 'drxtot', 'bpq', 'bmx', 'bpx', 'demo_p', 'demo', 'diq', 'huq']"
      ]
     },
     "execution_count": 198,
     "metadata": {},
     "output_type": "execute_result"
    }
   ],
   "source": [
    "db.list_collection_names()"
   ]
  },
  {
   "cell_type": "code",
   "execution_count": 199,
   "metadata": {},
   "outputs": [],
   "source": [
    "#Create collection in database\n",
    "huq = db.huq"
   ]
  },
  {
   "cell_type": "code",
   "execution_count": 200,
   "metadata": {},
   "outputs": [],
   "source": [
    "#If collections exist, then drop\n",
    "if 'huq' in db.list_collection_names():\n",
    "    huq.drop()\n",
    "    db.list_collection_names()\n",
    "else:\n",
    "    print(\"Doesn't exist yet\")"
   ]
  },
  {
   "cell_type": "markdown",
   "metadata": {},
   "source": [
    "## Create new collection to input into database"
   ]
  },
  {
   "cell_type": "code",
   "execution_count": 201,
   "metadata": {},
   "outputs": [
    {
     "data": {
      "text/html": [
       "<div>\n",
       "<style scoped>\n",
       "    .dataframe tbody tr th:only-of-type {\n",
       "        vertical-align: middle;\n",
       "    }\n",
       "\n",
       "    .dataframe tbody tr th {\n",
       "        vertical-align: top;\n",
       "    }\n",
       "\n",
       "    .dataframe thead th {\n",
       "        text-align: right;\n",
       "    }\n",
       "</style>\n",
       "<table border=\"1\" class=\"dataframe\">\n",
       "  <thead>\n",
       "    <tr style=\"text-align: right;\">\n",
       "      <th></th>\n",
       "      <th></th>\n",
       "      <th>SEQN</th>\n",
       "      <th>HUQ010</th>\n",
       "      <th>HUQ020</th>\n",
       "      <th>HUQ030</th>\n",
       "      <th>HUQ050</th>\n",
       "      <th>HUQ070</th>\n",
       "      <th>Year</th>\n",
       "    </tr>\n",
       "  </thead>\n",
       "  <tbody>\n",
       "    <tr>\n",
       "      <th rowspan=\"3\" valign=\"top\">1999-2000</th>\n",
       "      <th>0</th>\n",
       "      <td>1.0</td>\n",
       "      <td>1.0</td>\n",
       "      <td>3.0</td>\n",
       "      <td>1.0</td>\n",
       "      <td>3.0</td>\n",
       "      <td>1.0</td>\n",
       "      <td>1999-2000</td>\n",
       "    </tr>\n",
       "    <tr>\n",
       "      <th>1</th>\n",
       "      <td>2.0</td>\n",
       "      <td>2.0</td>\n",
       "      <td>2.0</td>\n",
       "      <td>1.0</td>\n",
       "      <td>3.0</td>\n",
       "      <td>1.0</td>\n",
       "      <td>1999-2000</td>\n",
       "    </tr>\n",
       "    <tr>\n",
       "      <th>2</th>\n",
       "      <td>3.0</td>\n",
       "      <td>1.0</td>\n",
       "      <td>1.0</td>\n",
       "      <td>1.0</td>\n",
       "      <td>1.0</td>\n",
       "      <td>2.0</td>\n",
       "      <td>1999-2000</td>\n",
       "    </tr>\n",
       "  </tbody>\n",
       "</table>\n",
       "</div>"
      ],
      "text/plain": [
       "             SEQN  HUQ010  HUQ020  HUQ030  HUQ050  HUQ070       Year\n",
       "1999-2000 0   1.0     1.0     3.0     1.0     3.0     1.0  1999-2000\n",
       "          1   2.0     2.0     2.0     1.0     3.0     1.0  1999-2000\n",
       "          2   3.0     1.0     1.0     1.0     1.0     2.0  1999-2000"
      ]
     },
     "execution_count": 201,
     "metadata": {},
     "output_type": "execute_result"
    }
   ],
   "source": [
    "result_1999_2018_cleaned[:3]"
   ]
  },
  {
   "cell_type": "code",
   "execution_count": 202,
   "metadata": {},
   "outputs": [],
   "source": [
    "#Set SEQN as _id (Primary Key)\n",
    "result_1999_2018_cleaned.rename(columns={'SEQN':'_id'}, inplace=True)"
   ]
  },
  {
   "cell_type": "code",
   "execution_count": 203,
   "metadata": {},
   "outputs": [],
   "source": [
    "#Dataframe to dictionary\n",
    "huq_dict = result_1999_2018_cleaned.to_dict(orient='records')"
   ]
  },
  {
   "cell_type": "code",
   "execution_count": 204,
   "metadata": {},
   "outputs": [
    {
     "data": {
      "text/plain": [
       "{'_id': 1.0,\n",
       " 'HUQ010': 1.0,\n",
       " 'HUQ020': 3.0,\n",
       " 'HUQ030': 1.0,\n",
       " 'HUQ050': 3.0,\n",
       " 'HUQ070': 1.0,\n",
       " 'Year': '1999-2000'}"
      ]
     },
     "execution_count": 204,
     "metadata": {},
     "output_type": "execute_result"
    }
   ],
   "source": [
    "huq_dict[0]"
   ]
  },
  {
   "cell_type": "code",
   "execution_count": 205,
   "metadata": {},
   "outputs": [
    {
     "data": {
      "text/plain": [
       "<pymongo.results.InsertManyResult at 0x120505a20>"
      ]
     },
     "execution_count": 205,
     "metadata": {},
     "output_type": "execute_result"
    }
   ],
   "source": [
    "#Insert collection \n",
    "huq.insert_many(huq_dict)"
   ]
  },
  {
   "cell_type": "code",
   "execution_count": 206,
   "metadata": {},
   "outputs": [
    {
     "data": {
      "text/plain": [
       "['hiq', 'alq', 'drxtot', 'bpq', 'bmx', 'huq', 'bpx', 'demo_p', 'demo', 'diq']"
      ]
     },
     "execution_count": 206,
     "metadata": {},
     "output_type": "execute_result"
    }
   ],
   "source": [
    "#View collections\n",
    "db.list_collection_names()"
   ]
  },
  {
   "cell_type": "code",
   "execution_count": 207,
   "metadata": {},
   "outputs": [],
   "source": [
    "#db.huq.count() #87707"
   ]
  },
  {
   "cell_type": "code",
   "execution_count": 208,
   "metadata": {},
   "outputs": [],
   "source": [
    "# for h in huq.find():\n",
    "#     print(h)"
   ]
  }
 ],
 "metadata": {
  "kernelspec": {
   "display_name": "Python 3",
   "language": "python",
   "name": "python3"
  },
  "language_info": {
   "codemirror_mode": {
    "name": "ipython",
    "version": 3
   },
   "file_extension": ".py",
   "mimetype": "text/x-python",
   "name": "python",
   "nbconvert_exporter": "python",
   "pygments_lexer": "ipython3",
   "version": "3.10.2"
  }
 },
 "nbformat": 4,
 "nbformat_minor": 2
}
