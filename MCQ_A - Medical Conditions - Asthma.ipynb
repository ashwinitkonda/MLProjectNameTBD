{
 "cells": [
  {
   "cell_type": "code",
   "execution_count": 157,
   "metadata": {},
   "outputs": [],
   "source": [
    "#Import libraries\n",
    "import pandas as pd\n",
    "import numpy as np\n",
    "import matplotlib.pyplot as plt\n",
    "import glob\n",
    "import re\n",
    "from collections import defaultdict"
   ]
  },
  {
   "cell_type": "code",
   "execution_count": 158,
   "metadata": {},
   "outputs": [],
   "source": [
    "#Use one ./ if running from run_notebooks.py\n",
    "#Use two ../if running directly from Jupyter Notebooks\n",
    "#file_beg = '../NHANES-Downloader/data/csv_data/'\n",
    "\n",
    "file_beg = '../NHANES-Downloader/data/csv_data/'"
   ]
  },
  {
   "cell_type": "code",
   "execution_count": 159,
   "metadata": {},
   "outputs": [],
   "source": [
    "#Import all the files\n",
    "files1 = glob.glob(file_beg+'1999-2000/*/*.csv')\n",
    "files2 = glob.glob(file_beg+'2001-2002/*/*.csv')\n",
    "files3 = glob.glob(file_beg+'2003-2004/*/*.csv')\n",
    "files4 = glob.glob(file_beg+'2005-2006/*/*.csv')\n",
    "files5 = glob.glob(file_beg+'2007-2008/*/*.csv')\n",
    "files6 = glob.glob(file_beg+'2009-2010/*/*.csv')\n",
    "files7 = glob.glob(file_beg+'2011-2012/*/*.csv')\n",
    "files8 = glob.glob(file_beg+'2013-2014/*/*.csv')\n",
    "files9 = glob.glob(file_beg+'2015-2016/*/*.csv')\n",
    "files10 = glob.glob(file_beg+'2017-2018/*/*.csv')"
   ]
  },
  {
   "cell_type": "code",
   "execution_count": 160,
   "metadata": {},
   "outputs": [],
   "source": [
    "file_list = [files1, files2, files3, files4, files5, \n",
    "          files6, files7, files8, files9, files10]"
   ]
  },
  {
   "cell_type": "code",
   "execution_count": 161,
   "metadata": {},
   "outputs": [],
   "source": [
    "#Add files into a list of sorted and dictionaries\n",
    "file_list_dict = []\n",
    "for x in file_list:\n",
    "    x.sort()\n",
    "    file_list_dict.append(dict(enumerate(x)))"
   ]
  },
  {
   "cell_type": "code",
   "execution_count": 162,
   "metadata": {},
   "outputs": [],
   "source": [
    "mcq_indx = [81, 99, 112, 108, 110, 117, 121, 150, 117, 136]"
   ]
  },
  {
   "cell_type": "code",
   "execution_count": 163,
   "metadata": {},
   "outputs": [],
   "source": [
    "dfs = defaultdict(int)\n",
    "for i in range(0,len(mcq_indx)):\n",
    "    dfs[i] = pd.read_csv(file_list_dict[i][mcq_indx[i]])"
   ]
  },
  {
   "cell_type": "markdown",
   "metadata": {},
   "source": [
    "## Functions: Recategorize values, Count Values, Drop Rows"
   ]
  },
  {
   "cell_type": "code",
   "execution_count": 164,
   "metadata": {},
   "outputs": [],
   "source": [
    "#Recategorize function\n",
    "def recategorize(df, name, replace_dict):\n",
    "    df[name].replace(\n",
    "    to_replace=replace_dict,\n",
    "    inplace=True\n",
    ")\n",
    "    \n",
    "#Count values function\n",
    "def count_vals(df, name):\n",
    "    df_count = df.groupby(name)['SEQN'].nunique()\n",
    "    print(df_count,\"\\n\\n\",\"NaN: \", df[name].isnull().sum())\n",
    "    \n",
    "#Drop rows that include certain values\n",
    "def drop_rows(df, name, val_list):\n",
    "    df.drop(df[df[name].isin(val_list)].index, inplace=True)"
   ]
  },
  {
   "cell_type": "markdown",
   "metadata": {},
   "source": [
    "## Important Variables"
   ]
  },
  {
   "cell_type": "code",
   "execution_count": 165,
   "metadata": {},
   "outputs": [],
   "source": [
    "#1999-2018\n",
    "var_names = [\"SEQN\", \"MCQ010\"]"
   ]
  },
  {
   "cell_type": "code",
   "execution_count": 166,
   "metadata": {},
   "outputs": [],
   "source": [
    "#To display all columns in Jupyter Notebooks\n",
    "#pd.set_option('display.max_columns', 500)"
   ]
  },
  {
   "cell_type": "markdown",
   "metadata": {},
   "source": [
    "## Make a copy of the dataframes"
   ]
  },
  {
   "cell_type": "code",
   "execution_count": 167,
   "metadata": {},
   "outputs": [],
   "source": [
    "#1999-2016\n",
    "df0 = dfs[0][var_names].copy() #1999-2000\n",
    "df1 = dfs[1][var_names].copy() #2001-2002\n",
    "df2 = dfs[2][var_names].copy() #2003-2004\n",
    "df3 = dfs[3][var_names].copy() #2005-2006\n",
    "df4 = dfs[4][var_names].copy() #2007-2008\n",
    "df5 = dfs[5][var_names].copy() #2009-2010\n",
    "df6 = dfs[6][var_names].copy() #2011-2012\n",
    "df7 = dfs[7][var_names].copy() #2013-2014\n",
    "df8 = dfs[8][var_names].copy() #2015-2016\n",
    "df9 = dfs[9][var_names].copy() #2017-2018"
   ]
  },
  {
   "cell_type": "markdown",
   "metadata": {},
   "source": [
    "## Recategorize values"
   ]
  },
  {
   "cell_type": "code",
   "execution_count": 168,
   "metadata": {},
   "outputs": [],
   "source": [
    "#No recategorizing needed"
   ]
  },
  {
   "cell_type": "markdown",
   "metadata": {},
   "source": [
    "## Rename columns 1999-2000"
   ]
  },
  {
   "cell_type": "code",
   "execution_count": 169,
   "metadata": {},
   "outputs": [],
   "source": [
    "col_names = var_names\n",
    "#No renaming needed"
   ]
  },
  {
   "cell_type": "markdown",
   "metadata": {},
   "source": [
    "## Append years 1999 - 2018"
   ]
  },
  {
   "cell_type": "code",
   "execution_count": 170,
   "metadata": {},
   "outputs": [],
   "source": [
    "years = [\"1999-2000\",\"2001-2002\",\"2003-2004\",\"2005-2006\",\"2007-2008\", \n",
    "        \"2009-2010\",\"2011-2012\",\"2013-2014\",\"2015-2016\",\"2017-2018\"]"
   ]
  },
  {
   "cell_type": "code",
   "execution_count": 171,
   "metadata": {},
   "outputs": [],
   "source": [
    "frames = [df0, df1, df2, df3, df4, df5, df6, df7, df8, df9]"
   ]
  },
  {
   "cell_type": "code",
   "execution_count": 172,
   "metadata": {},
   "outputs": [],
   "source": [
    "#Add years as a column\n",
    "for i, df in enumerate(frames):\n",
    "    df[\"Year\"] = years[i]"
   ]
  },
  {
   "cell_type": "code",
   "execution_count": 173,
   "metadata": {},
   "outputs": [],
   "source": [
    "result_1999_2018 = pd.concat(frames, keys = years)"
   ]
  },
  {
   "cell_type": "code",
   "execution_count": 174,
   "metadata": {},
   "outputs": [],
   "source": [
    "result_1999_2018_cleaned = result_1999_2018.copy()"
   ]
  },
  {
   "cell_type": "markdown",
   "metadata": {},
   "source": [
    "## Count values for each column"
   ]
  },
  {
   "cell_type": "code",
   "execution_count": 175,
   "metadata": {},
   "outputs": [
    {
     "data": {
      "text/html": [
       "<div>\n",
       "<style scoped>\n",
       "    .dataframe tbody tr th:only-of-type {\n",
       "        vertical-align: middle;\n",
       "    }\n",
       "\n",
       "    .dataframe tbody tr th {\n",
       "        vertical-align: top;\n",
       "    }\n",
       "\n",
       "    .dataframe thead th {\n",
       "        text-align: right;\n",
       "    }\n",
       "</style>\n",
       "<table border=\"1\" class=\"dataframe\">\n",
       "  <thead>\n",
       "    <tr style=\"text-align: right;\">\n",
       "      <th></th>\n",
       "      <th></th>\n",
       "      <th>SEQN</th>\n",
       "      <th>MCQ010</th>\n",
       "      <th>Year</th>\n",
       "    </tr>\n",
       "  </thead>\n",
       "  <tbody>\n",
       "  </tbody>\n",
       "</table>\n",
       "</div>"
      ],
      "text/plain": [
       "Empty DataFrame\n",
       "Columns: [SEQN, MCQ010, Year]\n",
       "Index: []"
      ]
     },
     "execution_count": 175,
     "metadata": {},
     "output_type": "execute_result"
    }
   ],
   "source": [
    "result_1999_2018_cleaned[:0]"
   ]
  },
  {
   "cell_type": "code",
   "execution_count": 176,
   "metadata": {},
   "outputs": [
    {
     "data": {
      "text/plain": [
       "2"
      ]
     },
     "execution_count": 176,
     "metadata": {},
     "output_type": "execute_result"
    }
   ],
   "source": [
    "len(col_names)"
   ]
  },
  {
   "cell_type": "code",
   "execution_count": 177,
   "metadata": {},
   "outputs": [
    {
     "name": "stdout",
     "output_type": "stream",
     "text": [
      "MCQ010\n",
      "1.0    13773\n",
      "2.0    82923\n",
      "7.0        5\n",
      "9.0      107\n",
      "Name: SEQN, dtype: int64 \n",
      "\n",
      " NaN:  3\n"
     ]
    }
   ],
   "source": [
    "#MCQ010 - Ever been told you have asthma\n",
    "count_vals(result_1999_2018_cleaned, col_names[1])"
   ]
  },
  {
   "cell_type": "code",
   "execution_count": 178,
   "metadata": {},
   "outputs": [
    {
     "data": {
      "text/html": [
       "<div>\n",
       "<style scoped>\n",
       "    .dataframe tbody tr th:only-of-type {\n",
       "        vertical-align: middle;\n",
       "    }\n",
       "\n",
       "    .dataframe tbody tr th {\n",
       "        vertical-align: top;\n",
       "    }\n",
       "\n",
       "    .dataframe thead th {\n",
       "        text-align: right;\n",
       "    }\n",
       "</style>\n",
       "<table border=\"1\" class=\"dataframe\">\n",
       "  <thead>\n",
       "    <tr style=\"text-align: right;\">\n",
       "      <th></th>\n",
       "      <th></th>\n",
       "      <th>SEQN</th>\n",
       "      <th>MCQ010</th>\n",
       "      <th>Year</th>\n",
       "    </tr>\n",
       "  </thead>\n",
       "  <tbody>\n",
       "    <tr>\n",
       "      <th>1999-2000</th>\n",
       "      <th>0</th>\n",
       "      <td>1.0</td>\n",
       "      <td>2.0</td>\n",
       "      <td>1999-2000</td>\n",
       "    </tr>\n",
       "  </tbody>\n",
       "</table>\n",
       "</div>"
      ],
      "text/plain": [
       "             SEQN  MCQ010       Year\n",
       "1999-2000 0   1.0     2.0  1999-2000"
      ]
     },
     "execution_count": 178,
     "metadata": {},
     "output_type": "execute_result"
    }
   ],
   "source": [
    "result_1999_2018[:1]"
   ]
  },
  {
   "cell_type": "code",
   "execution_count": 179,
   "metadata": {},
   "outputs": [
    {
     "data": {
      "text/plain": [
       "96811"
      ]
     },
     "execution_count": 179,
     "metadata": {},
     "output_type": "execute_result"
    }
   ],
   "source": [
    "len(result_1999_2018)"
   ]
  },
  {
   "cell_type": "markdown",
   "metadata": {},
   "source": [
    "## Remove missing values:"
   ]
  },
  {
   "cell_type": "code",
   "execution_count": 180,
   "metadata": {},
   "outputs": [],
   "source": [
    "drop_rows(result_1999_2018_cleaned, col_names[1], [np.nan, 7, 9])"
   ]
  },
  {
   "cell_type": "markdown",
   "metadata": {},
   "source": [
    "## See if missing values have been correctly removed:"
   ]
  },
  {
   "cell_type": "code",
   "execution_count": 181,
   "metadata": {
    "scrolled": true
   },
   "outputs": [
    {
     "name": "stdout",
     "output_type": "stream",
     "text": [
      "MCQ010\n",
      "1.0    13773\n",
      "2.0    82923\n",
      "Name: SEQN, dtype: int64 \n",
      "\n",
      " NaN:  0\n"
     ]
    }
   ],
   "source": [
    "count_vals(result_1999_2018_cleaned, col_names[1])"
   ]
  },
  {
   "cell_type": "code",
   "execution_count": 182,
   "metadata": {},
   "outputs": [
    {
     "data": {
      "text/plain": [
       "96811"
      ]
     },
     "execution_count": 182,
     "metadata": {},
     "output_type": "execute_result"
    }
   ],
   "source": [
    "before = len(result_1999_2018)\n",
    "before"
   ]
  },
  {
   "cell_type": "code",
   "execution_count": 183,
   "metadata": {},
   "outputs": [
    {
     "data": {
      "text/plain": [
       "96696"
      ]
     },
     "execution_count": 183,
     "metadata": {},
     "output_type": "execute_result"
    }
   ],
   "source": [
    "after = len(result_1999_2018_cleaned)\n",
    "after"
   ]
  },
  {
   "cell_type": "code",
   "execution_count": 184,
   "metadata": {
    "scrolled": true
   },
   "outputs": [
    {
     "data": {
      "text/plain": [
       "0.0011892942831140895"
      ]
     },
     "execution_count": 184,
     "metadata": {},
     "output_type": "execute_result"
    }
   ],
   "source": [
    "(before-after)/after"
   ]
  },
  {
   "cell_type": "markdown",
   "metadata": {},
   "source": [
    "## MongoDB Insertion"
   ]
  },
  {
   "cell_type": "code",
   "execution_count": 185,
   "metadata": {},
   "outputs": [],
   "source": [
    "#Import MongoClient\n",
    "from pymongo import MongoClient\n",
    "\n",
    "#Create a MongoClient to run the MongoDB instance\n",
    "client = MongoClient('localhost', 27017)"
   ]
  },
  {
   "cell_type": "code",
   "execution_count": 186,
   "metadata": {},
   "outputs": [],
   "source": [
    "#Connect to existing datbase\n",
    "db = client.NHANES"
   ]
  },
  {
   "cell_type": "code",
   "execution_count": 187,
   "metadata": {},
   "outputs": [
    {
     "data": {
      "text/plain": [
       "Database(MongoClient(host=['localhost:27017'], document_class=dict, tz_aware=False, connect=True), 'NHANES')"
      ]
     },
     "execution_count": 187,
     "metadata": {},
     "output_type": "execute_result"
    }
   ],
   "source": [
    "db"
   ]
  },
  {
   "cell_type": "code",
   "execution_count": 188,
   "metadata": {},
   "outputs": [
    {
     "data": {
      "text/plain": [
       "['hiq',\n",
       " 'alq',\n",
       " 'drxtot',\n",
       " 'bpq',\n",
       " 'bmx',\n",
       " 'huq',\n",
       " 'bpx',\n",
       " 'demo_p',\n",
       " 'mcq_a',\n",
       " 'demo',\n",
       " 'diq']"
      ]
     },
     "execution_count": 188,
     "metadata": {},
     "output_type": "execute_result"
    }
   ],
   "source": [
    "db.list_collection_names()"
   ]
  },
  {
   "cell_type": "code",
   "execution_count": 189,
   "metadata": {},
   "outputs": [],
   "source": [
    "#Create collection in database\n",
    "mcq_a = db.mcq_a"
   ]
  },
  {
   "cell_type": "code",
   "execution_count": 190,
   "metadata": {},
   "outputs": [],
   "source": [
    "#If collections exist, then drop\n",
    "if 'mcq_a' in db.list_collection_names():\n",
    "    mcq_a.drop()\n",
    "    db.list_collection_names()\n",
    "else:\n",
    "    print(\"Collections doesn't exist yet\")"
   ]
  },
  {
   "cell_type": "markdown",
   "metadata": {},
   "source": [
    "## Create new collection to input into database"
   ]
  },
  {
   "cell_type": "code",
   "execution_count": 191,
   "metadata": {},
   "outputs": [
    {
     "data": {
      "text/html": [
       "<div>\n",
       "<style scoped>\n",
       "    .dataframe tbody tr th:only-of-type {\n",
       "        vertical-align: middle;\n",
       "    }\n",
       "\n",
       "    .dataframe tbody tr th {\n",
       "        vertical-align: top;\n",
       "    }\n",
       "\n",
       "    .dataframe thead th {\n",
       "        text-align: right;\n",
       "    }\n",
       "</style>\n",
       "<table border=\"1\" class=\"dataframe\">\n",
       "  <thead>\n",
       "    <tr style=\"text-align: right;\">\n",
       "      <th></th>\n",
       "      <th></th>\n",
       "      <th>SEQN</th>\n",
       "      <th>MCQ010</th>\n",
       "      <th>Year</th>\n",
       "    </tr>\n",
       "  </thead>\n",
       "  <tbody>\n",
       "    <tr>\n",
       "      <th rowspan=\"3\" valign=\"top\">1999-2000</th>\n",
       "      <th>0</th>\n",
       "      <td>1.0</td>\n",
       "      <td>2.0</td>\n",
       "      <td>1999-2000</td>\n",
       "    </tr>\n",
       "    <tr>\n",
       "      <th>1</th>\n",
       "      <td>2.0</td>\n",
       "      <td>2.0</td>\n",
       "      <td>1999-2000</td>\n",
       "    </tr>\n",
       "    <tr>\n",
       "      <th>2</th>\n",
       "      <td>3.0</td>\n",
       "      <td>2.0</td>\n",
       "      <td>1999-2000</td>\n",
       "    </tr>\n",
       "  </tbody>\n",
       "</table>\n",
       "</div>"
      ],
      "text/plain": [
       "             SEQN  MCQ010       Year\n",
       "1999-2000 0   1.0     2.0  1999-2000\n",
       "          1   2.0     2.0  1999-2000\n",
       "          2   3.0     2.0  1999-2000"
      ]
     },
     "execution_count": 191,
     "metadata": {},
     "output_type": "execute_result"
    }
   ],
   "source": [
    "result_1999_2018_cleaned[:3]"
   ]
  },
  {
   "cell_type": "code",
   "execution_count": 192,
   "metadata": {},
   "outputs": [],
   "source": [
    "#Set SEQN as _id (Primary Key)\n",
    "result_1999_2018_cleaned.rename(columns={'SEQN':'_id'}, inplace=True)"
   ]
  },
  {
   "cell_type": "code",
   "execution_count": 193,
   "metadata": {},
   "outputs": [],
   "source": [
    "#Dataframe to dictionary\n",
    "mcq_a_dict = result_1999_2018_cleaned.to_dict(orient='records')"
   ]
  },
  {
   "cell_type": "code",
   "execution_count": 194,
   "metadata": {},
   "outputs": [
    {
     "data": {
      "text/plain": [
       "{'_id': 1.0, 'MCQ010': 2.0, 'Year': '1999-2000'}"
      ]
     },
     "execution_count": 194,
     "metadata": {},
     "output_type": "execute_result"
    }
   ],
   "source": [
    "mcq_a_dict[0]"
   ]
  },
  {
   "cell_type": "code",
   "execution_count": 195,
   "metadata": {},
   "outputs": [
    {
     "data": {
      "text/plain": [
       "<pymongo.results.InsertManyResult at 0x1203e0910>"
      ]
     },
     "execution_count": 195,
     "metadata": {},
     "output_type": "execute_result"
    }
   ],
   "source": [
    "#Insert collection \n",
    "mcq_a.insert_many(mcq_a_dict)"
   ]
  },
  {
   "cell_type": "code",
   "execution_count": 196,
   "metadata": {},
   "outputs": [
    {
     "data": {
      "text/plain": [
       "['hiq',\n",
       " 'alq',\n",
       " 'drxtot',\n",
       " 'bpq',\n",
       " 'bmx',\n",
       " 'huq',\n",
       " 'bpx',\n",
       " 'demo_p',\n",
       " 'mcq_a',\n",
       " 'demo',\n",
       " 'diq']"
      ]
     },
     "execution_count": 196,
     "metadata": {},
     "output_type": "execute_result"
    }
   ],
   "source": [
    "#View collections\n",
    "db.list_collection_names()"
   ]
  },
  {
   "cell_type": "code",
   "execution_count": 197,
   "metadata": {},
   "outputs": [],
   "source": [
    "# for m in mcq_a.find():\n",
    "#     print(m)"
   ]
  }
 ],
 "metadata": {
  "kernelspec": {
   "display_name": "Python 3",
   "language": "python",
   "name": "python3"
  },
  "language_info": {
   "codemirror_mode": {
    "name": "ipython",
    "version": 3
   },
   "file_extension": ".py",
   "mimetype": "text/x-python",
   "name": "python",
   "nbconvert_exporter": "python",
   "pygments_lexer": "ipython3",
   "version": "3.10.2"
  }
 },
 "nbformat": 4,
 "nbformat_minor": 2
}
